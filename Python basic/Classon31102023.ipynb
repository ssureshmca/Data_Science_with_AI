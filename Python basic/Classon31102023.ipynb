{
 "cells": [
  {
   "cell_type": "code",
   "execution_count": 2,
   "id": "b70d64b7",
   "metadata": {},
   "outputs": [],
   "source": [
    "def addition():\n",
    "    n1=10\n",
    "    n2=20\n",
    "    add=n1+n2\n",
    "    print(\"print\")"
   ]
  },
  {
   "cell_type": "code",
   "execution_count": 3,
   "id": "841c564d",
   "metadata": {},
   "outputs": [
    {
     "name": "stdout",
     "output_type": "stream",
     "text": [
      "print\n"
     ]
    }
   ],
   "source": [
    "addition()"
   ]
  },
  {
   "cell_type": "code",
   "execution_count": 6,
   "id": "61736685",
   "metadata": {},
   "outputs": [
    {
     "name": "stdout",
     "output_type": "stream",
     "text": [
      "Enter a number1: 2\n",
      "Enter a number2: 3\n",
      "Enter a number3: 4\n",
      "the average of 2,3 and 4 is 3.0\n"
     ]
    }
   ],
   "source": [
    "def average():\n",
    "    try:\n",
    "        n1=eval(input(\"Enter a number1: \"))\n",
    "        n2=eval(input(\"Enter a number2: \"))\n",
    "        n3=eval(input(\"Enter a number3: \"))\n",
    "        avg=(n1+n2+n3)/3\n",
    "        print(\"the average of {},{} and {} is {}\".format(n1,n2,n3,avg))\n",
    "    except Exception as e:\n",
    "        print(e)\n",
    "\n",
    "average()"
   ]
  },
  {
   "cell_type": "code",
   "execution_count": 7,
   "id": "675aae1d",
   "metadata": {},
   "outputs": [
    {
     "name": "stdout",
     "output_type": "stream",
     "text": [
      "Enter the Bill Amount: 100\n",
      "Enter the tip Amount: 20\n",
      "The Total bill is : 120\n"
     ]
    }
   ],
   "source": [
    "def totalbillamount():\n",
    "    try:\n",
    "        bill=eval(input(\"Enter the Bill Amount: \"))\n",
    "        tip=eval(input(\"Enter the tip Amount: \"))\n",
    "        total=bill+tip\n",
    "        print(\"The Total bill is :\",total)\n",
    "    except Exception as e:\n",
    "        print(e)\n",
    "\n",
    "totalbillamount()"
   ]
  },
  {
   "cell_type": "code",
   "execution_count": 9,
   "id": "fbeff4f6",
   "metadata": {},
   "outputs": [
    {
     "name": "stdout",
     "output_type": "stream",
     "text": [
      "10 is even number\n"
     ]
    }
   ],
   "source": [
    "import random\n",
    "def getevenorodd():\n",
    "    try:\n",
    "        num=random.randint(1,100)\n",
    "        if num%2==0:\n",
    "            print(\"{} is even number\".format(num))\n",
    "        else:\n",
    "            print(\"{} is odd number\".format(num))\n",
    "    except Exception as e:\n",
    "        print(e)\n",
    "\n",
    "getevenorodd()"
   ]
  },
  {
   "cell_type": "code",
   "execution_count": null,
   "id": "25558f12",
   "metadata": {},
   "outputs": [],
   "source": []
  },
  {
   "cell_type": "code",
   "execution_count": null,
   "id": "1fb60797",
   "metadata": {},
   "outputs": [],
   "source": []
  },
  {
   "cell_type": "code",
   "execution_count": null,
   "id": "ee4deb5e",
   "metadata": {},
   "outputs": [],
   "source": []
  },
  {
   "cell_type": "code",
   "execution_count": null,
   "id": "ed348adf",
   "metadata": {},
   "outputs": [],
   "source": []
  }
 ],
 "metadata": {
  "kernelspec": {
   "display_name": "Python 3 (ipykernel)",
   "language": "python",
   "name": "python3"
  },
  "language_info": {
   "codemirror_mode": {
    "name": "ipython",
    "version": 3
   },
   "file_extension": ".py",
   "mimetype": "text/x-python",
   "name": "python",
   "nbconvert_exporter": "python",
   "pygments_lexer": "ipython3",
   "version": "3.11.5"
  }
 },
 "nbformat": 4,
 "nbformat_minor": 5
}
