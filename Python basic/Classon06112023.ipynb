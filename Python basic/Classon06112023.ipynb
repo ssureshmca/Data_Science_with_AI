{
 "cells": [
  {
   "cell_type": "code",
   "execution_count": 2,
   "id": "47581767",
   "metadata": {},
   "outputs": [
    {
     "name": "stdout",
     "output_type": "stream",
     "text": [
      "Hello\n",
      "Hello\n",
      "Hello\n"
     ]
    }
   ],
   "source": [
    "for i in range(1,4):\n",
    "    print(\"Hello\")\n"
   ]
  },
  {
   "cell_type": "code",
   "execution_count": 3,
   "id": "c3adec00",
   "metadata": {},
   "outputs": [
    {
     "name": "stdout",
     "output_type": "stream",
     "text": [
      "hi\n",
      "Hello\n",
      "Hello\n",
      "Hello\n",
      "how do you do\n"
     ]
    }
   ],
   "source": [
    "print(\"hi\")\n",
    "for i in range(1,4):\n",
    "    print(\"Hello\")\n",
    "print(\"how do you do\")"
   ]
  },
  {
   "cell_type": "code",
   "execution_count": 4,
   "id": "2aaa6c0b",
   "metadata": {},
   "outputs": [
    {
     "name": "stdout",
     "output_type": "stream",
     "text": [
      "A\n",
      "A\n",
      "A\n",
      "B\n",
      "B\n",
      "C\n",
      "C\n",
      "C\n"
     ]
    }
   ],
   "source": [
    "for i in range(8):\n",
    "    if i<3:\n",
    "        print(\"A\")\n",
    "    elif i>2 and i<5:\n",
    "        print(\"B\")\n",
    "    else:\n",
    "        print(\"C\")"
   ]
  },
  {
   "cell_type": "code",
   "execution_count": 5,
   "id": "578d0aee",
   "metadata": {},
   "outputs": [
    {
     "ename": "NameError",
     "evalue": "name 'A' is not defined",
     "output_type": "error",
     "traceback": [
      "\u001b[1;31m---------------------------------------------------------------------------\u001b[0m",
      "\u001b[1;31mNameError\u001b[0m                                 Traceback (most recent call last)",
      "Cell \u001b[1;32mIn[5], line 1\u001b[0m\n\u001b[1;32m----> 1\u001b[0m A\n\u001b[0;32m      2\u001b[0m B\n\u001b[0;32m      3\u001b[0m A\n",
      "\u001b[1;31mNameError\u001b[0m: name 'A' is not defined"
     ]
    }
   ],
   "source": [
    "A\n",
    "B\n",
    "A\n",
    "B\n",
    "A\n",
    "B\n",
    "C\n",
    "C\n",
    "C\n"
   ]
  },
  {
   "cell_type": "code",
   "execution_count": 6,
   "id": "cc4a4b9e",
   "metadata": {},
   "outputs": [
    {
     "name": "stdout",
     "output_type": "stream",
     "text": [
      "A\n",
      "B\n",
      "A\n",
      "B\n",
      "A\n",
      "B\n",
      "C\n",
      "C\n",
      "C\n"
     ]
    }
   ],
   "source": [
    "for i in range(3):\n",
    "    print(\"A\")\n",
    "    print(\"B\")\n",
    "for i in range(3):\n",
    "    print(\"C\")"
   ]
  },
  {
   "cell_type": "code",
   "execution_count": 9,
   "id": "b677d693",
   "metadata": {},
   "outputs": [
    {
     "name": "stdout",
     "output_type": "stream",
     "text": [
      "Enter the number1: 10\n",
      "Enter the number2: 16\n",
      "the square of 10 is 100\n",
      "the square of 11 is 121\n",
      "the square of 12 is 144\n",
      "the square of 13 is 169\n",
      "the square of 14 is 196\n",
      "the square of 15 is 225\n"
     ]
    }
   ],
   "source": [
    "num=eval(input(\"Enter the number1: \"))\n",
    "num1=eval(input(\"Enter the number2: \"))\n",
    "for i in range(num,num1):\n",
    "    print(\"the square of {} is {}\".format(i,i*i))"
   ]
  },
  {
   "cell_type": "code",
   "execution_count": 10,
   "id": "c7509c19",
   "metadata": {},
   "outputs": [
    {
     "name": "stdout",
     "output_type": "stream",
     "text": [
      "Enter the start number1: 10\n",
      "Enter the stop number2: 16\n",
      "the square of 10 is 100\n",
      "the square of 11 is 121\n",
      "the square of 12 is 144\n",
      "the square of 13 is 169\n",
      "the square of 14 is 196\n",
      "the square of 15 is 225\n"
     ]
    }
   ],
   "source": [
    "def square():\n",
    "    num=eval(input(\"Enter the start number1: \"))\n",
    "    num1=eval(input(\"Enter the stop number2: \"))\n",
    "    for i in range(num,num1):\n",
    "        print(\"the square of {} is {}\".format(i,i*i))\n",
    "        \n",
    "square()"
   ]
  },
  {
   "cell_type": "code",
   "execution_count": 12,
   "id": "2858b7e2",
   "metadata": {},
   "outputs": [
    {
     "name": "stdout",
     "output_type": "stream",
     "text": [
      "Enter the start number1: 10\n",
      "Enter the stop number2: 12\n",
      "the square of 10 is 100\n",
      "the square of 11 is 121\n"
     ]
    }
   ],
   "source": [
    "num=eval(input(\"Enter the start number1: \"))\n",
    "num1=eval(input(\"Enter the stop number2: \"))\n",
    "\n",
    "def square(num,num1):    \n",
    "    for i in range(num,num1):\n",
    "        print(\"the square of {} is {}\".format(i,i*i))\n",
    "        \n",
    "square(num,num1)"
   ]
  },
  {
   "cell_type": "code",
   "execution_count": 13,
   "id": "821f380d",
   "metadata": {},
   "outputs": [
    {
     "name": "stdout",
     "output_type": "stream",
     "text": [
      "the number 10 is even\n",
      "the number 11 is odd\n",
      "the number 12 is even\n",
      "the number 13 is odd\n",
      "the number 14 is even\n",
      "the number 15 is odd\n",
      "the number 16 is even\n",
      "the number 17 is odd\n",
      "the number 18 is even\n",
      "the number 19 is odd\n",
      "the number 20 is even\n",
      "the number 21 is odd\n",
      "the number 22 is even\n",
      "the number 23 is odd\n",
      "the number 24 is even\n",
      "the number 25 is odd\n",
      "the number 26 is even\n",
      "the number 27 is odd\n",
      "the number 28 is even\n",
      "the number 29 is odd\n"
     ]
    }
   ],
   "source": [
    "for i in range(10,30):\n",
    "    if i%2==0:\n",
    "        print(\"the number {} is even\".format(i))\n",
    "    else:\n",
    "        print(\"the number {} is odd\".format(i))"
   ]
  },
  {
   "cell_type": "code",
   "execution_count": 15,
   "id": "3fe0770d",
   "metadata": {},
   "outputs": [
    {
     "name": "stdout",
     "output_type": "stream",
     "text": [
      "Enter how many chances you want:3\n",
      "Enter the number between 1 to 10:4\n",
      "you lost\n",
      "The remining chances is 2\n",
      "=============================\n",
      "Enter the number between 1 to 10:4\n",
      "you lost\n",
      "The remining chances is 1\n",
      "=============================\n",
      "Enter the number between 1 to 10:4\n",
      "you lost\n",
      "all chances are over\n",
      "Pls try again\n"
     ]
    }
   ],
   "source": [
    "import random\n",
    "random_num=random.randint(1,10)\n",
    "chances=eval(input(\"Enter how many chances you want: \"))\n",
    "for i in range(chances):\n",
    "    user_num=eval(input(\"Enter the number between 1 to 10: \"))\n",
    "    if user_num==random_num:\n",
    "        print(\"you won\")\n",
    "        break\n",
    "    elif chances-1-i==0:\n",
    "        print(\"you lost\")\n",
    "        print(\"all chances are over\")\n",
    "        print(\"Pls try again\")\n",
    "    else:\n",
    "        print(\"you lost\")\n",
    "        print(\"The remining chances is\",chances-1-i)\n",
    "        print(\"=============================\")"
   ]
  },
  {
   "cell_type": "code",
   "execution_count": null,
   "id": "deb0e4a1",
   "metadata": {},
   "outputs": [],
   "source": []
  }
 ],
 "metadata": {
  "kernelspec": {
   "display_name": "Python 3 (ipykernel)",
   "language": "python",
   "name": "python3"
  },
  "language_info": {
   "codemirror_mode": {
    "name": "ipython",
    "version": 3
   },
   "file_extension": ".py",
   "mimetype": "text/x-python",
   "name": "python",
   "nbconvert_exporter": "python",
   "pygments_lexer": "ipython3",
   "version": "3.11.5"
  }
 },
 "nbformat": 4,
 "nbformat_minor": 5
}
