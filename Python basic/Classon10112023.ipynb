{
 "cells": [
  {
   "cell_type": "code",
   "execution_count": 1,
   "id": "9d1f92b9",
   "metadata": {},
   "outputs": [
    {
     "name": "stdout",
     "output_type": "stream",
     "text": [
      "the index of p is 0\n",
      "the index of y is 1\n",
      "the index of t is 2\n",
      "the index of h is 3\n",
      "the index of o is 4\n",
      "the index of n is 5\n"
     ]
    }
   ],
   "source": [
    "string1='python'\n",
    "\n",
    "for i in range(len(string1)):\n",
    "    print(\"the index of {} is {}\".format(string1[i],i))"
   ]
  },
  {
   "cell_type": "code",
   "execution_count": 3,
   "id": "5df92f0f",
   "metadata": {},
   "outputs": [
    {
     "name": "stdout",
     "output_type": "stream",
     "text": [
      "the index of p is -6\n",
      "the index of y is -5\n",
      "the index of t is -4\n",
      "the index of h is -3\n",
      "the index of o is -2\n",
      "the index of n is -1\n"
     ]
    }
   ],
   "source": [
    "for i in range(-len(string1),0):\n",
    "    print(\"the index of {} is {}\".format(string1[i],i))"
   ]
  },
  {
   "cell_type": "code",
   "execution_count": 9,
   "id": "d24a4c93",
   "metadata": {},
   "outputs": [
    {
     "name": "stdout",
     "output_type": "stream",
     "text": [
      "the postive index is 0 and nagative index is -6 for a letter p\n",
      "the postive index is 1 and nagative index is -5 for a letter y\n",
      "the postive index is 2 and nagative index is -4 for a letter t\n",
      "the postive index is 3 and nagative index is -3 for a letter h\n",
      "the postive index is 4 and nagative index is -2 for a letter o\n",
      "the postive index is 5 and nagative index is -1 for a letter n\n"
     ]
    }
   ],
   "source": [
    "for i in range(len(string1)):\n",
    "    print(\"the postive index is {} and nagative index is {} for a letter {}\".format(i,i-6,string1[i]))"
   ]
  },
  {
   "cell_type": "code",
   "execution_count": 13,
   "id": "d5a32158",
   "metadata": {},
   "outputs": [
    {
     "name": "stdout",
     "output_type": "stream",
     "text": [
      "the postive index of p is 0\n",
      "the postive index of y is 1\n",
      "the postive index of t is 2\n",
      "the postive index of h is 3\n",
      "the postive index of o is 4\n",
      "the postive index of n is 5\n"
     ]
    }
   ],
   "source": [
    "for i in range(-len(string1),0):\n",
    "    print(\"the postive index of {} is {}\".format(string1[i],i+6))"
   ]
  },
  {
   "cell_type": "code",
   "execution_count": 14,
   "id": "4cc4671f",
   "metadata": {},
   "outputs": [
    {
     "name": "stdout",
     "output_type": "stream",
     "text": [
      "the postive index of p is -6\n",
      "the postive index of y is -5\n",
      "the postive index of t is -4\n",
      "the postive index of h is -3\n",
      "the postive index of o is -2\n",
      "the postive index of n is -1\n"
     ]
    }
   ],
   "source": [
    "for i in range(-len(string1),0):\n",
    "    print(\"the postive index of {} is {}\".format(string1[i],i))"
   ]
  },
  {
   "cell_type": "code",
   "execution_count": 15,
   "id": "41361874",
   "metadata": {},
   "outputs": [
    {
     "name": "stdout",
     "output_type": "stream",
     "text": [
      "the postive index is 0 and nagative index is -6 for a letter p\n",
      "the postive index is 1 and nagative index is -5 for a letter y\n",
      "the postive index is 2 and nagative index is -4 for a letter t\n",
      "the postive index is 3 and nagative index is -3 for a letter h\n",
      "the postive index is 4 and nagative index is -2 for a letter o\n",
      "the postive index is 5 and nagative index is -1 for a letter n\n"
     ]
    }
   ],
   "source": [
    "for i in range(-len(string1),0):\n",
    "    print(\"the postive index is {} and nagative index is {} for a letter {}\".format(i+6,i,string1[i]))"
   ]
  },
  {
   "cell_type": "code",
   "execution_count": 18,
   "id": "343865a8",
   "metadata": {},
   "outputs": [
    {
     "name": "stdout",
     "output_type": "stream",
     "text": [
      "the index of p is 0\n",
      "the index of y is 1\n",
      "the index of t is 2\n",
      "the index of h is 3\n",
      "the index of o is 4\n",
      "the index of n is 5\n"
     ]
    }
   ],
   "source": [
    "i=0\n",
    "strlen=len(string1)\n",
    "while i<strlen:\n",
    "    print(\"the index of {} is {}\".format(string1[i],i))\n",
    "    i+=1"
   ]
  },
  {
   "cell_type": "code",
   "execution_count": 20,
   "id": "de618563",
   "metadata": {},
   "outputs": [
    {
     "name": "stdout",
     "output_type": "stream",
     "text": [
      "the postive index is 0 and nagative index is -6 for a letter p\n",
      "the postive index is 1 and nagative index is -5 for a letter y\n",
      "the postive index is 2 and nagative index is -4 for a letter t\n",
      "the postive index is 3 and nagative index is -3 for a letter h\n",
      "the postive index is 4 and nagative index is -2 for a letter o\n",
      "the postive index is 5 and nagative index is -1 for a letter n\n"
     ]
    }
   ],
   "source": [
    "i=0\n",
    "strlen=len(string1)\n",
    "while i<strlen:\n",
    "    print(\"the postive index is {} and nagative index is {} for a letter {}\".format(i,i-strlen,string1[i]))\n",
    "    i+=1"
   ]
  },
  {
   "cell_type": "code",
   "execution_count": 21,
   "id": "f448e15b",
   "metadata": {},
   "outputs": [
    {
     "name": "stdout",
     "output_type": "stream",
     "text": [
      "3\n"
     ]
    }
   ],
   "source": [
    "string1='hai how are you'\n",
    "count=1\n",
    "for i in string1:\n",
    "    if i=='a':\n",
    "        count+=1\n",
    "print(count)"
   ]
  },
  {
   "cell_type": "code",
   "execution_count": 25,
   "id": "fd7634ce",
   "metadata": {},
   "outputs": [
    {
     "data": {
      "text/plain": [
       "''"
      ]
     },
     "execution_count": 25,
     "metadata": {},
     "output_type": "execute_result"
    }
   ],
   "source": [
    "string1[-2:-14:2]"
   ]
  },
  {
   "cell_type": "code",
   "execution_count": 26,
   "id": "c7075bf8",
   "metadata": {},
   "outputs": [
    {
     "data": {
      "text/plain": [
       "'o r o '"
      ]
     },
     "execution_count": 26,
     "metadata": {},
     "output_type": "execute_result"
    }
   ],
   "source": [
    "string1[-2:-14:-2]"
   ]
  },
  {
   "cell_type": "code",
   "execution_count": null,
   "id": "490e5192",
   "metadata": {},
   "outputs": [],
   "source": [
    "string1."
   ]
  }
 ],
 "metadata": {
  "kernelspec": {
   "display_name": "Python 3 (ipykernel)",
   "language": "python",
   "name": "python3"
  },
  "language_info": {
   "codemirror_mode": {
    "name": "ipython",
    "version": 3
   },
   "file_extension": ".py",
   "mimetype": "text/x-python",
   "name": "python",
   "nbconvert_exporter": "python",
   "pygments_lexer": "ipython3",
   "version": "3.11.5"
  }
 },
 "nbformat": 4,
 "nbformat_minor": 5
}
