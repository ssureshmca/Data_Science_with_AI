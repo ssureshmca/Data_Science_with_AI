{
 "cells": [
  {
   "cell_type": "code",
   "execution_count": 3,
   "id": "e2887e0d",
   "metadata": {},
   "outputs": [
    {
     "data": {
      "text/plain": [
       "{'ram': 25, 'raheem': 30, 'robert': 35}"
      ]
     },
     "execution_count": 3,
     "metadata": {},
     "output_type": "execute_result"
    }
   ],
   "source": [
    "d1={'ram':25,'raheem':30,'robert':35}\n",
    "keys=list(d1.keys())\n",
    "values=list(d1.values())\n",
    "\n",
    "dict1={key:value for key,value in zip(keys,values)}\n",
    "dict1"
   ]
  },
  {
   "cell_type": "code",
   "execution_count": 16,
   "id": "db2c6582",
   "metadata": {},
   "outputs": [
    {
     "data": {
      "text/plain": [
       "{'first_name': ['virat', 'rohit', 'kl'],\n",
       " 'second_name': ['kohli', 'sharma', 'rahul'],\n",
       " 'company': ['blr', 'mumbai', 'lucknow']}"
      ]
     },
     "execution_count": 16,
     "metadata": {},
     "output_type": "execute_result"
    }
   ],
   "source": [
    "s1='virat.kohli@blr.com,rohit.sharma@mumbai.com,kl.rahul@lucknow.com'\n",
    "l1=s1.split(',')\n",
    "first_name=[]\n",
    "second_name=[]\n",
    "company=[]\n",
    "d2={}\n",
    "for i in l1:\n",
    "    #print(i)\n",
    "    first_name.append(i[0:i.find('.')])\n",
    "    second_name.append(i[i.find('.')+1:i.find('@')])\n",
    "    company.append(i[i.find('@')+1:i.find('.',i.find('.')+1)])\n",
    "    \n",
    "d2['first_name']=first_namea\n",
    "d2['second_name']=second_name\n",
    "d2['company']=company\n",
    "d2"
   ]
  },
  {
   "cell_type": "code",
   "execution_count": 20,
   "id": "afb82f40",
   "metadata": {},
   "outputs": [
    {
     "name": "stdout",
     "output_type": "stream",
     "text": [
      "['virat', 'rohit', 'kl'] ['kohli', 'sharma', 'rahul'] ['blr', 'mumbai', 'lucknow']\n"
     ]
    },
    {
     "data": {
      "text/plain": [
       "{'first_name': ['virat', 'rohit', 'kl'],\n",
       " 'second_name': ['kohli', 'sharma', 'rahul'],\n",
       " 'company': ['blr', 'mumbai', 'lucknow']}"
      ]
     },
     "execution_count": 20,
     "metadata": {},
     "output_type": "execute_result"
    }
   ],
   "source": [
    "f_name=[s1[:s1.find('.')] for s1 in s1.split(',')]\n",
    "s_name=[s1[s1.find('.')+1:s1.find('@')] for s1 in s1.split(',')]\n",
    "c_name=[s1[s1.find('@')+1:s1.find('.',s1.find('.')+1)] for s1 in s1.split(',')]\n",
    "print(f_name,s_name,c_name)\n",
    "d2['first_name']=f_name\n",
    "d2['second_name']=s_name\n",
    "d2['company']=c_name\n",
    "d2"
   ]
  },
  {
   "cell_type": "code",
   "execution_count": 27,
   "id": "0acda0d0",
   "metadata": {},
   "outputs": [
    {
     "data": {
      "text/plain": [
       "[4, 2, 2, 1, 1]"
      ]
     },
     "execution_count": 27,
     "metadata": {},
     "output_type": "execute_result"
    }
   ],
   "source": [
    "str1=\"can can you canner can you able to can canner\"\n",
    "\n",
    "d1={}\n",
    "for i in str1.split():    \n",
    "    d1[i]=l1.count(i)\n",
    "d1\n",
    "\n",
    "list(d1.keys())\n",
    "list(d1.values())"
   ]
  },
  {
   "cell_type": "code",
   "execution_count": 40,
   "id": "76210df2",
   "metadata": {},
   "outputs": [
    {
     "data": {
      "text/plain": [
       "{'a': 70, 'b': 130, 'c': 240}"
      ]
     },
     "execution_count": 40,
     "metadata": {},
     "output_type": "execute_result"
    }
   ],
   "source": [
    "d1={'a':20,'b':30,'c':40}\n",
    "d2={'a':50,'b':100,'c':200}\n",
    "d3={}\n",
    "for i in d1:\n",
    "    d3[i]=d1[i]+d2[i]\n",
    "d3"
   ]
  },
  {
   "cell_type": "code",
   "execution_count": 37,
   "id": "7f3546d6",
   "metadata": {},
   "outputs": [
    {
     "data": {
      "text/plain": [
       "{'a': 70, 'b': 130, 'c': 240}"
      ]
     },
     "execution_count": 37,
     "metadata": {},
     "output_type": "execute_result"
    }
   ],
   "source": [
    "if len(d1)==len(d2):\n",
    "    for i in d1:\n",
    "        d3[i]=d1[i]+d2[i]\n",
    "d3"
   ]
  },
  {
   "cell_type": "code",
   "execution_count": 47,
   "id": "e542a139",
   "metadata": {},
   "outputs": [
    {
     "data": {
      "text/plain": [
       "{'a': 70, 'b': 130, 'c': 240, 'd': 500}"
      ]
     },
     "execution_count": 47,
     "metadata": {},
     "output_type": "execute_result"
    }
   ],
   "source": [
    "d1={'a':20,'b':30,'c':40,'d':500}\n",
    "d2={'a':50,'b':100,'c':200}\n",
    "d3={}\n",
    "for i in range(min(len(d1),len(d2))):\n",
    "    d1[list(d1.keys())[i]]+=d2[list(d1.keys())[i]]\n",
    "d1"
   ]
  },
  {
   "cell_type": "code",
   "execution_count": 60,
   "id": "352dae58",
   "metadata": {},
   "outputs": [
    {
     "name": "stdout",
     "output_type": "stream",
     "text": [
      "50\n",
      "100\n",
      "200\n"
     ]
    },
    {
     "ename": "KeyError",
     "evalue": "'d'",
     "output_type": "error",
     "traceback": [
      "\u001b[1;31m---------------------------------------------------------------------------\u001b[0m",
      "\u001b[1;31mKeyError\u001b[0m                                  Traceback (most recent call last)",
      "Cell \u001b[1;32mIn[60], line 7\u001b[0m\n\u001b[0;32m      5\u001b[0m l1\u001b[38;5;241m=\u001b[39m\u001b[38;5;28mlist\u001b[39m(d1\u001b[38;5;241m.\u001b[39mkeys())\n\u001b[0;32m      6\u001b[0m \u001b[38;5;28;01mfor\u001b[39;00m i \u001b[38;5;129;01min\u001b[39;00m l1:\n\u001b[1;32m----> 7\u001b[0m     \u001b[38;5;28mprint\u001b[39m(d2[i])\n",
      "\u001b[1;31mKeyError\u001b[0m: 'd'"
     ]
    }
   ],
   "source": [
    "d1={'a':20,'b':30,'c':40,'d':500}\n",
    "d2={'a':50,'b':100,'c':200}\n",
    "d3={}\n",
    "\n",
    "l1=list(d1.keys())\n",
    "for i in l1:\n",
    "    \n",
    "    print(d2[i])\n",
    "\n",
    "    \n",
    "    \n",
    "    \n",
    "#if len(d1)==len(d2):\n",
    "#for i in range(len(d1)):\n",
    "#    print(i)\n",
    "\n",
    "\n",
    "\n",
    "\n",
    "\n",
    "\n",
    "#try:\n",
    "#    for i in d1:\n",
    "#        d1[i]+=d2[i]\n",
    "#except Exception as e:\n",
    "#    print()\n",
    "#d1\n"
   ]
  },
  {
   "cell_type": "code",
   "execution_count": null,
   "id": "9998af96",
   "metadata": {},
   "outputs": [],
   "source": []
  },
  {
   "cell_type": "code",
   "execution_count": null,
   "id": "0e7b510c",
   "metadata": {},
   "outputs": [],
   "source": []
  },
  {
   "cell_type": "code",
   "execution_count": null,
   "id": "975d9535",
   "metadata": {},
   "outputs": [],
   "source": []
  },
  {
   "cell_type": "code",
   "execution_count": null,
   "id": "2267a05a",
   "metadata": {},
   "outputs": [],
   "source": []
  }
 ],
 "metadata": {
  "kernelspec": {
   "display_name": "Python 3 (ipykernel)",
   "language": "python",
   "name": "python3"
  },
  "language_info": {
   "codemirror_mode": {
    "name": "ipython",
    "version": 3
   },
   "file_extension": ".py",
   "mimetype": "text/x-python",
   "name": "python",
   "nbconvert_exporter": "python",
   "pygments_lexer": "ipython3",
   "version": "3.11.5"
  }
 },
 "nbformat": 4,
 "nbformat_minor": 5
}
