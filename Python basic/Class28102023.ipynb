{
 "cells": [
  {
   "cell_type": "code",
   "execution_count": 1,
   "id": "825d8e36",
   "metadata": {},
   "outputs": [
    {
     "name": "stdout",
     "output_type": "stream",
     "text": [
      "won\n"
     ]
    }
   ],
   "source": [
    "name='python'\n",
    "if name=='python':\n",
    "    print(\"won\")\n",
    "else:\n",
    "    print('lost')\n",
    "    "
   ]
  },
  {
   "cell_type": "code",
   "execution_count": 5,
   "id": "c659fac4",
   "metadata": {},
   "outputs": [
    {
     "name": "stdout",
     "output_type": "stream",
     "text": [
      "Enter the number:ww\n",
      "name 'ww' is not defined\n"
     ]
    }
   ],
   "source": [
    "try:\n",
    "    num1=eval(input(\"Enter the number:\"))\n",
    "    if(num1%2==0):\n",
    "        print(\"The {} is even number\".format(num1))\n",
    "    else:\n",
    "        print(\"The {} is odd number\".format(num1))\n",
    "except Exception as e:\n",
    "    print(e)"
   ]
  },
  {
   "cell_type": "code",
   "execution_count": null,
   "id": "2231445d",
   "metadata": {},
   "outputs": [],
   "source": [
    "import random\n",
    "try:\n",
    "    num1=random.randint(1,50)\n",
    "    if(num1%2==0):\n",
    "        print(\"The {} is even number\".format(num1))\n",
    "    else:\n",
    "        print(\"The {} is odd number\".format(num1))\n",
    "except Exception as e:\n",
    "    print(e)"
   ]
  },
  {
   "cell_type": "code",
   "execution_count": 6,
   "id": "9c8b3a66",
   "metadata": {},
   "outputs": [
    {
     "data": {
      "text/plain": [
       "38"
      ]
     },
     "execution_count": 6,
     "metadata": {},
     "output_type": "execute_result"
    }
   ],
   "source": [
    "import random\n",
    "random.randint(1,50)"
   ]
  },
  {
   "cell_type": "code",
   "execution_count": null,
   "id": "ce03bbd6",
   "metadata": {},
   "outputs": [],
   "source": [
    "import random\n",
    "try:\n",
    "    num1=random.randint(1,200)\n",
    "    if(num>=10 and num<=99):\n",
    "        print(\"you won\")\n",
    "    else:\n",
    "        print(\"you lost\")\n",
    "except Exception as e:\n",
    "    print(e)"
   ]
  },
  {
   "cell_type": "code",
   "execution_count": 9,
   "id": "99418d18",
   "metadata": {},
   "outputs": [
    {
     "data": {
      "text/plain": [
       "True"
      ]
     },
     "execution_count": 9,
     "metadata": {},
     "output_type": "execute_result"
    }
   ],
   "source": [
    "num=20\n",
    "num>1 and num<=20"
   ]
  },
  {
   "cell_type": "code",
   "execution_count": 11,
   "id": "7022765f",
   "metadata": {},
   "outputs": [
    {
     "name": "stdout",
     "output_type": "stream",
     "text": [
      "Enter a number-30\n",
      "It is a postive number\n"
     ]
    }
   ],
   "source": [
    "try:\n",
    "    num1=eval(input(\"Enter a number\"))\n",
    "    if(num>=0):\n",
    "        print(\"It is a postive number\")\n",
    "    else:\n",
    "        print(\"It is a negtaive number\")\n",
    "except Exception as e:\n",
    "    print(e)"
   ]
  },
  {
   "cell_type": "code",
   "execution_count": null,
   "id": "2f90e123",
   "metadata": {},
   "outputs": [],
   "source": [
    "try:\n",
    "    num1=eval(input(\"Enter a number\"))\n",
    "    if(num>0):\n",
    "        print(\"It is a postive number\")\n",
    "    else if(num<0):\n",
    "        print(\"It is a negtaive number\")\n",
    "    else:\n",
    "        print(\"It is a Zero number\")\n",
    "except Exception as e:\n",
    "    print(e)"
   ]
  },
  {
   "cell_type": "code",
   "execution_count": 19,
   "id": "8f1254d2",
   "metadata": {},
   "outputs": [
    {
     "name": "stdout",
     "output_type": "stream",
     "text": [
      "Enter the percentage of marks:20\n",
      "The given 20 percentage is D grad\n"
     ]
    }
   ],
   "source": [
    "try:\n",
    "    num1=eval(input(\"Enter the percentage of marks:\"))\n",
    "    if(num>90):\n",
    "        print(\"The given {} percentage is A grad\".format(num1))\n",
    "    elif(num<=70 and num>=90):\n",
    "        print(\"The given {} percentage is B grad\".format(num1))\n",
    "    elif(num<=50 and num>70):\n",
    "        print(\"The given {} percentage is C grad\".format(num1))\n",
    "    else:\n",
    "        print(\"The given {} percentage is D grad\".format(num1))\n",
    "except Exception as e:\n",
    "    print(e)"
   ]
  },
  {
   "cell_type": "code",
   "execution_count": 21,
   "id": "64d3db74",
   "metadata": {},
   "outputs": [
    {
     "name": "stdout",
     "output_type": "stream",
     "text": [
      "Enter the Percentage: 70\n",
      "B Grade\n"
     ]
    }
   ],
   "source": [
    "per=eval(input(\"Enter the Percentage: \"))\n",
    "if per>90:\n",
    "    print(\"A Grade\")\n",
    "elif per>=70:\n",
    "    print(\"B Grade\")\n",
    "elif per>=50:\n",
    "    print(\"C Grade\")\n",
    "else:\n",
    "    print(\"D Grade\")"
   ]
  },
  {
   "cell_type": "code",
   "execution_count": 22,
   "id": "204b1c40",
   "metadata": {},
   "outputs": [
    {
     "name": "stdout",
     "output_type": "stream",
     "text": [
      "Enter your Age: 40\n",
      "The given age 40 is MA\n"
     ]
    }
   ],
   "source": [
    "age=eval(input(\"Enter your Age: \"))\n",
    "if age>60:\n",
    "    print(\"The given age {} is SC\".format(age))\n",
    "elif age>=45:\n",
    "    print(\"The given age {} is aged\".format(age))\n",
    "elif age>=20:\n",
    "    print(\"The given age {} is MA\".format(age))\n",
    "elif age>=13:\n",
    "    print(\"The given age {} is Teenage\".format(age))\n",
    "else:\n",
    "    print(\"The given age {} is Child\".format(age))"
   ]
  },
  {
   "cell_type": "code",
   "execution_count": null,
   "id": "8aeb9003",
   "metadata": {},
   "outputs": [],
   "source": []
  }
 ],
 "metadata": {
  "kernelspec": {
   "display_name": "Python 3 (ipykernel)",
   "language": "python",
   "name": "python3"
  },
  "language_info": {
   "codemirror_mode": {
    "name": "ipython",
    "version": 3
   },
   "file_extension": ".py",
   "mimetype": "text/x-python",
   "name": "python",
   "nbconvert_exporter": "python",
   "pygments_lexer": "ipython3",
   "version": "3.11.5"
  }
 },
 "nbformat": 4,
 "nbformat_minor": 5
}
