{
 "cells": [
  {
   "cell_type": "code",
   "execution_count": 14,
   "id": "f2d8f0da",
   "metadata": {},
   "outputs": [
    {
     "name": "stdout",
     "output_type": "stream",
     "text": [
      "10\n"
     ]
    },
    {
     "data": {
      "text/plain": [
       "[100, 130]"
      ]
     },
     "execution_count": 14,
     "metadata": {},
     "output_type": "execute_result"
    }
   ],
   "source": [
    "arr=[100,10,130]\n",
    "maxval=arr[0]\n",
    "for i in arr:\n",
    "    #print(i)\n",
    "    if i < maxval:\n",
    "        maxval=i\n",
    "print(maxval)\n",
    "\n",
    "maxval=0\n",
    "[maxval:=i for i in arr if i>maxval]"
   ]
  },
  {
   "cell_type": "code",
   "execution_count": 31,
   "id": "0222443b",
   "metadata": {},
   "outputs": [
    {
     "name": "stdout",
     "output_type": "stream",
     "text": [
      "Enter the current acount amount: 1000\n",
      "Enter the e-wallet amount: 2000\n",
      "0\n",
      "\n",
      "You have a current account is Rs. 1000 and e-wallet is Rs. 2000 with you...\n",
      "Guess the number: 8\n",
      "Too high\n",
      "\n",
      "Withdraw the money from e-wallet: 2000\n",
      "\n",
      "You have a current account is Rs. 2500 and e-wallet is Rs. 0 with you...\n",
      "Guess the number: 3\n",
      "Too high\n",
      "\n",
      "You have a current account is Rs. 2000 and e-wallet is Rs. 0 with you...\n",
      "Guess the number: 2\n",
      "Too high\n",
      "\n",
      "You have a current account is Rs. 1500 and e-wallet is Rs. 0 with you...\n",
      "Guess the number: 0\n",
      "You have just won Rs. 3500 \n",
      "\n",
      "Your balance: Rs. 5000\n"
     ]
    }
   ],
   "source": [
    "import random\n",
    "randomnumber=random.randint(0,9)\n",
    "currentaccount=eval(input(\"Enter the current acount amount: \"))\n",
    "ewalletamount=eval(input(\"Enter the e-wallet amount: \"))\n",
    "print(randomnumber)\n",
    "count=0\n",
    "prize=5000\n",
    "while True:\n",
    "    if currentaccount<1000:\n",
    "        print(\"\")\n",
    "        if ewalletamount<=0:\n",
    "            print(\"The Game is over, because not enough money in e-wallet\")\n",
    "            break\n",
    "        else:\n",
    "            withdrawanount=eval(input(\"Withdraw the money from e-wallet: \"))\n",
    "            currentaccount+=withdrawanount\n",
    "            ewalletamount-=withdrawanount\n",
    "    else:\n",
    "        print(\"\")\n",
    "        print(\"You have a current account is Rs. {} and e-wallet is Rs. {} with you...\".format(currentaccount,ewalletamount))\n",
    "        userinput=eval(input(\"Guess the number: \"))\n",
    "        if userinput==randomnumber:\n",
    "            currentprize=prize-(count*500)\n",
    "            if currentprize<=500:\n",
    "                currentprize=500\n",
    "            currentaccount+=currentprize    \n",
    "            print(\"You have just won Rs. {} \".format(currentprize))\n",
    "            break\n",
    "        else:\n",
    "            currentaccount-=500\n",
    "            if randomnumber<userinput:\n",
    "                print(\"Too high\")\n",
    "            elif randomnumber>userinput:\n",
    "                print(\"Too low\")\n",
    "        count+=1\n",
    "print(\"\")\n",
    "print(\"Your balance: Rs.\",currentaccount)\n",
    "print(\"\")"
   ]
  },
  {
   "cell_type": "code",
   "execution_count": 27,
   "id": "e11f6b3b",
   "metadata": {},
   "outputs": [
    {
     "name": "stdout",
     "output_type": "stream",
     "text": [
      "2000\n"
     ]
    }
   ],
   "source": [
    "prize=5000\n",
    "count=6\n",
    "currentprize=prize-(count*500)\n",
    "if currentprize<=500:\n",
    "    currentprize=500\n",
    "\n",
    "print(currentprize)"
   ]
  },
  {
   "cell_type": "code",
   "execution_count": null,
   "id": "9a880796",
   "metadata": {},
   "outputs": [],
   "source": []
  }
 ],
 "metadata": {
  "kernelspec": {
   "display_name": "Python 3 (ipykernel)",
   "language": "python",
   "name": "python3"
  },
  "language_info": {
   "codemirror_mode": {
    "name": "ipython",
    "version": 3
   },
   "file_extension": ".py",
   "mimetype": "text/x-python",
   "name": "python",
   "nbconvert_exporter": "python",
   "pygments_lexer": "ipython3",
   "version": "3.11.5"
  }
 },
 "nbformat": 4,
 "nbformat_minor": 5
}
