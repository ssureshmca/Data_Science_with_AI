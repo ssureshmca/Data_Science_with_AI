{
 "cells": [
  {
   "cell_type": "code",
   "execution_count": 5,
   "id": "8ec8cf1f",
   "metadata": {},
   "outputs": [
    {
     "name": "stdout",
     "output_type": "stream",
     "text": [
      "Enter distance in km:5\n",
      "The 5km charge is 40rs\n"
     ]
    }
   ],
   "source": [
    "try:\n",
    "    km=eval(input(\"Enter distance in km:\"))\n",
    "    if km>=10:\n",
    "        print(\"The {}km charge is 100rs\".format(km))\n",
    "    elif km>=7:\n",
    "        print(\"The {}km charge is 70rs\".format(km))\n",
    "    elif km>=4:\n",
    "        print(\"The {}km charge is 40rs\".format(km))\n",
    "    else:\n",
    "        print(\"The {}km charge is 30rs\".format(km))\n",
    "except Exception as e:\n",
    "    print(e)"
   ]
  },
  {
   "cell_type": "code",
   "execution_count": 10,
   "id": "b7a111ad",
   "metadata": {},
   "outputs": [
    {
     "name": "stdout",
     "output_type": "stream",
     "text": [
      "Enter Salary:800000\n",
      "Enter tax percentage:5\n",
      "The amount of tax paid  40000.0\n"
     ]
    }
   ],
   "source": [
    "try:\n",
    "    salary=eval(input(\"Enter Salary:\"))\n",
    "    \n",
    "    if salary>=1000000:\n",
    "        taxper=eval(input(\"Enter tax percentage:\"))\n",
    "        print(\"The amount of tax paid \",(salary*taxper)/100)\n",
    "    elif salary>=700000:\n",
    "        taxper=eval(input(\"Enter tax percentage:\"))\n",
    "        print(\"The amount of tax paid \",(salary*taxper)/100)\n",
    "    elif salary>=400000:\n",
    "        taxper=eval(input(\"Enter tax percentage:\"))\n",
    "        print(\"The amount of tax paid \",(salary*taxper)/100)\n",
    "    else:\n",
    "        print(\"No tax required\")\n",
    "except Exception as e:\n",
    "    print(e)"
   ]
  },
  {
   "cell_type": "code",
   "execution_count": 11,
   "id": "d60eac81",
   "metadata": {},
   "outputs": [
    {
     "ename": "SyntaxError",
     "evalue": "invalid syntax (3034995727.py, line 1)",
     "output_type": "error",
     "traceback": [
      "\u001b[1;36m  Cell \u001b[1;32mIn[11], line 1\u001b[1;36m\u001b[0m\n\u001b[1;33m    Enter which operation you need to perfom\u001b[0m\n\u001b[1;37m          ^\u001b[0m\n\u001b[1;31mSyntaxError\u001b[0m\u001b[1;31m:\u001b[0m invalid syntax\n"
     ]
    }
   ],
   "source": [
    "print(\"The operations are below list\")\n",
    "print(\"Addtion enter         : 1\")\n",
    "print(\"Multipilication enter : 2\")\n",
    "print(\"Subtration enter      : 3\")\n",
    "print(\"Division enter        : 4\")\n",
    "Enter which operation you need to perfom"
   ]
  },
  {
   "cell_type": "code",
   "execution_count": 12,
   "id": "e10eca38",
   "metadata": {},
   "outputs": [
    {
     "name": "stdout",
     "output_type": "stream",
     "text": [
      "Enter which operation you need to performaddition\n",
      "Enter a number1: 12\n",
      "Enter a number2: 34\n",
      "we are doing addition operation\n",
      "the addition of 12 and 34 is : 46\n"
     ]
    }
   ],
   "source": [
    "try:\n",
    "    print(\"The operations are below list\")\n",
    "    print(\"Addtion enter         : 1\")\n",
    "    print(\"Multipilication enter : 2\")\n",
    "    print(\"Subtration enter      : 3\")\n",
    "    print(\"Division enter        : 4\")\n",
    "    operation=input(\"Enter which operation you need to perform\")\n",
    "    num1=eval(input(\"Enter a number1: \"))\n",
    "    num2=eval(input(\"Enter a number2: \"))\n",
    "    if operation=='addition':\n",
    "        print(\"we are doing addition operation\")\n",
    "        print(\"the addition of {} and {} is : {}\".format(num1,num2,num1+num2))\n",
    "    elif operation=='Multipilication':\n",
    "        print(\"we are doing Multipilication operation\")\n",
    "        print(\"the Multipilication of {} and {} is : {}\".format(num1,num2,num1*num2))\n",
    "    elif operation=='Subtration':\n",
    "        print(\"we are doing Subtration operation\")\n",
    "        print(\"the Subtration of {} and {} is : {}\".format(num1,num2,num1-num2))\n",
    "    elif operation=='Division':\n",
    "        print(\"we are doing Division operation\")\n",
    "        print(\"the Division of {} and {} is : {}\".format(num1,num2,num1/num2))\n",
    "    else:\n",
    "        print(\"Provide suitable operation\")\n",
    "except Exception as e:\n",
    "    print(e)\n"
   ]
  },
  {
   "cell_type": "code",
   "execution_count": 15,
   "id": "00eaa66e",
   "metadata": {},
   "outputs": [
    {
     "name": "stdout",
     "output_type": "stream",
     "text": [
      "Enter a number: -1\n",
      "It is a negative number\n"
     ]
    }
   ],
   "source": [
    "try:\n",
    "    num1=eval(input(\"Enter a number: \"))\n",
    "    if num1>=0:\n",
    "        if num1==0:\n",
    "            print(\"It is a Zero number\")\n",
    "        else:\n",
    "            print(\"It is a pos number\")\n",
    "    else:\n",
    "        print(\"It is a negative number\")\n",
    "except Exception as e:\n",
    "    print(e)"
   ]
  },
  {
   "cell_type": "code",
   "execution_count": 16,
   "id": "46f9fa61",
   "metadata": {},
   "outputs": [
    {
     "name": "stdout",
     "output_type": "stream",
     "text": [
      "Enter gender either male or female : male\n",
      "Enter your age: 20\n",
      "young boy\n"
     ]
    }
   ],
   "source": [
    "try:\n",
    "    gender=input(\"Enter gender either male or female : \")\n",
    "    if gender==\"male\":\n",
    "        age=eval(input(\"Enter your age: \"))\n",
    "        if age>60:\n",
    "            print(\"CS\")\n",
    "        elif age>=30:\n",
    "            print(\"middile aged man\")\n",
    "        elif age>=20:\n",
    "            print(\"young boy\")\n",
    "        elif age>=13:\n",
    "            print(\"teenage boy\")\n",
    "        else:\n",
    "            print(\"boy\")\n",
    "    elif gender==\"female\":\n",
    "        age=eval(input(\"Enter your age: \"))\n",
    "        if age>60:\n",
    "            print(\"CS\")\n",
    "        elif age>=30:\n",
    "            print(\"middile aged woman\")\n",
    "        elif age>=20:\n",
    "            print(\"young girl\")\n",
    "        elif age>=13:\n",
    "            print(\"teenage girl\")\n",
    "        else:\n",
    "            print(\"girl\")\n",
    "    else:\n",
    "        print(\"Enter the proper gender\")\n",
    "except Exception as e:\n",
    "    print(e)\n"
   ]
  },
  {
   "cell_type": "markdown",
   "id": "e4ed8999",
   "metadata": {},
   "source": [
    "enter the 3 number and find the biggest number"
   ]
  },
  {
   "cell_type": "code",
   "execution_count": 19,
   "id": "1f7da87e",
   "metadata": {},
   "outputs": [
    {
     "name": "stdout",
     "output_type": "stream",
     "text": [
      "Enter a number1: 20\n",
      "Enter a number2: 32\n",
      "Enter a number3: 50\n"
     ]
    }
   ],
   "source": [
    "num1=eval(input(\"Enter a number1: \"))\n",
    "num2=eval(input(\"Enter a number2: \"))\n",
    "num3=eval(input(\"Enter a number3: \"))\n",
    "if num1>num2>num3:\n",
    "    print(\"The number {} is biggest one\".format(num1))\n",
    "elif num2>num1>num3:\n",
    "    print(\"The number {} is biggest one\".format(num2))\n",
    "elif num3>num1>num2:\n",
    "    print(\"The number {} is biggest one\".format(num3))\n"
   ]
  },
  {
   "cell_type": "code",
   "execution_count": 26,
   "id": "607c21c7",
   "metadata": {},
   "outputs": [
    {
     "name": "stdout",
     "output_type": "stream",
     "text": [
      "Enter the basic salary: 10000\n",
      "=======================\n",
      "The basic salary         : 10000\n",
      "The dearness allowance   : 10000\n",
      "The house runt allowance : 10000\n",
      "==========================\n",
      "The gross salary         : 10000\n"
     ]
    }
   ],
   "source": [
    "salary=eval(input(\"Enter the basic salary: \"))\n",
    "print(\"=======================\")\n",
    "print(\"The basic salary         : {}\".format(salary))\n",
    "print(\"The dearness allowance   : {}\".format(salary))\n",
    "print(\"The house runt allowance : {}\".format(salary))\n",
    "print(\"==========================\")\n",
    "print(\"The gross salary         : {}\".format(salary))"
   ]
  },
  {
   "cell_type": "code",
   "execution_count": 29,
   "id": "64f2455f",
   "metadata": {},
   "outputs": [
    {
     "data": {
      "text/plain": [
       "40.0"
      ]
     },
     "execution_count": 29,
     "metadata": {},
     "output_type": "execute_result"
    }
   ],
   "source": [
    "(200/500)*100"
   ]
  },
  {
   "cell_type": "code",
   "execution_count": 30,
   "id": "f4a54582",
   "metadata": {},
   "outputs": [
    {
     "name": "stdout",
     "output_type": "stream",
     "text": [
      "The five subject aggregate mark is 23456\n"
     ]
    }
   ],
   "source": [
    "print(\"The five subject aggregate mark is\",num1)"
   ]
  },
  {
   "cell_type": "code",
   "execution_count": 33,
   "id": "b833a136",
   "metadata": {},
   "outputs": [
    {
     "data": {
      "text/plain": [
       "37.4"
      ]
     },
     "execution_count": 33,
     "metadata": {},
     "output_type": "execute_result"
    }
   ],
   "source": [
    "fahrenheit=99.4\n",
    "centigrade=round(((fahrenheit-32)*5)/9,1)\n",
    "centigrade"
   ]
  },
  {
   "cell_type": "code",
   "execution_count": 41,
   "id": "69ed12f2",
   "metadata": {},
   "outputs": [
    {
     "name": "stdout",
     "output_type": "stream",
     "text": [
      "Enter the five digit number: 12345\n"
     ]
    },
    {
     "data": {
      "text/plain": [
       "str"
      ]
     },
     "execution_count": 41,
     "metadata": {},
     "output_type": "execute_result"
    }
   ],
   "source": [
    "fivedigitnumber=input(\"Enter the five digit number: \")\n",
    "temp=fivedigitnumber[4]\n",
    "type(temp)\n"
   ]
  },
  {
   "cell_type": "code",
   "execution_count": null,
   "id": "27a0f1eb",
   "metadata": {},
   "outputs": [],
   "source": []
  }
 ],
 "metadata": {
  "kernelspec": {
   "display_name": "Python 3 (ipykernel)",
   "language": "python",
   "name": "python3"
  },
  "language_info": {
   "codemirror_mode": {
    "name": "ipython",
    "version": 3
   },
   "file_extension": ".py",
   "mimetype": "text/x-python",
   "name": "python",
   "nbconvert_exporter": "python",
   "pygments_lexer": "ipython3",
   "version": "3.11.5"
  }
 },
 "nbformat": 4,
 "nbformat_minor": 5
}
