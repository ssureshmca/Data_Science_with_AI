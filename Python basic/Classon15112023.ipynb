{
 "cells": [
  {
   "cell_type": "code",
   "execution_count": 4,
   "id": "17c70aa4",
   "metadata": {},
   "outputs": [
    {
     "name": "stdout",
     "output_type": "stream",
     "text": [
      "hello how are you\n",
      "hello how are you\n",
      "hello how are you\n"
     ]
    }
   ],
   "source": [
    "str1=\" hello how are you \"\n",
    "str2=\" hello how are you\"\n",
    "str3=\"hello how are you \"\n",
    "\n",
    "print(str1.strip())\n",
    "print(str2.lstrip())\n",
    "print(str3.rstrip())"
   ]
  },
  {
   "cell_type": "code",
   "execution_count": 6,
   "id": "849db225",
   "metadata": {},
   "outputs": [
    {
     "data": {
      "text/plain": [
       "6"
      ]
     },
     "execution_count": 6,
     "metadata": {},
     "output_type": "execute_result"
    }
   ],
   "source": [
    "str1='python.anaconda@nareshit.com'\n",
    "str1.find('.')\n"
   ]
  },
  {
   "cell_type": "code",
   "execution_count": 8,
   "id": "650f6ffc",
   "metadata": {},
   "outputs": [
    {
     "data": {
      "text/plain": [
       "'python'"
      ]
     },
     "execution_count": 8,
     "metadata": {},
     "output_type": "execute_result"
    }
   ],
   "source": [
    "str1[0:str1.find('.')]"
   ]
  },
  {
   "cell_type": "code",
   "execution_count": 10,
   "id": "bef46b37",
   "metadata": {},
   "outputs": [
    {
     "data": {
      "text/plain": [
       "'anaconda'"
      ]
     },
     "execution_count": 10,
     "metadata": {},
     "output_type": "execute_result"
    }
   ],
   "source": [
    "str1[str1.find('.')+1:str1.find('@')]"
   ]
  },
  {
   "cell_type": "code",
   "execution_count": 16,
   "id": "4aefdefa",
   "metadata": {},
   "outputs": [
    {
     "data": {
      "text/plain": [
       "'nareshit'"
      ]
     },
     "execution_count": 16,
     "metadata": {},
     "output_type": "execute_result"
    }
   ],
   "source": [
    "str1[str1.find('@')+1:str1.index('.',str1.find('.')+1)]"
   ]
  },
  {
   "cell_type": "code",
   "execution_count": 22,
   "id": "a21109fd",
   "metadata": {},
   "outputs": [
    {
     "data": {
      "text/plain": [
       "24"
      ]
     },
     "execution_count": 22,
     "metadata": {},
     "output_type": "execute_result"
    }
   ],
   "source": [
    "str1.find('.',str1.find('.')+1)"
   ]
  },
  {
   "cell_type": "code",
   "execution_count": 25,
   "id": "304d0662",
   "metadata": {},
   "outputs": [
    {
     "name": "stdout",
     "output_type": "stream",
     "text": [
      "First name: python\n",
      "second name: anaconda\n",
      "company name: nareshit\n"
     ]
    }
   ],
   "source": [
    "str1='python.anaconda@nareshit.com'\n",
    "print(\"First name:\",str1[0:str1.find('.')])\n",
    "print(\"second name:\",str1[str1.find('.')+1:str1.find('@')])\n",
    "print(\"company name:\",str1[str1.find('@')+1:str1.find('.',str1.find('.')+1)])"
   ]
  },
  {
   "cell_type": "code",
   "execution_count": 26,
   "id": "98383db4",
   "metadata": {},
   "outputs": [
    {
     "data": {
      "text/plain": [
       "1"
      ]
     },
     "execution_count": 26,
     "metadata": {},
     "output_type": "execute_result"
    }
   ],
   "source": [
    "str1=\"3.1489\"\n",
    "str1.find('.')\n"
   ]
  },
  {
   "cell_type": "code",
   "execution_count": 27,
   "id": "07ba9a2b",
   "metadata": {},
   "outputs": [
    {
     "data": {
      "text/plain": [
       "'3'"
      ]
     },
     "execution_count": 27,
     "metadata": {},
     "output_type": "execute_result"
    }
   ],
   "source": [
    "str1[:str1.find('.')]"
   ]
  },
  {
   "cell_type": "code",
   "execution_count": 29,
   "id": "18a5580e",
   "metadata": {},
   "outputs": [
    {
     "data": {
      "text/plain": [
       "'1489'"
      ]
     },
     "execution_count": 29,
     "metadata": {},
     "output_type": "execute_result"
    }
   ],
   "source": [
    "str1[str1.find('.')+1:]"
   ]
  },
  {
   "cell_type": "code",
   "execution_count": 31,
   "id": "2779ccc7",
   "metadata": {},
   "outputs": [
    {
     "name": "stdout",
     "output_type": "stream",
     "text": [
      "3 1489\n"
     ]
    }
   ],
   "source": [
    "print(str1[:str1.find('.')], str1[str1.find('.')+1:])"
   ]
  },
  {
   "cell_type": "code",
   "execution_count": 37,
   "id": "dc4733c5",
   "metadata": {},
   "outputs": [
    {
     "data": {
      "text/plain": [
       "True"
      ]
     },
     "execution_count": 37,
     "metadata": {},
     "output_type": "execute_result"
    }
   ],
   "source": [
    "str1=\"hai how are you\"\n",
    "str1.startswith(\"hai\")\n",
    "str1.startswith(\"h\")\n",
    "str1.endswith(\"you\")"
   ]
  },
  {
   "cell_type": "code",
   "execution_count": 44,
   "id": "dc377564",
   "metadata": {},
   "outputs": [
    {
     "name": "stdout",
     "output_type": "stream",
     "text": [
      "Enter the first number: 10\n",
      "Enter the second number: 9.999\n",
      "-0.001\n"
     ]
    },
    {
     "data": {
      "text/plain": [
       "False"
      ]
     },
     "execution_count": 44,
     "metadata": {},
     "output_type": "execute_result"
    }
   ],
   "source": [
    "num1=eval(input(\"Enter the first number: \"))\n",
    "num2=eval(input(\"Enter the second number: \"))\n",
    "difference=round(num2-num1,3)\n",
    "print(difference)\n",
    "difference==0.001"
   ]
  },
  {
   "cell_type": "code",
   "execution_count": 51,
   "id": "b86cf57d",
   "metadata": {},
   "outputs": [
    {
     "data": {
      "text/plain": [
       "False"
      ]
     },
     "execution_count": 51,
     "metadata": {},
     "output_type": "execute_result"
    }
   ],
   "source": [
    "year=2023\n",
    "year%4==0 and year%100!=0 or year%400==0"
   ]
  },
  {
   "cell_type": "code",
   "execution_count": 57,
   "id": "a2559234",
   "metadata": {},
   "outputs": [
    {
     "data": {
      "text/plain": [
       "0"
      ]
     },
     "execution_count": 57,
     "metadata": {},
     "output_type": "execute_result"
    }
   ],
   "source": [
    "10%5"
   ]
  },
  {
   "cell_type": "code",
   "execution_count": 65,
   "id": "f4ea563d",
   "metadata": {},
   "outputs": [
    {
     "name": "stdout",
     "output_type": "stream",
     "text": [
      "1\n",
      "The 10 number is divisors by 1\n",
      "2\n",
      "The 10 number is divisors by 2\n",
      "5\n",
      "The 10 number is divisors by 5\n",
      "10\n",
      "The 10 number is divisors by 10\n"
     ]
    }
   ],
   "source": [
    "number=10\n",
    "for i in range(number):\n",
    "    if (number%(i+1))==0:\n",
    "        print(i+1)\n",
    "        print(\"The number {} is divisor by {}\".format(number,i+1))\n",
    "    "
   ]
  },
  {
   "cell_type": "code",
   "execution_count": 80,
   "id": "e787db67",
   "metadata": {},
   "outputs": [
    {
     "name": "stdout",
     "output_type": "stream",
     "text": [
      "PM\n",
      "13\n"
     ]
    },
    {
     "data": {
      "text/plain": [
       "1"
      ]
     },
     "execution_count": 80,
     "metadata": {},
     "output_type": "execute_result"
    }
   ],
   "source": [
    "hour=8\n",
    "mode=1\n",
    "togohour=5\n",
    "\n",
    "newhour=hour+togohour\n",
    "if newhour>=12 and mode==1:\n",
    "    print(\"PM\")\n",
    "else:\n",
    "    print(\"AM\")\n",
    "print(newhour)\n",
    "newhour%12\n"
   ]
  },
  {
   "cell_type": "code",
   "execution_count": null,
   "id": "9ec7443b",
   "metadata": {},
   "outputs": [],
   "source": []
  }
 ],
 "metadata": {
  "kernelspec": {
   "display_name": "Python 3 (ipykernel)",
   "language": "python",
   "name": "python3"
  },
  "language_info": {
   "codemirror_mode": {
    "name": "ipython",
    "version": 3
   },
   "file_extension": ".py",
   "mimetype": "text/x-python",
   "name": "python",
   "nbconvert_exporter": "python",
   "pygments_lexer": "ipython3",
   "version": "3.11.5"
  }
 },
 "nbformat": 4,
 "nbformat_minor": 5
}
