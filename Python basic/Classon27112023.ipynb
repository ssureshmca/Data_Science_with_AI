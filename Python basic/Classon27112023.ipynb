{
 "cells": [
  {
   "cell_type": "code",
   "execution_count": 1,
   "id": "bf52040c",
   "metadata": {},
   "outputs": [
    {
     "data": {
      "text/plain": [
       "2.0"
      ]
     },
     "execution_count": 1,
     "metadata": {},
     "output_type": "execute_result"
    }
   ],
   "source": [
    "50/25\n"
   ]
  },
  {
   "cell_type": "code",
   "execution_count": 2,
   "id": "fba7fdf0",
   "metadata": {},
   "outputs": [
    {
     "ename": "SyntaxError",
     "evalue": "invalid syntax (1864446663.py, line 1)",
     "output_type": "error",
     "traceback": [
      "\u001b[1;36m  Cell \u001b[1;32mIn[2], line 1\u001b[1;36m\u001b[0m\n\u001b[1;33m    ken black\u001b[0m\n\u001b[1;37m        ^\u001b[0m\n\u001b[1;31mSyntaxError\u001b[0m\u001b[1;31m:\u001b[0m invalid syntax\n"
     ]
    }
   ],
   "source": [
    "ken black\n",
    "open into statistics"
   ]
  },
  {
   "cell_type": "code",
   "execution_count": 9,
   "id": "928f96ca",
   "metadata": {},
   "outputs": [
    {
     "name": "stdout",
     "output_type": "stream",
     "text": [
      "This\n",
      "is\n",
      "example\n",
      "of\n",
      "word\n",
      "count\n",
      "6\n"
     ]
    },
    {
     "data": {
      "text/plain": [
       "6"
      ]
     },
     "execution_count": 9,
     "metadata": {},
     "output_type": "execute_result"
    }
   ],
   "source": [
    "user_string=\"This is example of word count\"\n",
    "count=0\n",
    "for i in user_string.split():\n",
    "    print(i)\n",
    "    count+=1\n",
    "print(count)\n",
    "\n",
    "user_string.count(' ')+1"
   ]
  },
  {
   "cell_type": "code",
   "execution_count": 10,
   "id": "26a00c86",
   "metadata": {},
   "outputs": [
    {
     "name": "stdout",
     "output_type": "stream",
     "text": [
      "Enter the string for counting of the words: This is example of word count\n",
      "====M1 - Using Count variable====\n",
      "The string \"This is example of word count\" has 6 count of words\n",
      "====M2 - Using Count method====\n",
      "The string \"This is example of word count\" has 6 count of words\n"
     ]
    }
   ],
   "source": [
    "try:\n",
    "    user_string=input(\"Enter the string for counting of the words: \")\n",
    "    print('====M1 - Using Count variable====')\n",
    "    count=0\n",
    "    for i in user_string.split():\n",
    "        count+=1\n",
    "    print('The string \"{}\" is has {} words'.format(user_string,user_string.count(' ')+1))\n",
    "    \n",
    "    print('====M2 - Using Count method====')\n",
    "    print('The string \"{}\" is has {} words'.format(user_string,user_string.count(' ')+1))\n",
    "    \n",
    "except Exception as e:\n",
    "    print('Error::',e)"
   ]
  },
  {
   "cell_type": "code",
   "execution_count": 13,
   "id": "d8c41643",
   "metadata": {},
   "outputs": [
    {
     "name": "stdout",
     "output_type": "stream",
     "text": [
      "Enter the word: testing\n",
      "t\n",
      "e\n",
      "The string \"testing\" is contain the vowels\n"
     ]
    }
   ],
   "source": [
    "try:\n",
    "    user_string=input(\"Enter the word: \")\n",
    "    vowel_flag=0\n",
    "    for i in user_string:\n",
    "        print(i)\n",
    "        if i in 'aeiou':\n",
    "            vowel_flag=1\n",
    "            break\n",
    "    if vowel_flag==1:\n",
    "        print('The string \"{}\" is contain the vowels'.format(user_string))\n",
    "    else:\n",
    "        print('The string \"{}\" is not contain the vowels'.format(user_string))\n",
    "except Exception as e:\n",
    "    print('Error::',e)"
   ]
  },
  {
   "cell_type": "code",
   "execution_count": 15,
   "id": "fa2336fe",
   "metadata": {},
   "outputs": [
    {
     "name": "stdout",
     "output_type": "stream",
     "text": [
      "Enter the string: Python\n",
      "The string \"Python\" is converted into \"P#thon!!!\":\n"
     ]
    }
   ],
   "source": [
    "try:\n",
    "    user_string=input(\"Enter the string: \")\n",
    "    new_string=user_string[:1]+'#'+user_string[2:len(user_string)]+'!!!'\n",
    "    print('The string \"{}\" is converted into : \"{}\"'.format(user_string,new_string))\n",
    "except Exception as e:\n",
    "    print('Error::',e)"
   ]
  },
  {
   "cell_type": "code",
   "execution_count": null,
   "id": "0dd7507f",
   "metadata": {},
   "outputs": [],
   "source": [
    "try:\n",
    "    #number_of_email=eval(input(\"Enter how many email addresses want: \"))\n",
    "    number_of_email=4\n",
    "    for i in range()\n",
    "    user_string\n",
    "except Exception as e:\n",
    "    print('Error::',e)"
   ]
  },
  {
   "cell_type": "code",
   "execution_count": 20,
   "id": "8a916ecd",
   "metadata": {},
   "outputs": [
    {
     "name": "stdout",
     "output_type": "stream",
     "text": [
      "Enter the email id: test1@student.com\n",
      "Enter the email id: test2@prof.com\n",
      "Enter the email id: test1@student.com\n",
      "Enter the email id: test1@student.com\n",
      "The list of email id contain 3 only student\n",
      "The list of email id contain 1 only prof\n"
     ]
    }
   ],
   "source": [
    "try:\n",
    "    number_of_email=eval(input(\"Enter how many email addresses want: \"))\n",
    "    student_count=0\n",
    "    prof_count=0\n",
    "    for i in range(number_of_email):\n",
    "        user_string=input(\"Enter the email id: \")\n",
    "        if 'student' in user_string.lower():\n",
    "            student_count+=1\n",
    "        elif 'prof' in user_string.lower():\n",
    "            prof_count+=1\n",
    "    if student_count==number_of_email:\n",
    "        print(\"The list of all email id contain only student\")\n",
    "    else:\n",
    "        print(\"The list of email id contain {} student {} prof\".format(student_count,prof_count))\n",
    "except Exception as e:\n",
    "    print('Error::',e)"
   ]
  },
  {
   "cell_type": "code",
   "execution_count": 25,
   "id": "1605ccac",
   "metadata": {},
   "outputs": [
    {
     "name": "stdout",
     "output_type": "stream",
     "text": [
      "Enter a string: Python\n",
      "The output is below\n",
      "PP\n",
      "yy\n",
      "tt\n",
      "hh\n",
      "oo\n",
      "nn\n"
     ]
    }
   ],
   "source": [
    "try:\n",
    "    user_string=input(\"Enter a string: \")\n",
    "    print('The output is below')\n",
    "    for i in user_string:\n",
    "        print(i+i)\n",
    "except Exception as e:\n",
    "    print('Error::',e)"
   ]
  },
  {
   "cell_type": "code",
   "execution_count": 30,
   "id": "fa45242e",
   "metadata": {},
   "outputs": [
    {
     "name": "stdout",
     "output_type": "stream",
     "text": [
      "Enter the string: Testingsplitaword\n",
      "The output is below:\n",
      "Testingsplita\n",
      "word\n"
     ]
    }
   ],
   "source": [
    "try:\n",
    "    user_string=input(\"Enter the string: \")\n",
    "    print('The output is below:')\n",
    "    if 'a' in user_string:        \n",
    "        print(user_string[:user_string.index('a')+1])\n",
    "        print(user_string[user_string.index('a')+1:])\n",
    "    else:\n",
    "        print(\"The given word not contain a characters\")\n",
    "except Exception as e:\n",
    "    print('Error::',e)"
   ]
  },
  {
   "cell_type": "code",
   "execution_count": 32,
   "id": "2e3775e8",
   "metadata": {},
   "outputs": [
    {
     "name": "stdout",
     "output_type": "stream",
     "text": [
      "Enter the string: rhinoceros\n",
      "0\n",
      "1\n",
      "2\n",
      "3\n",
      "4\n",
      "5\n",
      "6\n",
      "7\n",
      "8\n",
      "9\n",
      "The output of new String is rHiNoCeRoS\n"
     ]
    }
   ],
   "source": [
    "try:\n",
    "    user_string=input(\"Enter the string: \") #rhinoceros\n",
    "    new_string=''\n",
    "    for i in range(len(user_string)):\n",
    "        if i%2!=0:\n",
    "            new_string+=user_string[i].capitalize()\n",
    "        else:\n",
    "            new_string+=user_string[i]\n",
    "    print(\"The output of new String is\",new_string)\n",
    "except Exception as e:\n",
    "    print('Error::',e)"
   ]
  },
  {
   "cell_type": "code",
   "execution_count": 35,
   "id": "33107c23",
   "metadata": {},
   "outputs": [
    {
     "name": "stdout",
     "output_type": "stream",
     "text": [
      "Enter the first string: abcd\n",
      "Enter the second string: ABCD\n",
      "\n",
      "====M1 - Using len method\n",
      "The output of len method new String is aAbBcCdD\n",
      "\n",
      "====M2 - Using zip method\n",
      "The output of zip method new String is aAbBcCdD\n"
     ]
    }
   ],
   "source": [
    "try:\n",
    "    user_string1=input(\"Enter the first string: \")\n",
    "    user_string2=input(\"Enter the second string: \")\n",
    "    if len(user_string1)==len(user_string2):\n",
    "        print('')\n",
    "        print('====M1 - Using len method')\n",
    "        new_string=''\n",
    "        for i in range(len(user_string1)):\n",
    "            new_string+=user_string1[i]+user_string2[i]\n",
    "        print(\"The output of len method new String is\",new_string)\n",
    "        print('')\n",
    "        print('====M2 - Using zip method')\n",
    "        new_string=''\n",
    "        for i,j in zip(user_string1,user_string2):\n",
    "            new_string+=i+j\n",
    "        print(\"The output of zip method new String is\",new_string)    \n",
    "    else:\n",
    "        print('Please enter the same length of string')\n",
    "except Exception as e:\n",
    "    print('Error::',e)"
   ]
  },
  {
   "cell_type": "code",
   "execution_count": null,
   "id": "3a32d1ce",
   "metadata": {},
   "outputs": [],
   "source": []
  }
 ],
 "metadata": {
  "kernelspec": {
   "display_name": "Python 3 (ipykernel)",
   "language": "python",
   "name": "python3"
  },
  "language_info": {
   "codemirror_mode": {
    "name": "ipython",
    "version": 3
   },
   "file_extension": ".py",
   "mimetype": "text/x-python",
   "name": "python",
   "nbconvert_exporter": "python",
   "pygments_lexer": "ipython3",
   "version": "3.11.5"
  }
 },
 "nbformat": 4,
 "nbformat_minor": 5
}
