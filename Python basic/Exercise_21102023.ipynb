{
 "cells": [
  {
   "cell_type": "code",
   "execution_count": 1,
   "id": "7ef0f3ff",
   "metadata": {},
   "outputs": [],
   "source": [
    "number1=100\n",
    "number2=200"
   ]
  },
  {
   "cell_type": "code",
   "execution_count": 3,
   "id": "3ee96136",
   "metadata": {},
   "outputs": [
    {
     "ename": "SyntaxError",
     "evalue": "invalid syntax (1240035029.py, line 1)",
     "output_type": "error",
     "traceback": [
      "\u001b[1;36m  Cell \u001b[1;32mIn[3], line 1\u001b[1;36m\u001b[0m\n\u001b[1;33m    **Joining Multiple print statements**\u001b[0m\n\u001b[1;37m    ^\u001b[0m\n\u001b[1;31mSyntaxError\u001b[0m\u001b[1;31m:\u001b[0m invalid syntax\n"
     ]
    }
   ],
   "source": [
    "**Joining Multiple print statements**"
   ]
  },
  {
   "cell_type": "code",
   "execution_count": 4,
   "id": "5f92ba52",
   "metadata": {},
   "outputs": [
    {
     "name": "stdout",
     "output_type": "stream",
     "text": [
      "hai\n",
      "how\n"
     ]
    },
    {
     "ename": "TypeError",
     "evalue": "unsupported operand type(s) for +: 'NoneType' and 'NoneType'",
     "output_type": "error",
     "traceback": [
      "\u001b[1;31m---------------------------------------------------------------------------\u001b[0m",
      "\u001b[1;31mTypeError\u001b[0m                                 Traceback (most recent call last)",
      "Cell \u001b[1;32mIn[4], line 1\u001b[0m\n\u001b[1;32m----> 1\u001b[0m \u001b[38;5;28mprint\u001b[39m(\u001b[38;5;124m'\u001b[39m\u001b[38;5;124mhai\u001b[39m\u001b[38;5;124m'\u001b[39m) \u001b[38;5;241m+\u001b[39m \u001b[38;5;28mprint\u001b[39m(\u001b[38;5;124m'\u001b[39m\u001b[38;5;124mhow\u001b[39m\u001b[38;5;124m'\u001b[39m)\n",
      "\u001b[1;31mTypeError\u001b[0m: unsupported operand type(s) for +: 'NoneType' and 'NoneType'"
     ]
    }
   ],
   "source": [
    "print('hai') + print('how')"
   ]
  },
  {
   "cell_type": "code",
   "execution_count": 7,
   "id": "ea0641bf",
   "metadata": {},
   "outputs": [
    {
     "name": "stdout",
     "output_type": "stream",
     "text": [
      "hai & how\n",
      "test\n"
     ]
    }
   ],
   "source": [
    "print('hai ',end='&')\n",
    "print(' how')\n",
    "print('test')"
   ]
  },
  {
   "cell_type": "code",
   "execution_count": 8,
   "id": "ea8b8b48",
   "metadata": {},
   "outputs": [
    {
     "ename": "SyntaxError",
     "evalue": "invalid syntax (498787595.py, line 1)",
     "output_type": "error",
     "traceback": [
      "\u001b[1;36m  Cell \u001b[1;32mIn[8], line 1\u001b[1;36m\u001b[0m\n\u001b[1;33m    the addition of 20 and 40 is 60\u001b[0m\n\u001b[1;37m        ^\u001b[0m\n\u001b[1;31mSyntaxError\u001b[0m\u001b[1;31m:\u001b[0m invalid syntax\n"
     ]
    }
   ],
   "source": [
    "the addition of 20 and 40 is 60 "
   ]
  },
  {
   "cell_type": "code",
   "execution_count": 11,
   "id": "f56ec02e",
   "metadata": {},
   "outputs": [
    {
     "name": "stdout",
     "output_type": "stream",
     "text": [
      "the addition of  200  and  400  is 600\n"
     ]
    }
   ],
   "source": [
    "number1=200\n",
    "number2=400\n",
    "add=number1+number2\n",
    "print('the addition of ',number1,' and ',number2, ' is',add)"
   ]
  },
  {
   "cell_type": "code",
   "execution_count": 12,
   "id": "9f8c0fd8",
   "metadata": {},
   "outputs": [
    {
     "name": "stdout",
     "output_type": "stream",
     "text": [
      "my name is python , I came from hyd and 10 years old\n"
     ]
    }
   ],
   "source": [
    "name='python'\n",
    "city='hyd'\n",
    "age=10\n",
    "print(\"my name is\",name,\", I came from\",city,'and',age,'years old')"
   ]
  },
  {
   "cell_type": "code",
   "execution_count": 13,
   "id": "d50a32f3",
   "metadata": {},
   "outputs": [
    {
     "name": "stdout",
     "output_type": "stream",
     "text": [
      "the addition of 200 and 400 is 600\n"
     ]
    }
   ],
   "source": [
    "num1=200\n",
    "num2=400\n",
    "add=num1+num2\n",
    "print(\"the addition of {} and {} is {}\".format(num1,num2,add))"
   ]
  },
  {
   "cell_type": "code",
   "execution_count": 15,
   "id": "580ff14e",
   "metadata": {},
   "outputs": [
    {
     "name": "stdout",
     "output_type": "stream",
     "text": [
      "my name is python, I came from hyd and I am 10 years old\n"
     ]
    }
   ],
   "source": [
    "name='python'\n",
    "city='hyd'\n",
    "age=10\n",
    "print(\"my name is {}, I came from {} and I am {} years old\".format(name,city,age))"
   ]
  },
  {
   "cell_type": "code",
   "execution_count": 18,
   "id": "ad5128a3",
   "metadata": {},
   "outputs": [
    {
     "name": "stdout",
     "output_type": "stream",
     "text": [
      "The addition of 20 and 40 is : 60\n",
      "The Substractions of 20 and 40 is : -20\n",
      "The Multiplication of 20 and 40 is : 800\n",
      "The division of 20 and 40 is : 0.5\n"
     ]
    }
   ],
   "source": [
    "value1=20\n",
    "value2=40\n",
    "add=value1+value2\n",
    "sub=value1-value2\n",
    "mul=value1*value2\n",
    "div=round(value1/value2,3)\n",
    "print(\"The addition of {} and {} is : {}\".format(value1,value2,add))\n",
    "print(\"The Substractions of {} and {} is : {}\".format(value1,value2,sub))\n",
    "print(\"The Multiplication of {} and {} is : {}\".format(value1,value2,mul))\n",
    "print(\"The division of {} and {} is : {}\".format(value1,value2,div))"
   ]
  },
  {
   "cell_type": "code",
   "execution_count": 21,
   "id": "c86dc912",
   "metadata": {},
   "outputs": [
    {
     "name": "stdout",
     "output_type": "stream",
     "text": [
      "enter a number200\n"
     ]
    },
    {
     "data": {
      "text/plain": [
       "'200'"
      ]
     },
     "execution_count": 21,
     "metadata": {},
     "output_type": "execute_result"
    }
   ],
   "source": [
    "input(\"enter a number\")"
   ]
  },
  {
   "cell_type": "code",
   "execution_count": 20,
   "id": "91f2a821",
   "metadata": {},
   "outputs": [
    {
     "data": {
      "text/plain": [
       "20"
      ]
     },
     "execution_count": 20,
     "metadata": {},
     "output_type": "execute_result"
    }
   ],
   "source": [
    "a=20\n",
    "a"
   ]
  },
  {
   "cell_type": "code",
   "execution_count": 26,
   "id": "e855e5b7",
   "metadata": {},
   "outputs": [
    {
     "name": "stdout",
     "output_type": "stream",
     "text": [
      "what is A for : apple\n",
      "what is B for : ball\n",
      "apple ball\n"
     ]
    },
    {
     "data": {
      "text/plain": [
       "str"
      ]
     },
     "execution_count": 26,
     "metadata": {},
     "output_type": "execute_result"
    }
   ],
   "source": [
    "name1=input(\"what is A for : \")\n",
    "name2=input(\"what is B for : \")\n",
    "print(name1,name2)\n",
    "type(name1)"
   ]
  },
  {
   "cell_type": "code",
   "execution_count": 29,
   "id": "c35c54ca",
   "metadata": {},
   "outputs": [
    {
     "name": "stdout",
     "output_type": "stream",
     "text": [
      "Enter the value : 20\n",
      "Enter the value : 30\n",
      "the sum of 20 and 30 is 50\n"
     ]
    }
   ],
   "source": [
    "val1=int(input(\"Enter the value : \"))\n",
    "val2=int(input(\"Enter the value : \"))\n",
    "add=val1+val2\n",
    "print(\"the sum of {} and {} is {}\".format(val1,val2,add))"
   ]
  },
  {
   "cell_type": "code",
   "execution_count": null,
   "id": "39d15309",
   "metadata": {},
   "outputs": [],
   "source": []
  }
 ],
 "metadata": {
  "kernelspec": {
   "display_name": "Python 3 (ipykernel)",
   "language": "python",
   "name": "python3"
  },
  "language_info": {
   "codemirror_mode": {
    "name": "ipython",
    "version": 3
   },
   "file_extension": ".py",
   "mimetype": "text/x-python",
   "name": "python",
   "nbconvert_exporter": "python",
   "pygments_lexer": "ipython3",
   "version": "3.11.5"
  }
 },
 "nbformat": 4,
 "nbformat_minor": 5
}
