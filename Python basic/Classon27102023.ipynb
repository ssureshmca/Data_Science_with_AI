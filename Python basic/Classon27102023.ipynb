{
 "cells": [
  {
   "cell_type": "code",
   "execution_count": 1,
   "id": "d19783e2",
   "metadata": {},
   "outputs": [
    {
     "name": "stdout",
     "output_type": "stream",
     "text": [
      "30\n"
     ]
    }
   ],
   "source": [
    "try:\n",
    "    num1=10\n",
    "    num2=0\n",
    "    num3=20\n",
    "    add=num1+num2+num3\n",
    "    print(add)\n",
    "except:\n",
    "    print(\"Error is there, check the above code\")"
   ]
  },
  {
   "cell_type": "code",
   "execution_count": 2,
   "id": "6ed52522",
   "metadata": {
    "scrolled": true
   },
   "outputs": [
    {
     "name": "stdout",
     "output_type": "stream",
     "text": [
      "Error is there, check the above code\n"
     ]
    }
   ],
   "source": [
    "try:\n",
    "    num1=10\n",
    "    num2=0\n",
    "    add=num1/num2\n",
    "    print(add)\n",
    "except:\n",
    "    print(\"Error is there, check the above code\")"
   ]
  },
  {
   "cell_type": "code",
   "execution_count": 6,
   "id": "a0958942",
   "metadata": {},
   "outputs": [
    {
     "name": "stdout",
     "output_type": "stream",
     "text": [
      "Enter the number1: 5\n",
      "Enter the number2: 6\n",
      "Enter the number3: 7\n",
      "Error is there, check the above code:  name 'num33' is not defined\n"
     ]
    }
   ],
   "source": [
    "try:\n",
    "    num1=eval(input(\"Enter the number1: \"))\n",
    "    num2=eval(input(\"Enter the number2: \"))\n",
    "    num3=eval(input(\"Enter the number3: \"))\n",
    "    average=(num1+num2+num33)/3\n",
    "    print(\"The average of {},{} and {} is {}\".format(num1,num2,num3,average))\n",
    "except Exception as e:\n",
    "    print(\"Error is there, check the above code: \", e)"
   ]
  },
  {
   "cell_type": "code",
   "execution_count": 10,
   "id": "e579fa54",
   "metadata": {},
   "outputs": [
    {
     "name": "stdout",
     "output_type": "stream",
     "text": [
      "Enter a number9\n",
      "Error is there in above code, the Error is :  name 'num11' is not defined\n",
      "hello\n"
     ]
    }
   ],
   "source": [
    "try:\n",
    "    num1=eval(input(\"Enter a number\"))\n",
    "    square=num1*num11\n",
    "    print(\"The square of the {} is {}\".format(num1,square))\n",
    "except Exception as e:\n",
    "    print(\"Error is there in above code, the Error is : \", e)\n",
    "print(\"hello\")"
   ]
  },
  {
   "cell_type": "code",
   "execution_count": 15,
   "id": "bfb066c9",
   "metadata": {
    "scrolled": true
   },
   "outputs": [
    {
     "name": "stdout",
     "output_type": "stream",
     "text": [
      "==================\n",
      "8\n",
      "******************\n",
      "Enter a number3\n",
      "hai\n",
      "Error is there in above code, the Error is :  name 'num11' is not defined\n",
      "Hello\n",
      "Python\n",
      "1\n",
      "2\n"
     ]
    }
   ],
   "source": [
    "print(\"==================\")\n",
    "print(3+5)\n",
    "print(\"******************\")\n",
    "try:\n",
    "    num1=eval(input(\"Enter a number\"))\n",
    "    print(\"The square of the {} is {}\".format(num1,num11*num1))\n",
    "    print(\"out\")\n",
    "except Exception as e:\n",
    "    print(\"hai\")\n",
    "    print(\"Error is there in above code, the Error is : \", e)\n",
    "    print(\"Hello\")\n",
    "print(\"Python\")\n",
    "print(1)\n",
    "print(2)"
   ]
  },
  {
   "cell_type": "markdown",
   "id": "af6fbcb5",
   "metadata": {},
   "source": []
  }
 ],
 "metadata": {
  "kernelspec": {
   "display_name": "Python 3 (ipykernel)",
   "language": "python",
   "name": "python3"
  },
  "language_info": {
   "codemirror_mode": {
    "name": "ipython",
    "version": 3
   },
   "file_extension": ".py",
   "mimetype": "text/x-python",
   "name": "python",
   "nbconvert_exporter": "python",
   "pygments_lexer": "ipython3",
   "version": "3.11.5"
  }
 },
 "nbformat": 4,
 "nbformat_minor": 5
}
