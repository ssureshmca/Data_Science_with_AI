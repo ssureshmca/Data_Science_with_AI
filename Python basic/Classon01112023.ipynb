{
 "cells": [
  {
   "cell_type": "code",
   "execution_count": 3,
   "id": "2da8b957",
   "metadata": {},
   "outputs": [
    {
     "data": {
      "text/plain": [
       "45"
      ]
     },
     "execution_count": 3,
     "metadata": {},
     "output_type": "execute_result"
    }
   ],
   "source": [
    "num=12345\n",
    "num%100"
   ]
  },
  {
   "cell_type": "code",
   "execution_count": 13,
   "id": "89487c83",
   "metadata": {},
   "outputs": [
    {
     "data": {
      "text/plain": [
       "['__abs__',\n",
       " '__add__',\n",
       " '__and__',\n",
       " '__bool__',\n",
       " '__ceil__',\n",
       " '__class__',\n",
       " '__delattr__',\n",
       " '__dir__',\n",
       " '__divmod__',\n",
       " '__doc__',\n",
       " '__eq__',\n",
       " '__float__',\n",
       " '__floor__',\n",
       " '__floordiv__',\n",
       " '__format__',\n",
       " '__ge__',\n",
       " '__getattribute__',\n",
       " '__getnewargs__',\n",
       " '__getstate__',\n",
       " '__gt__',\n",
       " '__hash__',\n",
       " '__index__',\n",
       " '__init__',\n",
       " '__init_subclass__',\n",
       " '__int__',\n",
       " '__invert__',\n",
       " '__le__',\n",
       " '__lshift__',\n",
       " '__lt__',\n",
       " '__mod__',\n",
       " '__mul__',\n",
       " '__ne__',\n",
       " '__neg__',\n",
       " '__new__',\n",
       " '__or__',\n",
       " '__pos__',\n",
       " '__pow__',\n",
       " '__radd__',\n",
       " '__rand__',\n",
       " '__rdivmod__',\n",
       " '__reduce__',\n",
       " '__reduce_ex__',\n",
       " '__repr__',\n",
       " '__rfloordiv__',\n",
       " '__rlshift__',\n",
       " '__rmod__',\n",
       " '__rmul__',\n",
       " '__ror__',\n",
       " '__round__',\n",
       " '__rpow__',\n",
       " '__rrshift__',\n",
       " '__rshift__',\n",
       " '__rsub__',\n",
       " '__rtruediv__',\n",
       " '__rxor__',\n",
       " '__setattr__',\n",
       " '__sizeof__',\n",
       " '__str__',\n",
       " '__sub__',\n",
       " '__subclasshook__',\n",
       " '__truediv__',\n",
       " '__trunc__',\n",
       " '__xor__',\n",
       " 'as_integer_ratio',\n",
       " 'bit_count',\n",
       " 'bit_length',\n",
       " 'conjugate',\n",
       " 'denominator',\n",
       " 'from_bytes',\n",
       " 'imag',\n",
       " 'numerator',\n",
       " 'real',\n",
       " 'to_bytes']"
      ]
     },
     "execution_count": 13,
     "metadata": {},
     "output_type": "execute_result"
    }
   ],
   "source": [
    "dir(num)"
   ]
  },
  {
   "cell_type": "code",
   "execution_count": 4,
   "id": "28ff3579",
   "metadata": {},
   "outputs": [
    {
     "name": "stdout",
     "output_type": "stream",
     "text": [
      "Total bill is 30\n"
     ]
    }
   ],
   "source": [
    "def Bill(bill_amt,tip_Amt):\n",
    "    try:\n",
    "        total_bill=bill_amt+tip_Amt\n",
    "        print(\"Total bill is {}\".format(total_bill))\n",
    "    except Exception as e:\n",
    "        print(e)\n",
    "\n",
    "Bill(10,20)"
   ]
  },
  {
   "cell_type": "code",
   "execution_count": 5,
   "id": "bf7f2991",
   "metadata": {},
   "outputs": [
    {
     "name": "stdout",
     "output_type": "stream",
     "text": [
      "Enter a number:20\n",
      "The 20 number square is 400\n"
     ]
    }
   ],
   "source": [
    "num=eval(input(\"Enter a number:\"))\n",
    "print(\"The {} number square is {}\".format(num,num*num))"
   ]
  },
  {
   "cell_type": "code",
   "execution_count": 7,
   "id": "a37a43ef",
   "metadata": {},
   "outputs": [
    {
     "name": "stdout",
     "output_type": "stream",
     "text": [
      "Enter a number:10\n",
      "The 10 number square is 100\n"
     ]
    }
   ],
   "source": [
    "def squareval():\n",
    "    try:\n",
    "        num=eval(input(\"Enter a number:\"))\n",
    "        print(\"The {} number square is {}\".format(num,num*num))\n",
    "    except Exception as e:\n",
    "        print(e)\n",
    "\n",
    "squareval()"
   ]
  },
  {
   "cell_type": "code",
   "execution_count": 9,
   "id": "87d65507",
   "metadata": {},
   "outputs": [
    {
     "name": "stdout",
     "output_type": "stream",
     "text": [
      "Enter a number:10\n",
      "The 10 number square is 100\n"
     ]
    }
   ],
   "source": [
    "def squareval(num):\n",
    "    try:\n",
    "        print(\"The {} number square is {}\".format(num,num*num))\n",
    "    except Exception as e:\n",
    "        print(e)\n",
    "\n",
    "num=eval(input(\"Enter a number:\"))\n",
    "squareval(num)"
   ]
  },
  {
   "cell_type": "code",
   "execution_count": 10,
   "id": "9bd2993f",
   "metadata": {},
   "outputs": [
    {
     "name": "stdout",
     "output_type": "stream",
     "text": [
      "Enter a number: 23\n",
      "you lost\n"
     ]
    }
   ],
   "source": [
    "import random\n",
    "randval=random.randint(1,20)\n",
    "num1=eval(input(\"Enter a number: \"))\n",
    "if(randval==num1):\n",
    "    print(\"you won\")\n",
    "else:\n",
    "    print(\"you lost\")"
   ]
  },
  {
   "cell_type": "code",
   "execution_count": 11,
   "id": "6e39089c",
   "metadata": {},
   "outputs": [
    {
     "name": "stdout",
     "output_type": "stream",
     "text": [
      "Enter a number: 1\n",
      "you lost\n"
     ]
    }
   ],
   "source": [
    "def evalrandom():\n",
    "    try:\n",
    "        randval=random.randint(1,20)\n",
    "        num1=eval(input(\"Enter a number: \"))\n",
    "        if(randval==num1):\n",
    "            print(\"you won\")\n",
    "        else:\n",
    "            print(\"you lost\")\n",
    "    except Exception as e:\n",
    "        print(e)\n",
    "\n",
    "evalrandom()"
   ]
  },
  {
   "cell_type": "code",
   "execution_count": 14,
   "id": "51c6f848",
   "metadata": {},
   "outputs": [
    {
     "name": "stdout",
     "output_type": "stream",
     "text": [
      "Enter a number: 4\n",
      "you lost\n"
     ]
    }
   ],
   "source": [
    "def evalrandom(num1):\n",
    "    try:\n",
    "        randval=random.randint(1,20)\n",
    "        if(randval==num1):\n",
    "            print(\"you won\")\n",
    "        else:\n",
    "            print(\"you lost\")\n",
    "    except Exception as e:\n",
    "        print(e)\n",
    "\n",
    "\n",
    "num1=eval(input(\"Enter a number: \"))\n",
    "evalrandom(num1)"
   ]
  },
  {
   "cell_type": "code",
   "execution_count": 15,
   "id": "e114b0d4",
   "metadata": {
    "scrolled": true
   },
   "outputs": [
    {
     "name": "stdout",
     "output_type": "stream",
     "text": [
      "Enter the salary: 10000\n",
      "Enter the salary: 10\n",
      "The total tax to pay: 1000.0\n"
     ]
    }
   ],
   "source": [
    "salary=eval(input(\"Enter the salary: \"))\n",
    "tax_per=eval(input(\"Enter the tax in percent : \"))\n",
    "def taxpaid(salary,tax_per):\n",
    "    try:\n",
    "        total=(salary*tax_per)/100\n",
    "        print(\"The total tax to pay: {}\".format(total))\n",
    "    except Exception as e:\n",
    "        print(e)\n",
    "\n",
    "taxpaid(salary,tax_per)"
   ]
  },
  {
   "cell_type": "code",
   "execution_count": 27,
   "id": "4637cc2b",
   "metadata": {},
   "outputs": [
    {
     "name": "stdout",
     "output_type": "stream",
     "text": [
      "5 1 2 9\n"
     ]
    }
   ],
   "source": [
    "num=579\n",
    "hundrad=num//100\n",
    "fifty=(num-(hundrad*100))//50\n",
    "tens=(num-((hundrad*100)+(fifty*50)))//10\n",
    "remain=(num-((hundrad*100)+(fifty*50)+(tens*10)))  #use this also num%10\n",
    "\n",
    "print(hundrad,fifty,tens,remain)\n",
    "      "
   ]
  },
  {
   "cell_type": "code",
   "execution_count": 28,
   "id": "bd7f9e18",
   "metadata": {},
   "outputs": [
    {
     "data": {
      "text/plain": [
       "9"
      ]
     },
     "execution_count": 28,
     "metadata": {},
     "output_type": "execute_result"
    }
   ],
   "source": [
    "579%10"
   ]
  },
  {
   "cell_type": "code",
   "execution_count": 38,
   "id": "bf62a556",
   "metadata": {},
   "outputs": [
    {
     "name": "stdout",
     "output_type": "stream",
     "text": [
      "38400.0 13440.0 41600.0 41600.0\n",
      "7072.0 34528.0\n"
     ]
    }
   ],
   "source": [
    "num=80000\n",
    "total_literacy=num*48/100\n",
    "total_illiteracy=num-total_literacy\n",
    "total_man_literacy=total_literacy*35/100\n",
    "total_mans=num*52/100\n",
    "total_illiteracy_man=total_illiteracy*17/100\n",
    "total_illiteracy_woman=total_illiteracy-total_illiteracy_man\n",
    "\n",
    "print(total_literacy,total_man_literacy,total_mans,total_illiteracy)\n",
    "print(total_illiteracy_man,total_illiteracy_woman)"
   ]
  },
  {
   "cell_type": "code",
   "execution_count": null,
   "id": "9ff6e199",
   "metadata": {},
   "outputs": [],
   "source": []
  },
  {
   "cell_type": "code",
   "execution_count": null,
   "id": "96934f48",
   "metadata": {},
   "outputs": [],
   "source": []
  },
  {
   "cell_type": "code",
   "execution_count": 37,
   "id": "fdc02103",
   "metadata": {},
   "outputs": [
    {
     "data": {
      "text/plain": [
       "17"
      ]
     },
     "execution_count": 37,
     "metadata": {},
     "output_type": "execute_result"
    }
   ],
   "source": [
    "52-35"
   ]
  },
  {
   "cell_type": "code",
   "execution_count": 51,
   "id": "0afd472b",
   "metadata": {},
   "outputs": [
    {
     "name": "stdout",
     "output_type": "stream",
     "text": [
      "4 1\n"
     ]
    }
   ],
   "source": [
    "num=1234\n",
    "num1=num%10\n",
    "num2=num//1000\n",
    "\n",
    "print(num1,num2)\n",
    "\n",
    "number=print(\"Enter the four digit number: \")\n",
    "num1=number%10\n",
    "num2=number//1000\n",
    "add=num1+num2\n"
   ]
  },
  {
   "cell_type": "code",
   "execution_count": 58,
   "id": "928df4ca",
   "metadata": {},
   "outputs": [
    {
     "name": "stdout",
     "output_type": "stream",
     "text": [
      "5 4 3 2 1\n"
     ]
    }
   ],
   "source": [
    "fivedigitnumber=12345\n",
    "num1=fivedigitnumber%10\n",
    "\n",
    "\n",
    "num2=(fivedigitnumber//10)%10\n",
    "num3=(fivedigitnumber//100)%10\n",
    "num4=(fivedigitnumber//1000)%10\n",
    "num5=(fivedigitnumber//10000)%10\n",
    "print(num1,num2,num3,num4,num5)"
   ]
  },
  {
   "cell_type": "code",
   "execution_count": 60,
   "id": "9e3d9ed0",
   "metadata": {},
   "outputs": [
    {
     "name": "stdout",
     "output_type": "stream",
     "text": [
      "38400.0 28000.0 41600.0 41600.0\n",
      "7072.0 34528.0\n"
     ]
    }
   ],
   "source": [
    "population=80000\n",
    "total_literacy=population*48/100\n",
    "total_mans=population*52/100\n",
    "total_man_literacy=population*35/100\n",
    "total_illiteracy=population-total_literacy\n",
    "total_illiteracy_man=total_illiteracy*(52-35)/100\n",
    "total_illiteracy_woman=total_illiteracy-total_illiteracy_man\n",
    "print(total_literacy,total_man_literacy,total_mans,total_illiteracy)\n",
    "print(total_illiteracy_man,total_illiteracy_woman)"
   ]
  },
  {
   "cell_type": "code",
   "execution_count": 62,
   "id": "245f85e5",
   "metadata": {},
   "outputs": [
    {
     "name": "stdout",
     "output_type": "stream",
     "text": [
      "7072.0 34528.0\n"
     ]
    },
    {
     "data": {
      "text/plain": [
       "41600.0"
      ]
     },
     "execution_count": 62,
     "metadata": {},
     "output_type": "execute_result"
    }
   ],
   "source": [
    "population=80000\n",
    "total_literacy=population*48/100\n",
    "total_illiteracy=population-total_literacy\n",
    "total_illiteracy_man=total_illiteracy*(52-35)/100\n",
    "total_illiteracy_woman=total_illiteracy-total_illiteracy_man\n",
    "print(total_illiteracy_man,total_illiteracy_woman)\n",
    "\n",
    "total_illiteracy_man+total_illiteracy_woman"
   ]
  },
  {
   "cell_type": "code",
   "execution_count": null,
   "id": "50a7280d",
   "metadata": {},
   "outputs": [],
   "source": []
  }
 ],
 "metadata": {
  "kernelspec": {
   "display_name": "Python 3 (ipykernel)",
   "language": "python",
   "name": "python3"
  },
  "language_info": {
   "codemirror_mode": {
    "name": "ipython",
    "version": 3
   },
   "file_extension": ".py",
   "mimetype": "text/x-python",
   "name": "python",
   "nbconvert_exporter": "python",
   "pygments_lexer": "ipython3",
   "version": "3.11.5"
  }
 },
 "nbformat": 4,
 "nbformat_minor": 5
}
