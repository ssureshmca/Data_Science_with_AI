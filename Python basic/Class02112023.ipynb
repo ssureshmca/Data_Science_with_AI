{
 "cells": [
  {
   "cell_type": "code",
   "execution_count": 1,
   "id": "335b5cad",
   "metadata": {},
   "outputs": [
    {
     "name": "stderr",
     "output_type": "stream",
     "text": [
      "\n",
      "KeyboardInterrupt\n",
      "\n"
     ]
    }
   ],
   "source": [
    "num=12345\n",
    "len(num)"
   ]
  },
  {
   "cell_type": "code",
   "execution_count": 2,
   "id": "bb6d168e",
   "metadata": {},
   "outputs": [
    {
     "data": {
      "text/plain": [
       "5"
      ]
     },
     "execution_count": 2,
     "metadata": {},
     "output_type": "execute_result"
    }
   ],
   "source": [
    "num%10"
   ]
  },
  {
   "cell_type": "code",
   "execution_count": 9,
   "id": "859d2578",
   "metadata": {},
   "outputs": [
    {
     "name": "stdout",
     "output_type": "stream",
     "text": [
      "1234 45 345 2345 12345\n"
     ]
    }
   ],
   "source": [
    "    num1=num//10\n",
    "    num2=num%100\n",
    "    num3=num%1000\n",
    "    num4=num%10000\n",
    "    num5=num%100000\n",
    "    \n",
    "    print(num1,num2,num3,num4,num5)"
   ]
  },
  {
   "cell_type": "code",
   "execution_count": 8,
   "id": "2322bec2",
   "metadata": {},
   "outputs": [
    {
     "name": "stdout",
     "output_type": "stream",
     "text": [
      "Enter the below circle details\n",
      "radius: 20\n",
      "The circle area is          : 1257\n"
     ]
    }
   ],
   "source": [
    "import math\n",
    "def calculatareaofcircle(radius):\n",
    "    try:\n",
    "        \n",
    "        print(\"The circle area is          :\",round((math.pi*(radius*radius))))\n",
    "        \n",
    "    except Exception as e:\n",
    "        print(e)\n",
    "\n",
    "print(\"Enter the below circle details\")\n",
    "radius=eval(input(\"radius: \"))\n",
    "calculatareaofcircle(radius)"
   ]
  },
  {
   "cell_type": "code",
   "execution_count": 10,
   "id": "e7894dcf",
   "metadata": {},
   "outputs": [
    {
     "name": "stdout",
     "output_type": "stream",
     "text": [
      "60 20.0\n"
     ]
    }
   ],
   "source": [
    "def sum_avg(n1,n2,n3):\n",
    "    summ=n1+n2+n3\n",
    "    avg= summ/3\n",
    "    return(summ,avg)\n",
    "\n",
    "addition,average=sum_avg(10,20,30)\n",
    "\n",
    "print(addition,average)\n"
   ]
  },
  {
   "cell_type": "code",
   "execution_count": 13,
   "id": "1cd319c5",
   "metadata": {},
   "outputs": [
    {
     "name": "stdout",
     "output_type": "stream",
     "text": [
      "Enter the numer1: 10\n",
      "Enter the numer2: 23\n",
      "Enter the numer3: 44\n",
      "The biggest numer is 44\n",
      "The biggest value 44\n"
     ]
    }
   ],
   "source": [
    "num1=eval(input(\"Enter the numer1: \"))\n",
    "num2=eval(input(\"Enter the numer2: \"))\n",
    "num3=eval(input(\"Enter the numer3: \"))\n",
    "def greater(n1,n2,n3):\n",
    "    biggestvalue=0\n",
    "    if num1>num2 and num1>num3:\n",
    "        print(\"The biggest numer is {}\".format(num1))\n",
    "        biggestvalue=num1\n",
    "    elif num2>num3:\n",
    "        print(\"The biggest numer is {}\".format(num2))\n",
    "        biggestvalue=num2\n",
    "    else:\n",
    "        print(\"The biggest numer is {}\".format(num3))\n",
    "        biggestvalue=num3\n",
    "    return(biggestvalue)\n",
    "\n",
    "greaterval=greater(num1,num2,num3)\n",
    "\n",
    "print(\"The biggest value {}\".format(greaterval))"
   ]
  },
  {
   "cell_type": "code",
   "execution_count": null,
   "id": "caf9ef80",
   "metadata": {},
   "outputs": [],
   "source": []
  }
 ],
 "metadata": {
  "kernelspec": {
   "display_name": "Python 3 (ipykernel)",
   "language": "python",
   "name": "python3"
  },
  "language_info": {
   "codemirror_mode": {
    "name": "ipython",
    "version": 3
   },
   "file_extension": ".py",
   "mimetype": "text/x-python",
   "name": "python",
   "nbconvert_exporter": "python",
   "pygments_lexer": "ipython3",
   "version": "3.11.5"
  }
 },
 "nbformat": 4,
 "nbformat_minor": 5
}
