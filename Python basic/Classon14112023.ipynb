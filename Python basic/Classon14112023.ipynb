{
 "cells": [
  {
   "cell_type": "code",
   "execution_count": 1,
   "id": "75a71ffa",
   "metadata": {},
   "outputs": [
    {
     "name": "stdout",
     "output_type": "stream",
     "text": [
      "3\n"
     ]
    }
   ],
   "source": [
    "string1=\"ola ola ola\"\n",
    "count=0\n",
    "for i in range(len(string1)):\n",
    "    if string1[i:i+3]=='ola':\n",
    "        count+=1\n",
    "print(count)\n",
    "    "
   ]
  },
  {
   "cell_type": "code",
   "execution_count": 4,
   "id": "6ce2e43c",
   "metadata": {},
   "outputs": [
    {
     "name": "stdout",
     "output_type": "stream",
     "text": [
      "3\n"
     ]
    }
   ],
   "source": [
    "string1=\"ola ola ola\"\n",
    "count=0\n",
    "word=''\n",
    "for i in string1:\n",
    "    if i!=' ':\n",
    "        word+=i   \n",
    "    if word=='ola':\n",
    "        count+=1\n",
    "        word=''\n",
    "print(count)"
   ]
  },
  {
   "cell_type": "code",
   "execution_count": 5,
   "id": "82e06fb8",
   "metadata": {},
   "outputs": [
    {
     "data": {
      "text/plain": [
       "'oLa oLa oLa'"
      ]
     },
     "execution_count": 5,
     "metadata": {},
     "output_type": "execute_result"
    }
   ],
   "source": [
    "string1.replace('l','L')"
   ]
  },
  {
   "cell_type": "code",
   "execution_count": 6,
   "id": "79aa34bd",
   "metadata": {},
   "outputs": [
    {
     "data": {
      "text/plain": [
       "'Restart'"
      ]
     },
     "execution_count": 6,
     "metadata": {},
     "output_type": "execute_result"
    }
   ],
   "source": [
    "string1=\"restart\"\n",
    "string1.replace('r','R',1)"
   ]
  },
  {
   "cell_type": "code",
   "execution_count": 10,
   "id": "0c4d4f47",
   "metadata": {},
   "outputs": [
    {
     "name": "stdout",
     "output_type": "stream",
     "text": [
      "$ 2\n"
     ]
    },
    {
     "data": {
      "text/plain": [
       "7"
      ]
     },
     "execution_count": 10,
     "metadata": {},
     "output_type": "execute_result"
    }
   ],
   "source": [
    "count=0\n",
    "newword=''\n",
    "for i in string1:\n",
    "    if i=='r':\n",
    "        count+=1\n",
    "    if count<len(string1):\n",
    "        newword='$'\n",
    "    else:\n",
    "        newword+=i\n",
    "        \n",
    "print(newword, count)\n",
    "len(string1)"
   ]
  },
  {
   "cell_type": "code",
   "execution_count": 12,
   "id": "b5b68c40",
   "metadata": {},
   "outputs": [
    {
     "data": {
      "text/plain": [
       "'resta$t'"
      ]
     },
     "execution_count": 12,
     "metadata": {},
     "output_type": "execute_result"
    }
   ],
   "source": [
    "string1[0] + string1[1:].replace('r','$')"
   ]
  },
  {
   "cell_type": "code",
   "execution_count": 17,
   "id": "c5687ad6",
   "metadata": {},
   "outputs": [
    {
     "data": {
      "text/plain": [
       "'resta$t'"
      ]
     },
     "execution_count": 17,
     "metadata": {},
     "output_type": "execute_result"
    }
   ],
   "source": [
    "string1[::-1].replace('r','$',1)[::-1]"
   ]
  },
  {
   "cell_type": "code",
   "execution_count": 21,
   "id": "b8914b5c",
   "metadata": {},
   "outputs": [
    {
     "data": {
      "text/plain": [
       "3"
      ]
     },
     "execution_count": 21,
     "metadata": {},
     "output_type": "execute_result"
    }
   ],
   "source": [
    "string1=\"welcome python\"\n",
    "string1.index('c')"
   ]
  },
  {
   "cell_type": "code",
   "execution_count": 22,
   "id": "86dd982e",
   "metadata": {},
   "outputs": [
    {
     "name": "stdout",
     "output_type": "stream",
     "text": [
      "3\n"
     ]
    }
   ],
   "source": [
    "string1=\"hai how are you and\"\n",
    "count=0\n",
    "for i in string1:\n",
    "    if i=='a':\n",
    "        count+=1\n",
    "print(count)"
   ]
  },
  {
   "cell_type": "code",
   "execution_count": 23,
   "id": "b156c3e5",
   "metadata": {},
   "outputs": [
    {
     "name": "stdout",
     "output_type": "stream",
     "text": [
      "1\n",
      "8\n",
      "16\n",
      "3\n"
     ]
    }
   ],
   "source": [
    "for i in range(len(string1)):\n",
    "    if string1[i]=='a':\n",
    "        print(i)\n",
    "        \n",
    "print(count)"
   ]
  },
  {
   "cell_type": "code",
   "execution_count": 25,
   "id": "caa1cfc7",
   "metadata": {},
   "outputs": [
    {
     "data": {
      "text/plain": [
       "1"
      ]
     },
     "execution_count": 25,
     "metadata": {},
     "output_type": "execute_result"
    }
   ],
   "source": [
    "string1.index('a')"
   ]
  },
  {
   "cell_type": "code",
   "execution_count": 29,
   "id": "6a1147a9",
   "metadata": {},
   "outputs": [
    {
     "name": "stdout",
     "output_type": "stream",
     "text": [
      "1\n",
      "5\n",
      "9\n"
     ]
    }
   ],
   "source": [
    "string1=\"hai hai hai\"\n",
    "print(string1.index('a'))\n",
    "print(string1.index('a',5))\n",
    "print(string1.index('a',6))"
   ]
  },
  {
   "cell_type": "code",
   "execution_count": 33,
   "id": "2c2d1ef7",
   "metadata": {},
   "outputs": [
    {
     "name": "stdout",
     "output_type": "stream",
     "text": [
      "a\n",
      "1\n",
      "a\n",
      "1\n",
      "a\n",
      "1\n"
     ]
    }
   ],
   "source": [
    "for i in string1:\n",
    "    #print(i)\n",
    "    if i=='a':\n",
    "        print(i)\n",
    "        print(string1.index(i))"
   ]
  },
  {
   "cell_type": "code",
   "execution_count": 35,
   "id": "e0d3d235",
   "metadata": {},
   "outputs": [
    {
     "data": {
      "text/plain": [
       "5"
      ]
     },
     "execution_count": 35,
     "metadata": {},
     "output_type": "execute_result"
    }
   ],
   "source": [
    "string1.find('a',string1.find('a')+1)"
   ]
  },
  {
   "cell_type": "code",
   "execution_count": 37,
   "id": "6a73d71b",
   "metadata": {},
   "outputs": [
    {
     "data": {
      "text/plain": [
       "-1"
      ]
     },
     "execution_count": 37,
     "metadata": {},
     "output_type": "execute_result"
    }
   ],
   "source": [
    "string1.find('z')"
   ]
  },
  {
   "cell_type": "code",
   "execution_count": 38,
   "id": "9918a591",
   "metadata": {},
   "outputs": [
    {
     "ename": "ValueError",
     "evalue": "substring not found",
     "output_type": "error",
     "traceback": [
      "\u001b[1;31m---------------------------------------------------------------------------\u001b[0m",
      "\u001b[1;31mValueError\u001b[0m                                Traceback (most recent call last)",
      "Cell \u001b[1;32mIn[38], line 1\u001b[0m\n\u001b[1;32m----> 1\u001b[0m string1\u001b[38;5;241m.\u001b[39mindex(\u001b[38;5;124m'\u001b[39m\u001b[38;5;124mz\u001b[39m\u001b[38;5;124m'\u001b[39m)\n",
      "\u001b[1;31mValueError\u001b[0m: substring not found"
     ]
    }
   ],
   "source": [
    "string1.index('z')"
   ]
  },
  {
   "cell_type": "code",
   "execution_count": 39,
   "id": "366555ce",
   "metadata": {},
   "outputs": [
    {
     "data": {
      "text/plain": [
       "0"
      ]
     },
     "execution_count": 39,
     "metadata": {},
     "output_type": "execute_result"
    }
   ],
   "source": [
    "string1.count('z')"
   ]
  },
  {
   "cell_type": "markdown",
   "id": "e07eeb56",
   "metadata": {},
   "source": [
    "- capitalize/upper/lower/caseflod"
   ]
  },
  {
   "cell_type": "code",
   "execution_count": 46,
   "id": "62d27ae2",
   "metadata": {},
   "outputs": [
    {
     "name": "stdout",
     "output_type": "stream",
     "text": [
      "Enter the Quiz 1 mark out of 20: 20\n",
      "Enter the Quiz 2 mark out of 20: 20\n",
      "Enter the Class test mark out of 50: 50\n",
      "Enter the Assignment mark out of 100: 100\n",
      "Enter the Project mark out of 200: 200\n",
      "2 2 12 25 60 101\n"
     ]
    }
   ],
   "source": [
    "quiz1=round((eval(input(\"Enter the Quiz 1 mark out of 20: \"))*10)/100)\n",
    "quiz2=round((eval(input(\"Enter the Quiz 2 mark out of 20: \"))*10)/100)\n",
    "classtest=round((eval(input(\"Enter the Class test mark out of 50: \"))*25)/100)\n",
    "Assignment=round((eval(input(\"Enter the Assignment mark out of 100: \"))*25)/100)\n",
    "project=round((eval(input(\"Enter the Project mark out of 200: \"))*30)/100)\n",
    "overallmark=quiz1+quiz2+classtest+Assignment+project\n",
    "print(quiz1,quiz2,classtest,Assignment,project,overallmark)"
   ]
  },
  {
   "cell_type": "code",
   "execution_count": 82,
   "id": "b5ac7380",
   "metadata": {},
   "outputs": [
    {
     "name": "stdout",
     "output_type": "stream",
     "text": [
      "8 78\n",
      "8\n",
      "8\n",
      "7\n",
      "6\n",
      "5\n",
      "33\n"
     ]
    }
   ],
   "source": [
    "summ=45678\n",
    "\n",
    "\n",
    "num1=summ%10\n",
    "num2=summ%100\n",
    "\n",
    "print(num1,num2)\n",
    "    \n",
    "total=0\n",
    "for i in range(5):\n",
    "    print(round(summ%10))\n",
    "    total+=summ%10\n",
    "    summ=summ/10\n",
    "    #print(summ)\n",
    "\n",
    "    \n",
    "print(round(total))    "
   ]
  },
  {
   "cell_type": "code",
   "execution_count": 83,
   "id": "052be7de",
   "metadata": {},
   "outputs": [
    {
     "data": {
      "text/plain": [
       "30"
      ]
     },
     "execution_count": 83,
     "metadata": {},
     "output_type": "execute_result"
    }
   ],
   "source": [
    "fivedigitnumber=87654\n",
    "num1=fivedigitnumber%10\n",
    "num2=(fivedigitnumber//10)%10\n",
    "num3=(fivedigitnumber//100)%10\n",
    "num4=(fivedigitnumber//1000)%10\n",
    "num5=(fivedigitnumber//10000)%10\n",
    "total=num1+num2+num3+num4+num5\n",
    "total"
   ]
  },
  {
   "cell_type": "code",
   "execution_count": 84,
   "id": "99b423f7",
   "metadata": {},
   "outputs": [
    {
     "name": "stdout",
     "output_type": "stream",
     "text": [
      "Enter the five digit number: 12345\n",
      "6 5 4 3 2\n"
     ]
    }
   ],
   "source": [
    "fivedigitnumber=eval(input(\"Enter the five digit number: \"))\n",
    "num1=(fivedigitnumber%10)+1\n",
    "num2=((fivedigitnumber//10)%10)+1\n",
    "num3=((fivedigitnumber//100)%10)+1\n",
    "num4=((fivedigitnumber//1000)%10)+1\n",
    "num5=((fivedigitnumber//10000)%10)+1\n",
    "print(num1,num2,num3,num4,num5)\n",
    "\n"
   ]
  },
  {
   "cell_type": "code",
   "execution_count": 86,
   "id": "89fd7a87",
   "metadata": {},
   "outputs": [
    {
     "name": "stdout",
     "output_type": "stream",
     "text": [
      "Enter the Quiz 1 mark out of 20: \n"
     ]
    },
    {
     "ename": "SyntaxError",
     "evalue": "invalid syntax (<string>, line 0)",
     "output_type": "error",
     "traceback": [
      "Traceback \u001b[1;36m(most recent call last)\u001b[0m:\n",
      "\u001b[0m  File \u001b[0;32m~\\anaconda3\\Lib\\site-packages\\IPython\\core\\interactiveshell.py:3526\u001b[0m in \u001b[0;35mrun_code\u001b[0m\n    exec(code_obj, self.user_global_ns, self.user_ns)\u001b[0m\n",
      "\u001b[1;36m  Cell \u001b[1;32mIn[86], line 1\u001b[1;36m\n\u001b[1;33m    quiz1=round((eval(input(\"Enter the Quiz 1 mark out of 20: \"))*10)/100)\u001b[1;36m\n",
      "\u001b[1;36m  File \u001b[1;32m<string>\u001b[1;36m\u001b[0m\n\u001b[1;33m    \u001b[0m\n\u001b[1;37m    ^\u001b[0m\n\u001b[1;31mSyntaxError\u001b[0m\u001b[1;31m:\u001b[0m invalid syntax\n"
     ]
    }
   ],
   "source": [
    "quiz1=round((eval(input(\"Enter the Quiz 1 mark out of 20: \"))*10)/100)\n",
    "quiz2=round((eval(input(\"Enter the Quiz 2 mark out of 20: \"))*10)/100)\n",
    "classtest=round((eval(input(\"Enter the Class test mark out of 50: \"))*25)/100)\n",
    "Assignment=round((eval(input(\"Enter the Assignment mark out of 100: \"))*25)/100)\n",
    "project=round((eval(input(\"Enter the Project mark out of 200: \"))*30)/100)\n",
    "overallmark=quiz1+quiz2+classtest+Assignment+project\n",
    "print(overallmark)\n",
    "\n",
    "\n"
   ]
  },
  {
   "cell_type": "code",
   "execution_count": 90,
   "id": "079bfc96",
   "metadata": {},
   "outputs": [
    {
     "name": "stdout",
     "output_type": "stream",
     "text": [
      "The student get overall mark 87 and the grade is : First Class\n"
     ]
    }
   ],
   "source": [
    "overallmark=87\n",
    "if overallmark>=60:\n",
    "    print(\"The student get overall mark {} and the grade is : First Class\".format(overallmark))\n",
    "elif overallmark>=40:\n",
    "    print(\"The student get overall mark {} and the grade is : Second Class\".format(overallmark))\n",
    "elif overallmark<40:\n",
    "    print(\"The student get overall mark {} and the grade is : Fail\".format(overallmark))\n"
   ]
  },
  {
   "cell_type": "code",
   "execution_count": 92,
   "id": "6542462d",
   "metadata": {},
   "outputs": [
    {
     "name": "stdout",
     "output_type": "stream",
     "text": [
      "Enter the Rate per hour: 67\n",
      "Enter the worked hour: jj\n",
      "Error:: please enter numeric input.\n"
     ]
    }
   ],
   "source": [
    "try:\n",
    "    rateperhour=eval(input(\"Enter the Rate per hour: \"))\n",
    "    empworkedhour=eval(input(\"Enter the worked hour: \"))\n",
    "    firmpaytoemployee=rateperhour*empworkedhour\n",
    "    print(\"The firm should be pay the employee is\",firmpaytoemployee)\n",
    "except Exception as e:\n",
    "    print(\"Error:: please enter numeric input.\")"
   ]
  },
  {
   "cell_type": "code",
   "execution_count": 100,
   "id": "dcf28b5c",
   "metadata": {},
   "outputs": [
    {
     "name": "stdout",
     "output_type": "stream",
     "text": [
      "Enter a temperature in celsius:0\n",
      "The temperature is at the freezing point.\n"
     ]
    }
   ],
   "source": [
    "try:\n",
    "    celsius=eval(input(\"Enter a temperature in celsius:\"))\n",
    "    if celsius<-273.15:\n",
    "        print(\"The temperature is invalid because it is below absolute zero\")\n",
    "    elif celsius==-273.15:\n",
    "        print(\"The temperature is absolute 0.\")\n",
    "    elif celsius>-273.15 and celsius<0:\n",
    "        print(\"The temperature is below freezing.\")\n",
    "    elif celsius==0:\n",
    "        print(\"The temperature is at the freezing point.\")\n",
    "    elif celsius>0 and celsius<100:\n",
    "        print(\"The temperature is in the normal range.\")\n",
    "    elif celsius==100:\n",
    "        print(\"The temperature is at the boiling point. \")\n",
    "    elif celsius>100:\n",
    "        print(\"The temperature is above the boiling point.\")\n",
    "except Exception as e:\n",
    "    print(\"Error:: \",e)"
   ]
  },
  {
   "cell_type": "code",
   "execution_count": null,
   "id": "a395b0c5",
   "metadata": {},
   "outputs": [],
   "source": []
  },
  {
   "cell_type": "code",
   "execution_count": null,
   "id": "90b500e5",
   "metadata": {},
   "outputs": [],
   "source": []
  }
 ],
 "metadata": {
  "kernelspec": {
   "display_name": "Python 3 (ipykernel)",
   "language": "python",
   "name": "python3"
  },
  "language_info": {
   "codemirror_mode": {
    "name": "ipython",
    "version": 3
   },
   "file_extension": ".py",
   "mimetype": "text/x-python",
   "name": "python",
   "nbconvert_exporter": "python",
   "pygments_lexer": "ipython3",
   "version": "3.11.5"
  }
 },
 "nbformat": 4,
 "nbformat_minor": 5
}
