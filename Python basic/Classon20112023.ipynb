{
 "cells": [
  {
   "cell_type": "code",
   "execution_count": 1,
   "id": "7cf44b21",
   "metadata": {},
   "outputs": [
    {
     "data": {
      "text/plain": [
       "{'Ram': 25, 'raheem': 30, 'Robert': 35}"
      ]
     },
     "execution_count": 1,
     "metadata": {},
     "output_type": "execute_result"
    }
   ],
   "source": [
    "d1={'Ram':25,'raheem':30,'Robert':35}\n",
    "d1"
   ]
  },
  {
   "cell_type": "code",
   "execution_count": 2,
   "id": "433ba942",
   "metadata": {},
   "outputs": [
    {
     "data": {
      "text/plain": [
       "{25: 'Ram', 30: 'raheem', 35: 'Robert'}"
      ]
     },
     "execution_count": 2,
     "metadata": {},
     "output_type": "execute_result"
    }
   ],
   "source": [
    "d2={25:'Ram',30:'raheem',35:'Robert'}\n",
    "d2"
   ]
  },
  {
   "cell_type": "code",
   "execution_count": null,
   "id": "46afdac3",
   "metadata": {},
   "outputs": [],
   "source": [
    "d3={}"
   ]
  },
  {
   "cell_type": "code",
   "execution_count": null,
   "id": "73de090a",
   "metadata": {},
   "outputs": [],
   "source": []
  },
  {
   "cell_type": "code",
   "execution_count": 3,
   "id": "08b00d99",
   "metadata": {},
   "outputs": [
    {
     "data": {
      "text/plain": [
       "{'item_list': {'fruits': 'apple'}}"
      ]
     },
     "execution_count": 3,
     "metadata": {},
     "output_type": "execute_result"
    }
   ],
   "source": [
    "d5={'item_list':{'fruits':'apple'}}\n",
    "d5"
   ]
  },
  {
   "cell_type": "code",
   "execution_count": 5,
   "id": "a2319e65",
   "metadata": {},
   "outputs": [
    {
     "ename": "TypeError",
     "evalue": "unhashable type: 'dict'",
     "output_type": "error",
     "traceback": [
      "\u001b[1;31m---------------------------------------------------------------------------\u001b[0m",
      "\u001b[1;31mTypeError\u001b[0m                                 Traceback (most recent call last)",
      "Cell \u001b[1;32mIn[5], line 1\u001b[0m\n\u001b[1;32m----> 1\u001b[0m d6\u001b[38;5;241m=\u001b[39m{{\u001b[38;5;124m'\u001b[39m\u001b[38;5;124mfruits\u001b[39m\u001b[38;5;124m'\u001b[39m:\u001b[38;5;124m'\u001b[39m\u001b[38;5;124mapple\u001b[39m\u001b[38;5;124m'\u001b[39m}:\u001b[38;5;124m'\u001b[39m\u001b[38;5;124mitem_list\u001b[39m\u001b[38;5;124m'\u001b[39m}\n\u001b[0;32m      2\u001b[0m d6\n",
      "\u001b[1;31mTypeError\u001b[0m: unhashable type: 'dict'"
     ]
    }
   ],
   "source": [
    "d6={{'fruits':'apple'}:'item_list'}\n",
    "d6"
   ]
  },
  {
   "cell_type": "code",
   "execution_count": 6,
   "id": "6701b26c",
   "metadata": {},
   "outputs": [
    {
     "name": "stdout",
     "output_type": "stream",
     "text": [
      "[1, 2] (1, 2)\n"
     ]
    }
   ],
   "source": [
    "a=[1,2]\n",
    "b=(1,2)\n",
    "print(a,b)"
   ]
  },
  {
   "cell_type": "code",
   "execution_count": 9,
   "id": "a495adea",
   "metadata": {},
   "outputs": [
    {
     "name": "stdout",
     "output_type": "stream",
     "text": [
      "1 2 1 2\n"
     ]
    }
   ],
   "source": [
    "a,b=[1,2]\n",
    "c,d=(1,2)\n",
    "print(a,b,c,d)\n"
   ]
  },
  {
   "cell_type": "code",
   "execution_count": 11,
   "id": "f8f5dc81",
   "metadata": {},
   "outputs": [
    {
     "data": {
      "text/plain": [
       "(1, 2)"
      ]
     },
     "execution_count": 11,
     "metadata": {},
     "output_type": "execute_result"
    }
   ],
   "source": [
    "a=1,2\n",
    "a"
   ]
  },
  {
   "cell_type": "code",
   "execution_count": 12,
   "id": "362a9b67",
   "metadata": {},
   "outputs": [
    {
     "data": {
      "text/plain": [
       "{'a': 1, 'b': 2}"
      ]
     },
     "execution_count": 12,
     "metadata": {},
     "output_type": "execute_result"
    }
   ],
   "source": [
    "d1={'a':1,'b':2,'a':1}\n",
    "d1"
   ]
  },
  {
   "cell_type": "code",
   "execution_count": 14,
   "id": "605af46a",
   "metadata": {},
   "outputs": [
    {
     "data": {
      "text/plain": [
       "{'a': 3, 'b': 2}"
      ]
     },
     "execution_count": 14,
     "metadata": {},
     "output_type": "execute_result"
    }
   ],
   "source": [
    "d3={'a':1,'b':2,'a':3}\n",
    "d3"
   ]
  },
  {
   "cell_type": "markdown",
   "id": "a56cc572",
   "metadata": {},
   "source": [
    "- Dictionary is key value par\n",
    "- at values position you can take any data type\n",
    "- at Key position list and dictionary will fail\n",
    "- duplicates are not allowed\n",
    "- if you will update a key value, latest value it will take"
   ]
  },
  {
   "cell_type": "code",
   "execution_count": 15,
   "id": "b6c721ad",
   "metadata": {},
   "outputs": [
    {
     "data": {
      "text/plain": [
       "dict"
      ]
     },
     "execution_count": 15,
     "metadata": {},
     "output_type": "execute_result"
    }
   ],
   "source": [
    "type(d1)"
   ]
  },
  {
   "cell_type": "code",
   "execution_count": 16,
   "id": "448778fc",
   "metadata": {},
   "outputs": [
    {
     "data": {
      "text/plain": [
       "'raheem'"
      ]
     },
     "execution_count": 16,
     "metadata": {},
     "output_type": "execute_result"
    }
   ],
   "source": [
    "d1={'Ram':25,'raheem':30,'Robert':35}\n",
    "max(d1)\n",
    "\n",
    "# the maximum/minimum we are getting based on the Key"
   ]
  },
  {
   "cell_type": "code",
   "execution_count": 17,
   "id": "27dc4dd3",
   "metadata": {},
   "outputs": [
    {
     "data": {
      "text/plain": [
       "'Ram'"
      ]
     },
     "execution_count": 17,
     "metadata": {},
     "output_type": "execute_result"
    }
   ],
   "source": [
    "min(d1)\n"
   ]
  },
  {
   "cell_type": "code",
   "execution_count": 18,
   "id": "76568382",
   "metadata": {},
   "outputs": [
    {
     "data": {
      "text/plain": [
       "3"
      ]
     },
     "execution_count": 18,
     "metadata": {},
     "output_type": "execute_result"
    }
   ],
   "source": [
    "len(d1)"
   ]
  },
  {
   "cell_type": "code",
   "execution_count": 19,
   "id": "4d2ace76",
   "metadata": {},
   "outputs": [
    {
     "ename": "TypeError",
     "evalue": "unsupported operand type(s) for +: 'int' and 'str'",
     "output_type": "error",
     "traceback": [
      "\u001b[1;31m---------------------------------------------------------------------------\u001b[0m",
      "\u001b[1;31mTypeError\u001b[0m                                 Traceback (most recent call last)",
      "Cell \u001b[1;32mIn[19], line 1\u001b[0m\n\u001b[1;32m----> 1\u001b[0m \u001b[38;5;28msum\u001b[39m(d1)\n",
      "\u001b[1;31mTypeError\u001b[0m: unsupported operand type(s) for +: 'int' and 'str'"
     ]
    }
   ],
   "source": [
    "sum(d1)"
   ]
  },
  {
   "cell_type": "code",
   "execution_count": 20,
   "id": "fd63aa46",
   "metadata": {},
   "outputs": [
    {
     "data": {
      "text/plain": [
       "4"
      ]
     },
     "execution_count": 20,
     "metadata": {},
     "output_type": "execute_result"
    }
   ],
   "source": [
    "d2={1:2,3:4}\n",
    "sum(d2)"
   ]
  },
  {
   "cell_type": "markdown",
   "id": "f5d5ff0f",
   "metadata": {},
   "source": [
    "- sum only working with Key and must have numeric key"
   ]
  },
  {
   "cell_type": "code",
   "execution_count": 27,
   "id": "07478311",
   "metadata": {},
   "outputs": [
    {
     "name": "stdout",
     "output_type": "stream",
     "text": [
      "The age of Ram is 25\n",
      "The age of raheem is 30\n",
      "The age of Robert is 35\n"
     ]
    }
   ],
   "source": [
    "d1={'Ram':25,'raheem':30,'Robert':35}\n",
    "for i in d1:\n",
    "    print(\"The age of {} is {}\".format(i,d1[i]))"
   ]
  },
  {
   "cell_type": "code",
   "execution_count": 30,
   "id": "15f0b185",
   "metadata": {},
   "outputs": [
    {
     "name": "stdout",
     "output_type": "stream",
     "text": [
      "0\n"
     ]
    },
    {
     "ename": "KeyError",
     "evalue": "0",
     "output_type": "error",
     "traceback": [
      "\u001b[1;31m---------------------------------------------------------------------------\u001b[0m",
      "\u001b[1;31mKeyError\u001b[0m                                  Traceback (most recent call last)",
      "Cell \u001b[1;32mIn[30], line 3\u001b[0m\n\u001b[0;32m      1\u001b[0m \u001b[38;5;28;01mfor\u001b[39;00m i \u001b[38;5;129;01min\u001b[39;00m \u001b[38;5;28mrange\u001b[39m(\u001b[38;5;28mlen\u001b[39m(d1)):\n\u001b[0;32m      2\u001b[0m     \u001b[38;5;28mprint\u001b[39m(i)\n\u001b[1;32m----> 3\u001b[0m     \u001b[38;5;28mprint\u001b[39m(d1[i])\n",
      "\u001b[1;31mKeyError\u001b[0m: 0"
     ]
    }
   ],
   "source": [
    "for i in range(len(d1)):\n",
    "    print(i)\n",
    "    print(d1[i])"
   ]
  },
  {
   "cell_type": "markdown",
   "id": "209d9b00",
   "metadata": {},
   "source": [
    "**create a empty dictionary and update**"
   ]
  },
  {
   "cell_type": "code",
   "execution_count": 31,
   "id": "bfb3b095",
   "metadata": {},
   "outputs": [
    {
     "data": {
      "text/plain": [
       "{'fruite': 'apple'}"
      ]
     },
     "execution_count": 31,
     "metadata": {},
     "output_type": "execute_result"
    }
   ],
   "source": [
    "d1={}\n",
    "d1['fruite']=\"apple\"\n",
    "d1"
   ]
  },
  {
   "cell_type": "code",
   "execution_count": 33,
   "id": "9a029f40",
   "metadata": {},
   "outputs": [
    {
     "data": {
      "text/plain": [
       "{'name': 'suresh', 'age': '34', 'company': 'HCL'}"
      ]
     },
     "execution_count": 33,
     "metadata": {},
     "output_type": "execute_result"
    }
   ],
   "source": [
    "#wap create a empty dictionary and update \n",
    "d2={}\n",
    "d2['name']='suresh'\n",
    "d2['age']='34'\n",
    "d2['company']='HCL'\n",
    "d2"
   ]
  },
  {
   "cell_type": "code",
   "execution_count": 35,
   "id": "4e78d95f",
   "metadata": {},
   "outputs": [
    {
     "name": "stdout",
     "output_type": "stream",
     "text": [
      "ram 25\n",
      "raheem 30\n",
      "robert 35\n"
     ]
    },
    {
     "data": {
      "text/plain": [
       "{'ram': 25, 'raheem': 30, 'robert': 35}"
      ]
     },
     "execution_count": 35,
     "metadata": {},
     "output_type": "execute_result"
    }
   ],
   "source": [
    "#wap create a dictionary based on two lists\n",
    "#name=['ram','raheem','robert']\n",
    "#age=[25,30,35]\n",
    "\n",
    "name=['ram','raheem','robert']\n",
    "age=[25,30,35]\n",
    "d1={}\n",
    "for i,j in zip(name,age):\n",
    "    #print(i,j)\n",
    "    d1[i]=j\n",
    "d1"
   ]
  },
  {
   "cell_type": "code",
   "execution_count": 36,
   "id": "07eba7e8",
   "metadata": {},
   "outputs": [
    {
     "data": {
      "text/plain": [
       "{'ram': 25, 'raheem': 30, 'robert': 35}"
      ]
     },
     "execution_count": 36,
     "metadata": {},
     "output_type": "execute_result"
    }
   ],
   "source": [
    "d1={}\n",
    "for i in range(len(name)):\n",
    "    #print(i,j)\n",
    "    d1[name[i]]=age[i]\n",
    "d1"
   ]
  },
  {
   "cell_type": "code",
   "execution_count": 37,
   "id": "3084f230",
   "metadata": {},
   "outputs": [
    {
     "data": {
      "text/plain": [
       "{'ram': 25, 'raheem': 30, 'robert': 35}"
      ]
     },
     "execution_count": 37,
     "metadata": {},
     "output_type": "execute_result"
    }
   ],
   "source": [
    "d1={name[i]:age[i] for i in range(len(name))}\n",
    "d1"
   ]
  },
  {
   "cell_type": "code",
   "execution_count": 41,
   "id": "a9ccc7d7",
   "metadata": {},
   "outputs": [
    {
     "data": {
      "text/plain": [
       "{'ram': 25, 'raheem': 30, 'robert': 35}"
      ]
     },
     "execution_count": 41,
     "metadata": {},
     "output_type": "execute_result"
    }
   ],
   "source": [
    "d1={name:age for name,age in zip(name,age)}\n",
    "d1"
   ]
  },
  {
   "cell_type": "code",
   "execution_count": 49,
   "id": "e88b4c83",
   "metadata": {},
   "outputs": [
    {
     "name": "stdout",
     "output_type": "stream",
     "text": [
      "2\n",
      "2\n"
     ]
    },
    {
     "data": {
      "text/plain": [
       "{'even': [2, 2], 'odd': [1, 3, 3]}"
      ]
     },
     "execution_count": 49,
     "metadata": {},
     "output_type": "execute_result"
    }
   ],
   "source": [
    "import random\n",
    "d1={}\n",
    "even=[]\n",
    "odd=[]\n",
    "for i in range(5):\n",
    "    num=random.randint(1,6)\n",
    "    if num%2==0:\n",
    "        even.append(num)\n",
    "        d1['even']=even\n",
    "    else:\n",
    "        odd.append(num)\n",
    "        d1['odd']=odd\n",
    "#d1['even']=even\n",
    "#d1['odd']=odd\n",
    "d1"
   ]
  },
  {
   "cell_type": "code",
   "execution_count": null,
   "id": "2bcd1f83",
   "metadata": {},
   "outputs": [],
   "source": []
  }
 ],
 "metadata": {
  "kernelspec": {
   "display_name": "Python 3 (ipykernel)",
   "language": "python",
   "name": "python3"
  },
  "language_info": {
   "codemirror_mode": {
    "name": "ipython",
    "version": 3
   },
   "file_extension": ".py",
   "mimetype": "text/x-python",
   "name": "python",
   "nbconvert_exporter": "python",
   "pygments_lexer": "ipython3",
   "version": "3.11.5"
  }
 },
 "nbformat": 4,
 "nbformat_minor": 5
}
