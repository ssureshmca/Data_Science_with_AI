{
 "cells": [
  {
   "cell_type": "code",
   "execution_count": 1,
   "id": "1dbca52f",
   "metadata": {},
   "outputs": [],
   "source": [
    "import numpy as np\n",
    "import pandas as pd\n",
    "import matplotlib.pyplot as plt\n",
    "import seaborn as sns\n",
    "import warnings\n",
    "warnings.filterwarnings('ignore')"
   ]
  },
  {
   "cell_type": "code",
   "execution_count": 2,
   "id": "1f8908d7",
   "metadata": {},
   "outputs": [
    {
     "data": {
      "text/html": [
       "<div>\n",
       "<style scoped>\n",
       "    .dataframe tbody tr th:only-of-type {\n",
       "        vertical-align: middle;\n",
       "    }\n",
       "\n",
       "    .dataframe tbody tr th {\n",
       "        vertical-align: top;\n",
       "    }\n",
       "\n",
       "    .dataframe thead th {\n",
       "        text-align: right;\n",
       "    }\n",
       "</style>\n",
       "<table border=\"1\" class=\"dataframe\">\n",
       "  <thead>\n",
       "    <tr style=\"text-align: right;\">\n",
       "      <th></th>\n",
       "      <th>fixed acidity</th>\n",
       "      <th>volatile acidity</th>\n",
       "      <th>citric acid</th>\n",
       "      <th>residual sugar</th>\n",
       "      <th>chlorides</th>\n",
       "      <th>free sulfur dioxide</th>\n",
       "      <th>total sulfur dioxide</th>\n",
       "      <th>density</th>\n",
       "      <th>pH</th>\n",
       "      <th>sulphates</th>\n",
       "      <th>alcohol</th>\n",
       "      <th>quality</th>\n",
       "    </tr>\n",
       "  </thead>\n",
       "  <tbody>\n",
       "    <tr>\n",
       "      <th>1</th>\n",
       "      <td>7.4</td>\n",
       "      <td>0.70</td>\n",
       "      <td>0.00</td>\n",
       "      <td>1.9</td>\n",
       "      <td>0.076</td>\n",
       "      <td>11.0</td>\n",
       "      <td>34.0</td>\n",
       "      <td>0.9978</td>\n",
       "      <td>3.51</td>\n",
       "      <td>0.56</td>\n",
       "      <td>9.4</td>\n",
       "      <td>5.0</td>\n",
       "    </tr>\n",
       "    <tr>\n",
       "      <th>3</th>\n",
       "      <td>7.8</td>\n",
       "      <td>0.88</td>\n",
       "      <td>0.00</td>\n",
       "      <td>2.6</td>\n",
       "      <td>0.098</td>\n",
       "      <td>25.0</td>\n",
       "      <td>67.0</td>\n",
       "      <td>0.9968</td>\n",
       "      <td>3.20</td>\n",
       "      <td>0.68</td>\n",
       "      <td>9.8</td>\n",
       "      <td>5.0</td>\n",
       "    </tr>\n",
       "    <tr>\n",
       "      <th>5</th>\n",
       "      <td>7.8</td>\n",
       "      <td>0.76</td>\n",
       "      <td>0.04</td>\n",
       "      <td>2.3</td>\n",
       "      <td>0.092</td>\n",
       "      <td>15.0</td>\n",
       "      <td>54.0</td>\n",
       "      <td>0.9970</td>\n",
       "      <td>3.26</td>\n",
       "      <td>0.65</td>\n",
       "      <td>9.8</td>\n",
       "      <td>5.0</td>\n",
       "    </tr>\n",
       "    <tr>\n",
       "      <th>7</th>\n",
       "      <td>11.2</td>\n",
       "      <td>0.28</td>\n",
       "      <td>0.56</td>\n",
       "      <td>1.9</td>\n",
       "      <td>0.075</td>\n",
       "      <td>17.0</td>\n",
       "      <td>60.0</td>\n",
       "      <td>0.9980</td>\n",
       "      <td>3.16</td>\n",
       "      <td>0.58</td>\n",
       "      <td>9.8</td>\n",
       "      <td>6.0</td>\n",
       "    </tr>\n",
       "    <tr>\n",
       "      <th>9</th>\n",
       "      <td>7.4</td>\n",
       "      <td>0.70</td>\n",
       "      <td>0.00</td>\n",
       "      <td>1.9</td>\n",
       "      <td>0.076</td>\n",
       "      <td>11.0</td>\n",
       "      <td>34.0</td>\n",
       "      <td>0.9978</td>\n",
       "      <td>3.51</td>\n",
       "      <td>0.56</td>\n",
       "      <td>9.4</td>\n",
       "      <td>5.0</td>\n",
       "    </tr>\n",
       "  </tbody>\n",
       "</table>\n",
       "</div>"
      ],
      "text/plain": [
       "   fixed acidity  volatile acidity  citric acid  residual sugar  chlorides  \\\n",
       "1            7.4              0.70         0.00             1.9      0.076   \n",
       "3            7.8              0.88         0.00             2.6      0.098   \n",
       "5            7.8              0.76         0.04             2.3      0.092   \n",
       "7           11.2              0.28         0.56             1.9      0.075   \n",
       "9            7.4              0.70         0.00             1.9      0.076   \n",
       "\n",
       "   free sulfur dioxide  total sulfur dioxide  density    pH  sulphates  \\\n",
       "1                 11.0                  34.0   0.9978  3.51       0.56   \n",
       "3                 25.0                  67.0   0.9968  3.20       0.68   \n",
       "5                 15.0                  54.0   0.9970  3.26       0.65   \n",
       "7                 17.0                  60.0   0.9980  3.16       0.58   \n",
       "9                 11.0                  34.0   0.9978  3.51       0.56   \n",
       "\n",
       "   alcohol  quality  \n",
       "1      9.4      5.0  \n",
       "3      9.8      5.0  \n",
       "5      9.8      5.0  \n",
       "7      9.8      6.0  \n",
       "9      9.4      5.0  "
      ]
     },
     "execution_count": 2,
     "metadata": {},
     "output_type": "execute_result"
    }
   ],
   "source": [
    "winequalityred_df = pd.read_csv(\"winequality_red.csv\")\n",
    "winequalityred_df.dropna(inplace=True)\n",
    "winequalityred_df.head()"
   ]
  },
  {
   "cell_type": "code",
   "execution_count": 3,
   "id": "2ff0a94a",
   "metadata": {},
   "outputs": [],
   "source": [
    "#input data\n",
    "X=winequalityred_df.drop('quality', axis=1)\n",
    "#input data\n",
    "y=winequalityred_df[['quality']]"
   ]
  },
  {
   "cell_type": "code",
   "execution_count": 4,
   "id": "ee79e9a2",
   "metadata": {},
   "outputs": [],
   "source": [
    "from sklearn.model_selection import train_test_split\n",
    "X_train, X_test, y_train, y_test=train_test_split(X,y,\n",
    "                                                  test_size=0.2,\n",
    "                                                  random_state=1234)"
   ]
  },
  {
   "cell_type": "code",
   "execution_count": 5,
   "id": "43729f5b",
   "metadata": {},
   "outputs": [
    {
     "name": "stdout",
     "output_type": "stream",
     "text": [
      "(1279, 11)\n",
      "(320, 11)\n",
      "(1279, 1)\n",
      "(320, 1)\n"
     ]
    }
   ],
   "source": [
    "print(X_train.shape)\n",
    "print(X_test.shape)\n",
    "print(y_train.shape)\n",
    "print(y_test.shape)"
   ]
  },
  {
   "cell_type": "code",
   "execution_count": 6,
   "id": "2bd7d21a",
   "metadata": {},
   "outputs": [
    {
     "data": {
      "text/html": [
       "<table class=\"simpletable\">\n",
       "<caption>OLS Regression Results</caption>\n",
       "<tr>\n",
       "  <th>Dep. Variable:</th>         <td>quality</td>     <th>  R-squared (uncentered):</th>      <td>   0.987</td>\n",
       "</tr>\n",
       "<tr>\n",
       "  <th>Model:</th>                   <td>OLS</td>       <th>  Adj. R-squared (uncentered):</th> <td>   0.987</td>\n",
       "</tr>\n",
       "<tr>\n",
       "  <th>Method:</th>             <td>Least Squares</td>  <th>  F-statistic:       </th>          <td>   8645.</td>\n",
       "</tr>\n",
       "<tr>\n",
       "  <th>Date:</th>             <td>Thu, 01 Feb 2024</td> <th>  Prob (F-statistic):</th>           <td>  0.00</td> \n",
       "</tr>\n",
       "<tr>\n",
       "  <th>Time:</th>                 <td>09:20:24</td>     <th>  Log-Likelihood:    </th>          <td> -1270.3</td>\n",
       "</tr>\n",
       "<tr>\n",
       "  <th>No. Observations:</th>      <td>  1279</td>      <th>  AIC:               </th>          <td>   2563.</td>\n",
       "</tr>\n",
       "<tr>\n",
       "  <th>Df Residuals:</th>          <td>  1268</td>      <th>  BIC:               </th>          <td>   2619.</td>\n",
       "</tr>\n",
       "<tr>\n",
       "  <th>Df Model:</th>              <td>    11</td>      <th>                     </th>              <td> </td>   \n",
       "</tr>\n",
       "<tr>\n",
       "  <th>Covariance Type:</th>      <td>nonrobust</td>    <th>                     </th>              <td> </td>   \n",
       "</tr>\n",
       "</table>\n",
       "<table class=\"simpletable\">\n",
       "<tr>\n",
       "            <td></td>              <th>coef</th>     <th>std err</th>      <th>t</th>      <th>P>|t|</th>  <th>[0.025</th>    <th>0.975]</th>  \n",
       "</tr>\n",
       "<tr>\n",
       "  <th>fixed acidity</th>        <td>   -0.0084</td> <td>    0.019</td> <td>   -0.450</td> <td> 0.653</td> <td>   -0.045</td> <td>    0.028</td>\n",
       "</tr>\n",
       "<tr>\n",
       "  <th>volatile acidity</th>     <td>   -1.1035</td> <td>    0.134</td> <td>   -8.256</td> <td> 0.000</td> <td>   -1.366</td> <td>   -0.841</td>\n",
       "</tr>\n",
       "<tr>\n",
       "  <th>citric acid</th>          <td>   -0.1079</td> <td>    0.165</td> <td>   -0.654</td> <td> 0.513</td> <td>   -0.432</td> <td>    0.216</td>\n",
       "</tr>\n",
       "<tr>\n",
       "  <th>residual sugar</th>       <td>    0.0063</td> <td>    0.013</td> <td>    0.469</td> <td> 0.639</td> <td>   -0.020</td> <td>    0.033</td>\n",
       "</tr>\n",
       "<tr>\n",
       "  <th>chlorides</th>            <td>   -1.7285</td> <td>    0.460</td> <td>   -3.760</td> <td> 0.000</td> <td>   -2.630</td> <td>   -0.827</td>\n",
       "</tr>\n",
       "<tr>\n",
       "  <th>free sulfur dioxide</th>  <td>    0.0050</td> <td>    0.002</td> <td>    2.063</td> <td> 0.039</td> <td>    0.000</td> <td>    0.010</td>\n",
       "</tr>\n",
       "<tr>\n",
       "  <th>total sulfur dioxide</th> <td>   -0.0037</td> <td>    0.001</td> <td>   -4.429</td> <td> 0.000</td> <td>   -0.005</td> <td>   -0.002</td>\n",
       "</tr>\n",
       "<tr>\n",
       "  <th>density</th>              <td>    4.7359</td> <td>    0.706</td> <td>    6.710</td> <td> 0.000</td> <td>    3.351</td> <td>    6.121</td>\n",
       "</tr>\n",
       "<tr>\n",
       "  <th>pH</th>                   <td>   -0.5526</td> <td>    0.180</td> <td>   -3.068</td> <td> 0.002</td> <td>   -0.906</td> <td>   -0.199</td>\n",
       "</tr>\n",
       "<tr>\n",
       "  <th>sulphates</th>            <td>    0.8218</td> <td>    0.123</td> <td>    6.696</td> <td> 0.000</td> <td>    0.581</td> <td>    1.063</td>\n",
       "</tr>\n",
       "<tr>\n",
       "  <th>alcohol</th>              <td>    0.2988</td> <td>    0.020</td> <td>   15.289</td> <td> 0.000</td> <td>    0.260</td> <td>    0.337</td>\n",
       "</tr>\n",
       "</table>\n",
       "<table class=\"simpletable\">\n",
       "<tr>\n",
       "  <th>Omnibus:</th>       <td>15.143</td> <th>  Durbin-Watson:     </th> <td>   2.094</td>\n",
       "</tr>\n",
       "<tr>\n",
       "  <th>Prob(Omnibus):</th> <td> 0.001</td> <th>  Jarque-Bera (JB):  </th> <td>  19.632</td>\n",
       "</tr>\n",
       "<tr>\n",
       "  <th>Skew:</th>          <td>-0.152</td> <th>  Prob(JB):          </th> <td>5.46e-05</td>\n",
       "</tr>\n",
       "<tr>\n",
       "  <th>Kurtosis:</th>      <td> 3.526</td> <th>  Cond. No.          </th> <td>2.43e+03</td>\n",
       "</tr>\n",
       "</table><br/><br/>Notes:<br/>[1] R² is computed without centering (uncentered) since the model does not contain a constant.<br/>[2] Standard Errors assume that the covariance matrix of the errors is correctly specified.<br/>[3] The condition number is large, 2.43e+03. This might indicate that there are<br/>strong multicollinearity or other numerical problems."
      ],
      "text/latex": [
       "\\begin{center}\n",
       "\\begin{tabular}{lclc}\n",
       "\\toprule\n",
       "\\textbf{Dep. Variable:}       &     quality      & \\textbf{  R-squared (uncentered):}      &     0.987   \\\\\n",
       "\\textbf{Model:}               &       OLS        & \\textbf{  Adj. R-squared (uncentered):} &     0.987   \\\\\n",
       "\\textbf{Method:}              &  Least Squares   & \\textbf{  F-statistic:       }          &     8645.   \\\\\n",
       "\\textbf{Date:}                & Thu, 01 Feb 2024 & \\textbf{  Prob (F-statistic):}          &     0.00    \\\\\n",
       "\\textbf{Time:}                &     09:20:24     & \\textbf{  Log-Likelihood:    }          &   -1270.3   \\\\\n",
       "\\textbf{No. Observations:}    &        1279      & \\textbf{  AIC:               }          &     2563.   \\\\\n",
       "\\textbf{Df Residuals:}        &        1268      & \\textbf{  BIC:               }          &     2619.   \\\\\n",
       "\\textbf{Df Model:}            &          11      & \\textbf{                     }          &             \\\\\n",
       "\\textbf{Covariance Type:}     &    nonrobust     & \\textbf{                     }          &             \\\\\n",
       "\\bottomrule\n",
       "\\end{tabular}\n",
       "\\begin{tabular}{lcccccc}\n",
       "                              & \\textbf{coef} & \\textbf{std err} & \\textbf{t} & \\textbf{P$> |$t$|$} & \\textbf{[0.025} & \\textbf{0.975]}  \\\\\n",
       "\\midrule\n",
       "\\textbf{fixed acidity}        &      -0.0084  &        0.019     &    -0.450  &         0.653        &       -0.045    &        0.028     \\\\\n",
       "\\textbf{volatile acidity}     &      -1.1035  &        0.134     &    -8.256  &         0.000        &       -1.366    &       -0.841     \\\\\n",
       "\\textbf{citric acid}          &      -0.1079  &        0.165     &    -0.654  &         0.513        &       -0.432    &        0.216     \\\\\n",
       "\\textbf{residual sugar}       &       0.0063  &        0.013     &     0.469  &         0.639        &       -0.020    &        0.033     \\\\\n",
       "\\textbf{chlorides}            &      -1.7285  &        0.460     &    -3.760  &         0.000        &       -2.630    &       -0.827     \\\\\n",
       "\\textbf{free sulfur dioxide}  &       0.0050  &        0.002     &     2.063  &         0.039        &        0.000    &        0.010     \\\\\n",
       "\\textbf{total sulfur dioxide} &      -0.0037  &        0.001     &    -4.429  &         0.000        &       -0.005    &       -0.002     \\\\\n",
       "\\textbf{density}              &       4.7359  &        0.706     &     6.710  &         0.000        &        3.351    &        6.121     \\\\\n",
       "\\textbf{pH}                   &      -0.5526  &        0.180     &    -3.068  &         0.002        &       -0.906    &       -0.199     \\\\\n",
       "\\textbf{sulphates}            &       0.8218  &        0.123     &     6.696  &         0.000        &        0.581    &        1.063     \\\\\n",
       "\\textbf{alcohol}              &       0.2988  &        0.020     &    15.289  &         0.000        &        0.260    &        0.337     \\\\\n",
       "\\bottomrule\n",
       "\\end{tabular}\n",
       "\\begin{tabular}{lclc}\n",
       "\\textbf{Omnibus:}       & 15.143 & \\textbf{  Durbin-Watson:     } &    2.094  \\\\\n",
       "\\textbf{Prob(Omnibus):} &  0.001 & \\textbf{  Jarque-Bera (JB):  } &   19.632  \\\\\n",
       "\\textbf{Skew:}          & -0.152 & \\textbf{  Prob(JB):          } & 5.46e-05  \\\\\n",
       "\\textbf{Kurtosis:}      &  3.526 & \\textbf{  Cond. No.          } & 2.43e+03  \\\\\n",
       "\\bottomrule\n",
       "\\end{tabular}\n",
       "%\\caption{OLS Regression Results}\n",
       "\\end{center}\n",
       "\n",
       "Notes: \\newline\n",
       " [1] R² is computed without centering (uncentered) since the model does not contain a constant. \\newline\n",
       " [2] Standard Errors assume that the covariance matrix of the errors is correctly specified. \\newline\n",
       " [3] The condition number is large, 2.43e+03. This might indicate that there are \\newline\n",
       " strong multicollinearity or other numerical problems."
      ],
      "text/plain": [
       "<class 'statsmodels.iolib.summary.Summary'>\n",
       "\"\"\"\n",
       "                                 OLS Regression Results                                \n",
       "=======================================================================================\n",
       "Dep. Variable:                quality   R-squared (uncentered):                   0.987\n",
       "Model:                            OLS   Adj. R-squared (uncentered):              0.987\n",
       "Method:                 Least Squares   F-statistic:                              8645.\n",
       "Date:                Thu, 01 Feb 2024   Prob (F-statistic):                        0.00\n",
       "Time:                        09:20:24   Log-Likelihood:                         -1270.3\n",
       "No. Observations:                1279   AIC:                                      2563.\n",
       "Df Residuals:                    1268   BIC:                                      2619.\n",
       "Df Model:                          11                                                  \n",
       "Covariance Type:            nonrobust                                                  \n",
       "========================================================================================\n",
       "                           coef    std err          t      P>|t|      [0.025      0.975]\n",
       "----------------------------------------------------------------------------------------\n",
       "fixed acidity           -0.0084      0.019     -0.450      0.653      -0.045       0.028\n",
       "volatile acidity        -1.1035      0.134     -8.256      0.000      -1.366      -0.841\n",
       "citric acid             -0.1079      0.165     -0.654      0.513      -0.432       0.216\n",
       "residual sugar           0.0063      0.013      0.469      0.639      -0.020       0.033\n",
       "chlorides               -1.7285      0.460     -3.760      0.000      -2.630      -0.827\n",
       "free sulfur dioxide      0.0050      0.002      2.063      0.039       0.000       0.010\n",
       "total sulfur dioxide    -0.0037      0.001     -4.429      0.000      -0.005      -0.002\n",
       "density                  4.7359      0.706      6.710      0.000       3.351       6.121\n",
       "pH                      -0.5526      0.180     -3.068      0.002      -0.906      -0.199\n",
       "sulphates                0.8218      0.123      6.696      0.000       0.581       1.063\n",
       "alcohol                  0.2988      0.020     15.289      0.000       0.260       0.337\n",
       "==============================================================================\n",
       "Omnibus:                       15.143   Durbin-Watson:                   2.094\n",
       "Prob(Omnibus):                  0.001   Jarque-Bera (JB):               19.632\n",
       "Skew:                          -0.152   Prob(JB):                     5.46e-05\n",
       "Kurtosis:                       3.526   Cond. No.                     2.43e+03\n",
       "==============================================================================\n",
       "\n",
       "Notes:\n",
       "[1] R² is computed without centering (uncentered) since the model does not contain a constant.\n",
       "[2] Standard Errors assume that the covariance matrix of the errors is correctly specified.\n",
       "[3] The condition number is large, 2.43e+03. This might indicate that there are\n",
       "strong multicollinearity or other numerical problems.\n",
       "\"\"\""
      ]
     },
     "execution_count": 6,
     "metadata": {},
     "output_type": "execute_result"
    }
   ],
   "source": [
    "from statsmodels.api import OLS\n",
    "results=OLS(y_train,X_train).fit()\n",
    "results.summary()"
   ]
  },
  {
   "cell_type": "code",
   "execution_count": 9,
   "id": "435cf158",
   "metadata": {},
   "outputs": [
    {
     "data": {
      "text/html": [
       "<table class=\"simpletable\">\n",
       "<tr>\n",
       "          <td>Model:</td>                 <td>OLS</td>       <td>Adj. R-squared (uncentered):</td>   <td>0.987</td>  \n",
       "</tr>\n",
       "<tr>\n",
       "    <td>Dependent Variable:</td>        <td>quality</td>                 <td>AIC:</td>             <td>2562.6451</td>\n",
       "</tr>\n",
       "<tr>\n",
       "           <td>Date:</td>          <td>2024-01-31 09:51</td>             <td>BIC:</td>             <td>2619.3372</td>\n",
       "</tr>\n",
       "<tr>\n",
       "     <td>No. Observations:</td>          <td>1279</td>              <td>Log-Likelihood:</td>        <td>-1270.3</td> \n",
       "</tr>\n",
       "<tr>\n",
       "         <td>Df Model:</td>               <td>11</td>                <td>F-statistic:</td>           <td>8645.</td>  \n",
       "</tr>\n",
       "<tr>\n",
       "       <td>Df Residuals:</td>            <td>1268</td>            <td>Prob (F-statistic):</td>       <td>0.00</td>   \n",
       "</tr>\n",
       "<tr>\n",
       "  <td>R-squared (uncentered):</td>       <td>0.987</td>                 <td>Scale:</td>             <td>0.43050</td> \n",
       "</tr>\n",
       "</table>\n",
       "<table class=\"simpletable\">\n",
       "<tr>\n",
       "            <td></td>            <th>Coef.</th>  <th>Std.Err.</th>    <th>t</th>     <th>P>|t|</th> <th>[0.025</th>  <th>0.975]</th> \n",
       "</tr>\n",
       "<tr>\n",
       "  <th>fixed acidity</th>        <td>-0.0084</td>  <td>0.0186</td>  <td>-0.4498</td> <td>0.6530</td> <td>-0.0449</td> <td>0.0281</td> \n",
       "</tr>\n",
       "<tr>\n",
       "  <th>volatile acidity</th>     <td>-1.1035</td>  <td>0.1337</td>  <td>-8.2562</td> <td>0.0000</td> <td>-1.3657</td> <td>-0.8413</td>\n",
       "</tr>\n",
       "<tr>\n",
       "  <th>citric acid</th>          <td>-0.1079</td>  <td>0.1650</td>  <td>-0.6537</td> <td>0.5134</td> <td>-0.4316</td> <td>0.2159</td> \n",
       "</tr>\n",
       "<tr>\n",
       "  <th>residual sugar</th>       <td>0.0063</td>   <td>0.0134</td>  <td>0.4686</td>  <td>0.6394</td> <td>-0.0200</td> <td>0.0326</td> \n",
       "</tr>\n",
       "<tr>\n",
       "  <th>chlorides</th>            <td>-1.7285</td>  <td>0.4597</td>  <td>-3.7603</td> <td>0.0002</td> <td>-2.6303</td> <td>-0.8267</td>\n",
       "</tr>\n",
       "<tr>\n",
       "  <th>free sulfur dioxide</th>  <td>0.0050</td>   <td>0.0024</td>  <td>2.0631</td>  <td>0.0393</td> <td>0.0002</td>  <td>0.0098</td> \n",
       "</tr>\n",
       "<tr>\n",
       "  <th>total sulfur dioxide</th> <td>-0.0037</td>  <td>0.0008</td>  <td>-4.4287</td> <td>0.0000</td> <td>-0.0053</td> <td>-0.0021</td>\n",
       "</tr>\n",
       "<tr>\n",
       "  <th>density</th>              <td>4.7359</td>   <td>0.7058</td>  <td>6.7096</td>  <td>0.0000</td> <td>3.3511</td>  <td>6.1206</td> \n",
       "</tr>\n",
       "<tr>\n",
       "  <th>pH</th>                   <td>-0.5526</td>  <td>0.1801</td>  <td>-3.0684</td> <td>0.0022</td> <td>-0.9060</td> <td>-0.1993</td>\n",
       "</tr>\n",
       "<tr>\n",
       "  <th>sulphates</th>            <td>0.8218</td>   <td>0.1227</td>  <td>6.6956</td>  <td>0.0000</td> <td>0.5810</td>  <td>1.0626</td> \n",
       "</tr>\n",
       "<tr>\n",
       "  <th>alcohol</th>              <td>0.2988</td>   <td>0.0195</td>  <td>15.2891</td> <td>0.0000</td> <td>0.2605</td>  <td>0.3371</td> \n",
       "</tr>\n",
       "</table>\n",
       "<table class=\"simpletable\">\n",
       "<tr>\n",
       "     <td>Omnibus:</td>    <td>15.143</td>  <td>Durbin-Watson:</td>    <td>2.094</td>\n",
       "</tr>\n",
       "<tr>\n",
       "  <td>Prob(Omnibus):</td>  <td>0.001</td> <td>Jarque-Bera (JB):</td> <td>19.632</td>\n",
       "</tr>\n",
       "<tr>\n",
       "       <td>Skew:</td>     <td>-0.152</td>     <td>Prob(JB):</td>      <td>0.000</td>\n",
       "</tr>\n",
       "<tr>\n",
       "     <td>Kurtosis:</td>    <td>3.526</td>  <td>Condition No.:</td>    <td>2429</td> \n",
       "</tr>\n",
       "</table><br/>\n",
       "Notes:<br/>\n",
       "[1] R² is computed without centering (uncentered) since the                 model does not contain a constant.<br/>\n",
       "[2] Standard Errors assume that the covariance matrix of the errors is correctly specified.<br/>\n",
       "[3] The condition number is large, 2.43e+03. This might indicate                that there are strong multicollinearity or other numerical                problems."
      ],
      "text/latex": [
       "\\begin{table}\n",
       "\\caption{Results: Ordinary least squares}\n",
       "\\label{}\n",
       "\\begin{center}\n",
       "\\begin{tabular}{llll}\n",
       "\\hline\n",
       "Model:                  & OLS              & Adj. R-squared (uncentered): & 0.987      \\\\\n",
       "Dependent Variable:     & quality          & AIC:                         & 2562.6451  \\\\\n",
       "Date:                   & 2024-01-31 09:51 & BIC:                         & 2619.3372  \\\\\n",
       "No. Observations:       & 1279             & Log-Likelihood:              & -1270.3    \\\\\n",
       "Df Model:               & 11               & F-statistic:                 & 8645.      \\\\\n",
       "Df Residuals:           & 1268             & Prob (F-statistic):          & 0.00       \\\\\n",
       "R-squared (uncentered): & 0.987            & Scale:                       & 0.43050    \\\\\n",
       "\\hline\n",
       "\\end{tabular}\n",
       "\\end{center}\n",
       "\n",
       "\\begin{center}\n",
       "\\begin{tabular}{lrrrrrr}\n",
       "\\hline\n",
       "                     &   Coef. & Std.Err. &       t & P$> |$t$|$ &  [0.025 &  0.975]  \\\\\n",
       "\\hline\n",
       "fixed acidity        & -0.0084 &   0.0186 & -0.4498 &      0.6530 & -0.0449 &  0.0281  \\\\\n",
       "volatile acidity     & -1.1035 &   0.1337 & -8.2562 &      0.0000 & -1.3657 & -0.8413  \\\\\n",
       "citric acid          & -0.1079 &   0.1650 & -0.6537 &      0.5134 & -0.4316 &  0.2159  \\\\\n",
       "residual sugar       &  0.0063 &   0.0134 &  0.4686 &      0.6394 & -0.0200 &  0.0326  \\\\\n",
       "chlorides            & -1.7285 &   0.4597 & -3.7603 &      0.0002 & -2.6303 & -0.8267  \\\\\n",
       "free sulfur dioxide  &  0.0050 &   0.0024 &  2.0631 &      0.0393 &  0.0002 &  0.0098  \\\\\n",
       "total sulfur dioxide & -0.0037 &   0.0008 & -4.4287 &      0.0000 & -0.0053 & -0.0021  \\\\\n",
       "density              &  4.7359 &   0.7058 &  6.7096 &      0.0000 &  3.3511 &  6.1206  \\\\\n",
       "pH                   & -0.5526 &   0.1801 & -3.0684 &      0.0022 & -0.9060 & -0.1993  \\\\\n",
       "sulphates            &  0.8218 &   0.1227 &  6.6956 &      0.0000 &  0.5810 &  1.0626  \\\\\n",
       "alcohol              &  0.2988 &   0.0195 & 15.2891 &      0.0000 &  0.2605 &  0.3371  \\\\\n",
       "\\hline\n",
       "\\end{tabular}\n",
       "\\end{center}\n",
       "\n",
       "\\begin{center}\n",
       "\\begin{tabular}{llll}\n",
       "\\hline\n",
       "Omnibus:       & 15.143 & Durbin-Watson:    & 2.094   \\\\\n",
       "Prob(Omnibus): & 0.001  & Jarque-Bera (JB): & 19.632  \\\\\n",
       "Skew:          & -0.152 & Prob(JB):         & 0.000   \\\\\n",
       "Kurtosis:      & 3.526  & Condition No.:    & 2429    \\\\\n",
       "\\hline\n",
       "\\end{tabular}\n",
       "\\end{center}\n",
       "\\end{table}\n",
       "\\bigskip\n",
       "Notes: \\newline \n",
       "[1] R² is computed without centering (uncentered) since the                 model does not contain a constant. \\newline \n",
       "[2] Standard Errors assume that the covariance matrix of the errors is correctly specified. \\newline \n",
       "[3] The condition number is large, 2.43e+03. This might indicate                that there are strong multicollinearity or other numerical                problems."
      ],
      "text/plain": [
       "<class 'statsmodels.iolib.summary2.Summary'>\n",
       "\"\"\"\n",
       "                        Results: Ordinary least squares\n",
       "===============================================================================\n",
       "Model:                  OLS              Adj. R-squared (uncentered): 0.987    \n",
       "Dependent Variable:     quality          AIC:                         2562.6451\n",
       "Date:                   2024-01-31 09:51 BIC:                         2619.3372\n",
       "No. Observations:       1279             Log-Likelihood:              -1270.3  \n",
       "Df Model:               11               F-statistic:                 8645.    \n",
       "Df Residuals:           1268             Prob (F-statistic):          0.00     \n",
       "R-squared (uncentered): 0.987            Scale:                       0.43050  \n",
       "---------------------------------------------------------------------------------\n",
       "                         Coef.    Std.Err.      t      P>|t|     [0.025    0.975]\n",
       "---------------------------------------------------------------------------------\n",
       "fixed acidity           -0.0084     0.0186   -0.4498   0.6530   -0.0449    0.0281\n",
       "volatile acidity        -1.1035     0.1337   -8.2562   0.0000   -1.3657   -0.8413\n",
       "citric acid             -0.1079     0.1650   -0.6537   0.5134   -0.4316    0.2159\n",
       "residual sugar           0.0063     0.0134    0.4686   0.6394   -0.0200    0.0326\n",
       "chlorides               -1.7285     0.4597   -3.7603   0.0002   -2.6303   -0.8267\n",
       "free sulfur dioxide      0.0050     0.0024    2.0631   0.0393    0.0002    0.0098\n",
       "total sulfur dioxide    -0.0037     0.0008   -4.4287   0.0000   -0.0053   -0.0021\n",
       "density                  4.7359     0.7058    6.7096   0.0000    3.3511    6.1206\n",
       "pH                      -0.5526     0.1801   -3.0684   0.0022   -0.9060   -0.1993\n",
       "sulphates                0.8218     0.1227    6.6956   0.0000    0.5810    1.0626\n",
       "alcohol                  0.2988     0.0195   15.2891   0.0000    0.2605    0.3371\n",
       "-------------------------------------------------------------------------------\n",
       "Omnibus:                  15.143            Durbin-Watson:               2.094 \n",
       "Prob(Omnibus):            0.001             Jarque-Bera (JB):            19.632\n",
       "Skew:                     -0.152            Prob(JB):                    0.000 \n",
       "Kurtosis:                 3.526             Condition No.:               2429  \n",
       "===============================================================================\n",
       "Notes:\n",
       "[1] R² is computed without centering (uncentered) since the\n",
       "model does not contain a constant.\n",
       "[2] Standard Errors assume that the covariance matrix of the errors is\n",
       "correctly specified.\n",
       "[3] The condition number is large, 2.43e+03. This might indicate\n",
       "that there are strong multicollinearity or other numerical\n",
       "problems.\n",
       "\"\"\""
      ]
     },
     "execution_count": 9,
     "metadata": {},
     "output_type": "execute_result"
    }
   ],
   "source": [
    "results.summary2()"
   ]
  },
  {
   "cell_type": "code",
   "execution_count": 7,
   "id": "9eee9927",
   "metadata": {},
   "outputs": [
    {
     "data": {
      "text/plain": [
       "fixed acidity          -0.008370\n",
       "volatile acidity       -1.103458\n",
       "citric acid            -0.107870\n",
       "residual sugar          0.006285\n",
       "chlorides              -1.728471\n",
       "free sulfur dioxide     0.005032\n",
       "total sulfur dioxide   -0.003695\n",
       "density                 4.735879\n",
       "pH                     -0.552635\n",
       "sulphates               0.821807\n",
       "alcohol                 0.298795\n",
       "dtype: float64"
      ]
     },
     "execution_count": 7,
     "metadata": {},
     "output_type": "execute_result"
    }
   ],
   "source": [
    "results.params"
   ]
  },
  {
   "cell_type": "markdown",
   "id": "2d3a6d18",
   "metadata": {},
   "source": [
    "### Feature-Selection"
   ]
  },
  {
   "cell_type": "markdown",
   "id": "1d431e9b",
   "metadata": {},
   "source": [
    "**Rereival the important features, Selecting an important feature**\n",
    "\n",
    "- Droping the constant features\n",
    "\n",
    "- Information gain\n",
    "\n",
    "- P-value\n",
    "\n",
    "- Forward selection and backward selection\n",
    "\n",
    "- Correlation with target column\n"
   ]
  },
  {
   "cell_type": "markdown",
   "id": "c69e6308",
   "metadata": {},
   "source": [
    "$Method-1:$ Variance threshold method"
   ]
  },
  {
   "cell_type": "markdown",
   "id": "daa4c673",
   "metadata": {},
   "source": [
    "**Droping Constant features**\n",
    "\n",
    "- If the feature or variable "
   ]
  },
  {
   "cell_type": "code",
   "execution_count": 13,
   "id": "f20c5bf8",
   "metadata": {},
   "outputs": [
    {
     "data": {
      "text/html": [
       "<div>\n",
       "<style scoped>\n",
       "    .dataframe tbody tr th:only-of-type {\n",
       "        vertical-align: middle;\n",
       "    }\n",
       "\n",
       "    .dataframe tbody tr th {\n",
       "        vertical-align: top;\n",
       "    }\n",
       "\n",
       "    .dataframe thead th {\n",
       "        text-align: right;\n",
       "    }\n",
       "</style>\n",
       "<table border=\"1\" class=\"dataframe\">\n",
       "  <thead>\n",
       "    <tr style=\"text-align: right;\">\n",
       "      <th></th>\n",
       "      <th>A</th>\n",
       "      <th>B</th>\n",
       "      <th>C</th>\n",
       "      <th>D</th>\n",
       "    </tr>\n",
       "  </thead>\n",
       "  <tbody>\n",
       "    <tr>\n",
       "      <th>0</th>\n",
       "      <td>100</td>\n",
       "      <td>1</td>\n",
       "      <td>10</td>\n",
       "      <td>10</td>\n",
       "    </tr>\n",
       "    <tr>\n",
       "      <th>1</th>\n",
       "      <td>200</td>\n",
       "      <td>2</td>\n",
       "      <td>20</td>\n",
       "      <td>10</td>\n",
       "    </tr>\n",
       "    <tr>\n",
       "      <th>2</th>\n",
       "      <td>300</td>\n",
       "      <td>3</td>\n",
       "      <td>30</td>\n",
       "      <td>10</td>\n",
       "    </tr>\n",
       "    <tr>\n",
       "      <th>3</th>\n",
       "      <td>400</td>\n",
       "      <td>4</td>\n",
       "      <td>40</td>\n",
       "      <td>10</td>\n",
       "    </tr>\n",
       "  </tbody>\n",
       "</table>\n",
       "</div>"
      ],
      "text/plain": [
       "     A  B   C   D\n",
       "0  100  1  10  10\n",
       "1  200  2  20  10\n",
       "2  300  3  30  10\n",
       "3  400  4  40  10"
      ]
     },
     "execution_count": 13,
     "metadata": {},
     "output_type": "execute_result"
    }
   ],
   "source": [
    "import pandas as pd\n",
    "dict1={'A':[100,200,300,400],\n",
    "      'B':[1,2,3,4],\n",
    "      'C':[10,20,30,40],\n",
    "      'D':[10,10,10,10]}\n",
    "df=pd.DataFrame(dict1)\n",
    "df"
   ]
  },
  {
   "cell_type": "code",
   "execution_count": 14,
   "id": "b8573fd0",
   "metadata": {},
   "outputs": [
    {
     "data": {
      "text/html": [
       "<style>#sk-container-id-1 {color: black;}#sk-container-id-1 pre{padding: 0;}#sk-container-id-1 div.sk-toggleable {background-color: white;}#sk-container-id-1 label.sk-toggleable__label {cursor: pointer;display: block;width: 100%;margin-bottom: 0;padding: 0.3em;box-sizing: border-box;text-align: center;}#sk-container-id-1 label.sk-toggleable__label-arrow:before {content: \"▸\";float: left;margin-right: 0.25em;color: #696969;}#sk-container-id-1 label.sk-toggleable__label-arrow:hover:before {color: black;}#sk-container-id-1 div.sk-estimator:hover label.sk-toggleable__label-arrow:before {color: black;}#sk-container-id-1 div.sk-toggleable__content {max-height: 0;max-width: 0;overflow: hidden;text-align: left;background-color: #f0f8ff;}#sk-container-id-1 div.sk-toggleable__content pre {margin: 0.2em;color: black;border-radius: 0.25em;background-color: #f0f8ff;}#sk-container-id-1 input.sk-toggleable__control:checked~div.sk-toggleable__content {max-height: 200px;max-width: 100%;overflow: auto;}#sk-container-id-1 input.sk-toggleable__control:checked~label.sk-toggleable__label-arrow:before {content: \"▾\";}#sk-container-id-1 div.sk-estimator input.sk-toggleable__control:checked~label.sk-toggleable__label {background-color: #d4ebff;}#sk-container-id-1 div.sk-label input.sk-toggleable__control:checked~label.sk-toggleable__label {background-color: #d4ebff;}#sk-container-id-1 input.sk-hidden--visually {border: 0;clip: rect(1px 1px 1px 1px);clip: rect(1px, 1px, 1px, 1px);height: 1px;margin: -1px;overflow: hidden;padding: 0;position: absolute;width: 1px;}#sk-container-id-1 div.sk-estimator {font-family: monospace;background-color: #f0f8ff;border: 1px dotted black;border-radius: 0.25em;box-sizing: border-box;margin-bottom: 0.5em;}#sk-container-id-1 div.sk-estimator:hover {background-color: #d4ebff;}#sk-container-id-1 div.sk-parallel-item::after {content: \"\";width: 100%;border-bottom: 1px solid gray;flex-grow: 1;}#sk-container-id-1 div.sk-label:hover label.sk-toggleable__label {background-color: #d4ebff;}#sk-container-id-1 div.sk-serial::before {content: \"\";position: absolute;border-left: 1px solid gray;box-sizing: border-box;top: 0;bottom: 0;left: 50%;z-index: 0;}#sk-container-id-1 div.sk-serial {display: flex;flex-direction: column;align-items: center;background-color: white;padding-right: 0.2em;padding-left: 0.2em;position: relative;}#sk-container-id-1 div.sk-item {position: relative;z-index: 1;}#sk-container-id-1 div.sk-parallel {display: flex;align-items: stretch;justify-content: center;background-color: white;position: relative;}#sk-container-id-1 div.sk-item::before, #sk-container-id-1 div.sk-parallel-item::before {content: \"\";position: absolute;border-left: 1px solid gray;box-sizing: border-box;top: 0;bottom: 0;left: 50%;z-index: -1;}#sk-container-id-1 div.sk-parallel-item {display: flex;flex-direction: column;z-index: 1;position: relative;background-color: white;}#sk-container-id-1 div.sk-parallel-item:first-child::after {align-self: flex-end;width: 50%;}#sk-container-id-1 div.sk-parallel-item:last-child::after {align-self: flex-start;width: 50%;}#sk-container-id-1 div.sk-parallel-item:only-child::after {width: 0;}#sk-container-id-1 div.sk-dashed-wrapped {border: 1px dashed gray;margin: 0 0.4em 0.5em 0.4em;box-sizing: border-box;padding-bottom: 0.4em;background-color: white;}#sk-container-id-1 div.sk-label label {font-family: monospace;font-weight: bold;display: inline-block;line-height: 1.2em;}#sk-container-id-1 div.sk-label-container {text-align: center;}#sk-container-id-1 div.sk-container {/* jupyter's `normalize.less` sets `[hidden] { display: none; }` but bootstrap.min.css set `[hidden] { display: none !important; }` so we also need the `!important` here to be able to override the default hidden behavior on the sphinx rendered scikit-learn.org. See: https://github.com/scikit-learn/scikit-learn/issues/21755 */display: inline-block !important;position: relative;}#sk-container-id-1 div.sk-text-repr-fallback {display: none;}</style><div id=\"sk-container-id-1\" class=\"sk-top-container\"><div class=\"sk-text-repr-fallback\"><pre>VarianceThreshold(threshold=0)</pre><b>In a Jupyter environment, please rerun this cell to show the HTML representation or trust the notebook. <br />On GitHub, the HTML representation is unable to render, please try loading this page with nbviewer.org.</b></div><div class=\"sk-container\" hidden><div class=\"sk-item\"><div class=\"sk-estimator sk-toggleable\"><input class=\"sk-toggleable__control sk-hidden--visually\" id=\"sk-estimator-id-1\" type=\"checkbox\" checked><label for=\"sk-estimator-id-1\" class=\"sk-toggleable__label sk-toggleable__label-arrow\">VarianceThreshold</label><div class=\"sk-toggleable__content\"><pre>VarianceThreshold(threshold=0)</pre></div></div></div></div></div>"
      ],
      "text/plain": [
       "VarianceThreshold(threshold=0)"
      ]
     },
     "execution_count": 14,
     "metadata": {},
     "output_type": "execute_result"
    }
   ],
   "source": [
    "from sklearn.feature_selection import VarianceThreshold\n",
    "vt=VarianceThreshold(threshold=0)\n",
    "vt.fit(df)"
   ]
  },
  {
   "cell_type": "code",
   "execution_count": 14,
   "id": "278f540d",
   "metadata": {},
   "outputs": [
    {
     "data": {
      "text/plain": [
       "['__abstractmethods__',\n",
       " '__annotations__',\n",
       " '__class__',\n",
       " '__delattr__',\n",
       " '__dict__',\n",
       " '__dir__',\n",
       " '__doc__',\n",
       " '__eq__',\n",
       " '__format__',\n",
       " '__ge__',\n",
       " '__getattribute__',\n",
       " '__getstate__',\n",
       " '__gt__',\n",
       " '__hash__',\n",
       " '__init__',\n",
       " '__init_subclass__',\n",
       " '__le__',\n",
       " '__lt__',\n",
       " '__module__',\n",
       " '__ne__',\n",
       " '__new__',\n",
       " '__reduce__',\n",
       " '__reduce_ex__',\n",
       " '__repr__',\n",
       " '__setattr__',\n",
       " '__setstate__',\n",
       " '__sizeof__',\n",
       " '__sklearn_clone__',\n",
       " '__str__',\n",
       " '__subclasshook__',\n",
       " '__weakref__',\n",
       " '_abc_impl',\n",
       " '_build_request_for_signature',\n",
       " '_check_feature_names',\n",
       " '_check_n_features',\n",
       " '_get_default_requests',\n",
       " '_get_metadata_request',\n",
       " '_get_param_names',\n",
       " '_get_support_mask',\n",
       " '_get_tags',\n",
       " '_more_tags',\n",
       " '_parameter_constraints',\n",
       " '_repr_html_',\n",
       " '_repr_html_inner',\n",
       " '_repr_mimebundle_',\n",
       " '_sklearn_auto_wrap_output_keys',\n",
       " '_transform',\n",
       " '_validate_data',\n",
       " '_validate_params',\n",
       " 'feature_names_in_',\n",
       " 'fit',\n",
       " 'fit_transform',\n",
       " 'get_feature_names_out',\n",
       " 'get_metadata_routing',\n",
       " 'get_params',\n",
       " 'get_support',\n",
       " 'inverse_transform',\n",
       " 'n_features_in_',\n",
       " 'set_output',\n",
       " 'set_params',\n",
       " 'threshold',\n",
       " 'transform',\n",
       " 'variances_']"
      ]
     },
     "execution_count": 14,
     "metadata": {},
     "output_type": "execute_result"
    }
   ],
   "source": [
    "dir(vt)"
   ]
  },
  {
   "cell_type": "code",
   "execution_count": 15,
   "id": "90f6bc5f",
   "metadata": {},
   "outputs": [
    {
     "data": {
      "text/html": [
       "<div>\n",
       "<style scoped>\n",
       "    .dataframe tbody tr th:only-of-type {\n",
       "        vertical-align: middle;\n",
       "    }\n",
       "\n",
       "    .dataframe tbody tr th {\n",
       "        vertical-align: top;\n",
       "    }\n",
       "\n",
       "    .dataframe thead th {\n",
       "        text-align: right;\n",
       "    }\n",
       "</style>\n",
       "<table border=\"1\" class=\"dataframe\">\n",
       "  <thead>\n",
       "    <tr style=\"text-align: right;\">\n",
       "      <th></th>\n",
       "      <th>A</th>\n",
       "      <th>B</th>\n",
       "      <th>C</th>\n",
       "      <th>D</th>\n",
       "    </tr>\n",
       "  </thead>\n",
       "  <tbody>\n",
       "    <tr>\n",
       "      <th>0</th>\n",
       "      <td>100</td>\n",
       "      <td>1</td>\n",
       "      <td>10</td>\n",
       "      <td>10</td>\n",
       "    </tr>\n",
       "    <tr>\n",
       "      <th>1</th>\n",
       "      <td>200</td>\n",
       "      <td>2</td>\n",
       "      <td>20</td>\n",
       "      <td>10</td>\n",
       "    </tr>\n",
       "    <tr>\n",
       "      <th>2</th>\n",
       "      <td>300</td>\n",
       "      <td>3</td>\n",
       "      <td>30</td>\n",
       "      <td>10</td>\n",
       "    </tr>\n",
       "    <tr>\n",
       "      <th>3</th>\n",
       "      <td>400</td>\n",
       "      <td>4</td>\n",
       "      <td>40</td>\n",
       "      <td>10</td>\n",
       "    </tr>\n",
       "  </tbody>\n",
       "</table>\n",
       "</div>"
      ],
      "text/plain": [
       "     A  B   C   D\n",
       "0  100  1  10  10\n",
       "1  200  2  20  10\n",
       "2  300  3  30  10\n",
       "3  400  4  40  10"
      ]
     },
     "execution_count": 15,
     "metadata": {},
     "output_type": "execute_result"
    }
   ],
   "source": [
    "df"
   ]
  },
  {
   "cell_type": "code",
   "execution_count": 16,
   "id": "4431647d",
   "metadata": {},
   "outputs": [
    {
     "data": {
      "text/plain": [
       "array([ True,  True,  True, False])"
      ]
     },
     "execution_count": 16,
     "metadata": {},
     "output_type": "execute_result"
    }
   ],
   "source": [
    "vt.get_support()"
   ]
  },
  {
   "cell_type": "code",
   "execution_count": 17,
   "id": "c301c36f",
   "metadata": {},
   "outputs": [
    {
     "data": {
      "text/plain": [
       "Index(['A', 'B', 'C', 'D'], dtype='object')"
      ]
     },
     "execution_count": 17,
     "metadata": {},
     "output_type": "execute_result"
    }
   ],
   "source": [
    "df.columns"
   ]
  },
  {
   "cell_type": "code",
   "execution_count": 23,
   "id": "2b058e7a",
   "metadata": {},
   "outputs": [
    {
     "data": {
      "text/plain": [
       "Index(['A', 'B', 'C'], dtype='object')"
      ]
     },
     "execution_count": 23,
     "metadata": {},
     "output_type": "execute_result"
    }
   ],
   "source": [
    "cols=df.columns[vt.get_support()]\n",
    "cols"
   ]
  },
  {
   "cell_type": "code",
   "execution_count": 24,
   "id": "e595ee2f",
   "metadata": {},
   "outputs": [
    {
     "data": {
      "text/plain": [
       "Index(['fixed acidity', 'volatile acidity', 'citric acid', 'residual sugar',\n",
       "       'chlorides', 'free sulfur dioxide', 'total sulfur dioxide', 'density',\n",
       "       'pH', 'sulphates', 'alcohol', 'quality'],\n",
       "      dtype='object')"
      ]
     },
     "execution_count": 24,
     "metadata": {},
     "output_type": "execute_result"
    }
   ],
   "source": [
    "winequalityred_df.columns"
   ]
  },
  {
   "cell_type": "code",
   "execution_count": 28,
   "id": "eb97ab8d",
   "metadata": {},
   "outputs": [
    {
     "data": {
      "text/plain": [
       "Index(['fixed acidity', 'residual sugar', 'free sulfur dioxide',\n",
       "       'total sulfur dioxide', 'alcohol', 'quality'],\n",
       "      dtype='object')"
      ]
     },
     "execution_count": 28,
     "metadata": {},
     "output_type": "execute_result"
    }
   ],
   "source": [
    "\n",
    "from sklearn.feature_selection import VarianceThreshold\n",
    "vt=VarianceThreshold(threshold=0.5)\n",
    "vt.fit(winequalityred_df)\n",
    "vt.get_support()\n",
    "\n",
    "winequalityred_df_cols=winequalityred_df.columns[vt.get_support()]\n",
    "winequalityred_df_cols"
   ]
  },
  {
   "cell_type": "markdown",
   "id": "4e28cb89",
   "metadata": {},
   "source": [
    "$Method-2:$ \n",
    "\n",
    "**Information gain**\n",
    "\n",
    "mutual info classify\n",
    "\n",
    "- It is "
   ]
  },
  {
   "cell_type": "code",
   "execution_count": 34,
   "id": "9a550c7c",
   "metadata": {},
   "outputs": [
    {
     "data": {
      "text/plain": [
       "Index(['fixed acidity', 'volatile acidity', 'citric acid', 'residual sugar',\n",
       "       'chlorides', 'free sulfur dioxide', 'total sulfur dioxide', 'density',\n",
       "       'pH', 'sulphates', 'alcohol', 'quality'],\n",
       "      dtype='object')"
      ]
     },
     "execution_count": 34,
     "metadata": {},
     "output_type": "execute_result"
    }
   ],
   "source": [
    "winequalityred_df.columns"
   ]
  },
  {
   "cell_type": "code",
   "execution_count": 38,
   "id": "e5aa0a49",
   "metadata": {},
   "outputs": [
    {
     "data": {
      "text/plain": [
       "12"
      ]
     },
     "execution_count": 38,
     "metadata": {},
     "output_type": "execute_result"
    }
   ],
   "source": [
    "len(winequalityred_df.columns)"
   ]
  },
  {
   "cell_type": "code",
   "execution_count": 8,
   "id": "bdeb4e03",
   "metadata": {},
   "outputs": [
    {
     "data": {
      "text/plain": [
       "array([0.05013833, 0.12229   , 0.04356306, 0.00850522, 0.03997557,\n",
       "       0.05403866, 0.06981734, 0.08623456, 0.03382741, 0.09185107,\n",
       "       0.19006668])"
      ]
     },
     "execution_count": 8,
     "metadata": {},
     "output_type": "execute_result"
    }
   ],
   "source": [
    "from sklearn.feature_selection import mutual_info_classif\n",
    "MI=mutual_info_classif(X,y)\n",
    "MI"
   ]
  },
  {
   "cell_type": "code",
   "execution_count": 36,
   "id": "72180b95",
   "metadata": {},
   "outputs": [
    {
     "data": {
      "text/plain": [
       "11"
      ]
     },
     "execution_count": 36,
     "metadata": {},
     "output_type": "execute_result"
    }
   ],
   "source": [
    "len(MI)"
   ]
  },
  {
   "cell_type": "code",
   "execution_count": 9,
   "id": "15cae313",
   "metadata": {},
   "outputs": [
    {
     "data": {
      "text/plain": [
       "fixed acidity           0.050138\n",
       "volatile acidity        0.122290\n",
       "citric acid             0.043563\n",
       "residual sugar          0.008505\n",
       "chlorides               0.039976\n",
       "free sulfur dioxide     0.054039\n",
       "total sulfur dioxide    0.069817\n",
       "density                 0.086235\n",
       "pH                      0.033827\n",
       "sulphates               0.091851\n",
       "alcohol                 0.190067\n",
       "dtype: float64"
      ]
     },
     "execution_count": 9,
     "metadata": {},
     "output_type": "execute_result"
    }
   ],
   "source": [
    "val=pd.Series(MI)\n",
    "val.index=X.columns\n",
    "val"
   ]
  },
  {
   "cell_type": "code",
   "execution_count": 10,
   "id": "e270dafa",
   "metadata": {},
   "outputs": [
    {
     "data": {
      "text/plain": [
       "residual sugar          0.008505\n",
       "pH                      0.033827\n",
       "chlorides               0.039976\n",
       "citric acid             0.043563\n",
       "fixed acidity           0.050138\n",
       "free sulfur dioxide     0.054039\n",
       "total sulfur dioxide    0.069817\n",
       "density                 0.086235\n",
       "sulphates               0.091851\n",
       "volatile acidity        0.122290\n",
       "alcohol                 0.190067\n",
       "dtype: float64"
      ]
     },
     "execution_count": 10,
     "metadata": {},
     "output_type": "execute_result"
    }
   ],
   "source": [
    "val.sort_values(ascending=True)"
   ]
  },
  {
   "cell_type": "markdown",
   "id": "e7447957",
   "metadata": {},
   "source": [
    "$Select K best$"
   ]
  },
  {
   "cell_type": "code",
   "execution_count": 11,
   "id": "e12e59a4",
   "metadata": {},
   "outputs": [
    {
     "data": {
      "text/html": [
       "<div>\n",
       "<style scoped>\n",
       "    .dataframe tbody tr th:only-of-type {\n",
       "        vertical-align: middle;\n",
       "    }\n",
       "\n",
       "    .dataframe tbody tr th {\n",
       "        vertical-align: top;\n",
       "    }\n",
       "\n",
       "    .dataframe thead th {\n",
       "        text-align: right;\n",
       "    }\n",
       "</style>\n",
       "<table border=\"1\" class=\"dataframe\">\n",
       "  <thead>\n",
       "    <tr style=\"text-align: right;\">\n",
       "      <th></th>\n",
       "      <th>fixed acidity</th>\n",
       "      <th>volatile acidity</th>\n",
       "      <th>citric acid</th>\n",
       "      <th>residual sugar</th>\n",
       "      <th>chlorides</th>\n",
       "      <th>free sulfur dioxide</th>\n",
       "      <th>total sulfur dioxide</th>\n",
       "      <th>density</th>\n",
       "      <th>pH</th>\n",
       "      <th>sulphates</th>\n",
       "      <th>alcohol</th>\n",
       "      <th>quality</th>\n",
       "    </tr>\n",
       "  </thead>\n",
       "  <tbody>\n",
       "    <tr>\n",
       "      <th>1</th>\n",
       "      <td>7.4</td>\n",
       "      <td>0.70</td>\n",
       "      <td>0.00</td>\n",
       "      <td>1.9</td>\n",
       "      <td>0.076</td>\n",
       "      <td>11.0</td>\n",
       "      <td>34.0</td>\n",
       "      <td>0.9978</td>\n",
       "      <td>3.51</td>\n",
       "      <td>0.56</td>\n",
       "      <td>9.4</td>\n",
       "      <td>5.0</td>\n",
       "    </tr>\n",
       "    <tr>\n",
       "      <th>3</th>\n",
       "      <td>7.8</td>\n",
       "      <td>0.88</td>\n",
       "      <td>0.00</td>\n",
       "      <td>2.6</td>\n",
       "      <td>0.098</td>\n",
       "      <td>25.0</td>\n",
       "      <td>67.0</td>\n",
       "      <td>0.9968</td>\n",
       "      <td>3.20</td>\n",
       "      <td>0.68</td>\n",
       "      <td>9.8</td>\n",
       "      <td>5.0</td>\n",
       "    </tr>\n",
       "    <tr>\n",
       "      <th>5</th>\n",
       "      <td>7.8</td>\n",
       "      <td>0.76</td>\n",
       "      <td>0.04</td>\n",
       "      <td>2.3</td>\n",
       "      <td>0.092</td>\n",
       "      <td>15.0</td>\n",
       "      <td>54.0</td>\n",
       "      <td>0.9970</td>\n",
       "      <td>3.26</td>\n",
       "      <td>0.65</td>\n",
       "      <td>9.8</td>\n",
       "      <td>5.0</td>\n",
       "    </tr>\n",
       "    <tr>\n",
       "      <th>7</th>\n",
       "      <td>11.2</td>\n",
       "      <td>0.28</td>\n",
       "      <td>0.56</td>\n",
       "      <td>1.9</td>\n",
       "      <td>0.075</td>\n",
       "      <td>17.0</td>\n",
       "      <td>60.0</td>\n",
       "      <td>0.9980</td>\n",
       "      <td>3.16</td>\n",
       "      <td>0.58</td>\n",
       "      <td>9.8</td>\n",
       "      <td>6.0</td>\n",
       "    </tr>\n",
       "    <tr>\n",
       "      <th>9</th>\n",
       "      <td>7.4</td>\n",
       "      <td>0.70</td>\n",
       "      <td>0.00</td>\n",
       "      <td>1.9</td>\n",
       "      <td>0.076</td>\n",
       "      <td>11.0</td>\n",
       "      <td>34.0</td>\n",
       "      <td>0.9978</td>\n",
       "      <td>3.51</td>\n",
       "      <td>0.56</td>\n",
       "      <td>9.4</td>\n",
       "      <td>5.0</td>\n",
       "    </tr>\n",
       "  </tbody>\n",
       "</table>\n",
       "</div>"
      ],
      "text/plain": [
       "   fixed acidity  volatile acidity  citric acid  residual sugar  chlorides  \\\n",
       "1            7.4              0.70         0.00             1.9      0.076   \n",
       "3            7.8              0.88         0.00             2.6      0.098   \n",
       "5            7.8              0.76         0.04             2.3      0.092   \n",
       "7           11.2              0.28         0.56             1.9      0.075   \n",
       "9            7.4              0.70         0.00             1.9      0.076   \n",
       "\n",
       "   free sulfur dioxide  total sulfur dioxide  density    pH  sulphates  \\\n",
       "1                 11.0                  34.0   0.9978  3.51       0.56   \n",
       "3                 25.0                  67.0   0.9968  3.20       0.68   \n",
       "5                 15.0                  54.0   0.9970  3.26       0.65   \n",
       "7                 17.0                  60.0   0.9980  3.16       0.58   \n",
       "9                 11.0                  34.0   0.9978  3.51       0.56   \n",
       "\n",
       "   alcohol  quality  \n",
       "1      9.4      5.0  \n",
       "3      9.8      5.0  \n",
       "5      9.8      5.0  \n",
       "7      9.8      6.0  \n",
       "9      9.4      5.0  "
      ]
     },
     "execution_count": 11,
     "metadata": {},
     "output_type": "execute_result"
    }
   ],
   "source": [
    "winequalityred_df.head()"
   ]
  },
  {
   "cell_type": "code",
   "execution_count": 17,
   "id": "a486c302",
   "metadata": {},
   "outputs": [],
   "source": [
    "from sklearn.feature_selection import SelectKBest,mutual_info_classif\n",
    "import pandas as pd\n",
    "\n",
    "winequalityred_df = pd.read_csv(\"winequality_red.csv\")\n",
    "winequalityred_df.dropna(inplace=True)\n",
    "winequalityred_df.head()\n",
    "\n",
    "X=winequalityred_df.drop('quality', axis=1)\n",
    "y=winequalityred_df[['quality']]\n",
    "\n",
    "top_5=SelectKBest(mutual_info_classif,k=5)\n",
    "val=top_5.fit(X,y)"
   ]
  },
  {
   "cell_type": "code",
   "execution_count": 18,
   "id": "928f4f7e",
   "metadata": {},
   "outputs": [
    {
     "data": {
      "text/plain": [
       "['__abstractmethods__',\n",
       " '__annotations__',\n",
       " '__class__',\n",
       " '__delattr__',\n",
       " '__dict__',\n",
       " '__dir__',\n",
       " '__doc__',\n",
       " '__eq__',\n",
       " '__format__',\n",
       " '__ge__',\n",
       " '__getattribute__',\n",
       " '__getstate__',\n",
       " '__gt__',\n",
       " '__hash__',\n",
       " '__init__',\n",
       " '__init_subclass__',\n",
       " '__le__',\n",
       " '__lt__',\n",
       " '__module__',\n",
       " '__ne__',\n",
       " '__new__',\n",
       " '__reduce__',\n",
       " '__reduce_ex__',\n",
       " '__repr__',\n",
       " '__setattr__',\n",
       " '__setstate__',\n",
       " '__sizeof__',\n",
       " '__sklearn_clone__',\n",
       " '__str__',\n",
       " '__subclasshook__',\n",
       " '__weakref__',\n",
       " '_abc_impl',\n",
       " '_build_request_for_signature',\n",
       " '_check_feature_names',\n",
       " '_check_n_features',\n",
       " '_check_params',\n",
       " '_get_default_requests',\n",
       " '_get_metadata_request',\n",
       " '_get_param_names',\n",
       " '_get_support_mask',\n",
       " '_get_tags',\n",
       " '_more_tags',\n",
       " '_parameter_constraints',\n",
       " '_repr_html_',\n",
       " '_repr_html_inner',\n",
       " '_repr_mimebundle_',\n",
       " '_sklearn_auto_wrap_output_keys',\n",
       " '_transform',\n",
       " '_validate_data',\n",
       " '_validate_params',\n",
       " 'feature_names_in_',\n",
       " 'fit',\n",
       " 'fit_transform',\n",
       " 'get_feature_names_out',\n",
       " 'get_metadata_routing',\n",
       " 'get_params',\n",
       " 'get_support',\n",
       " 'inverse_transform',\n",
       " 'k',\n",
       " 'n_features_in_',\n",
       " 'pvalues_',\n",
       " 'score_func',\n",
       " 'scores_',\n",
       " 'set_output',\n",
       " 'set_params',\n",
       " 'transform']"
      ]
     },
     "execution_count": 18,
     "metadata": {},
     "output_type": "execute_result"
    }
   ],
   "source": [
    "dir(val)"
   ]
  },
  {
   "cell_type": "code",
   "execution_count": 19,
   "id": "89c1b16c",
   "metadata": {},
   "outputs": [
    {
     "data": {
      "text/plain": [
       "array([False,  True,  True, False, False, False,  True, False, False,\n",
       "        True,  True])"
      ]
     },
     "execution_count": 19,
     "metadata": {},
     "output_type": "execute_result"
    }
   ],
   "source": [
    "val.get_support()"
   ]
  },
  {
   "cell_type": "code",
   "execution_count": 20,
   "id": "001e76db",
   "metadata": {},
   "outputs": [
    {
     "data": {
      "text/plain": [
       "{'k': 5,\n",
       " 'score_func': <function sklearn.feature_selection._mutual_info.mutual_info_classif(X, y, *, discrete_features='auto', n_neighbors=3, copy=True, random_state=None)>}"
      ]
     },
     "execution_count": 20,
     "metadata": {},
     "output_type": "execute_result"
    }
   ],
   "source": [
    "val.get_params()"
   ]
  },
  {
   "cell_type": "code",
   "execution_count": 21,
   "id": "a632e629",
   "metadata": {},
   "outputs": [
    {
     "data": {
      "text/plain": [
       "array(['volatile acidity', 'citric acid', 'total sulfur dioxide',\n",
       "       'sulphates', 'alcohol'], dtype=object)"
      ]
     },
     "execution_count": 21,
     "metadata": {},
     "output_type": "execute_result"
    }
   ],
   "source": [
    "val.get_feature_names_out()"
   ]
  },
  {
   "cell_type": "code",
   "execution_count": null,
   "id": "f9d7335e",
   "metadata": {},
   "outputs": [],
   "source": []
  }
 ],
 "metadata": {
  "kernelspec": {
   "display_name": "Python 3 (ipykernel)",
   "language": "python",
   "name": "python3"
  },
  "language_info": {
   "codemirror_mode": {
    "name": "ipython",
    "version": 3
   },
   "file_extension": ".py",
   "mimetype": "text/x-python",
   "name": "python",
   "nbconvert_exporter": "python",
   "pygments_lexer": "ipython3",
   "version": "3.11.5"
  }
 },
 "nbformat": 4,
 "nbformat_minor": 5
}
