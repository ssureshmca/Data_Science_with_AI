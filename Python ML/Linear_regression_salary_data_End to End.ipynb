{
 "cells": [
  {
   "cell_type": "markdown",
   "id": "622e25e8",
   "metadata": {},
   "source": [
    "$Step-1$:\n",
    "    \n",
    "**Import required packages**"
   ]
  },
  {
   "cell_type": "code",
   "execution_count": 1,
   "id": "5b6ce182",
   "metadata": {},
   "outputs": [],
   "source": [
    "import numpy as np\n",
    "import pandas as pd\n",
    "import matplotlib.pyplot as plt\n",
    "import seaborn as sns\n",
    "import warnings\n",
    "warnings.filterwarnings('ignore')"
   ]
  },
  {
   "cell_type": "markdown",
   "id": "f189ff0a",
   "metadata": {},
   "source": [
    "$Step-2$\n",
    "\n",
    "**Read the data**"
   ]
  },
  {
   "cell_type": "code",
   "execution_count": 2,
   "id": "d310a4ce",
   "metadata": {},
   "outputs": [
    {
     "data": {
      "text/html": [
       "<div>\n",
       "<style scoped>\n",
       "    .dataframe tbody tr th:only-of-type {\n",
       "        vertical-align: middle;\n",
       "    }\n",
       "\n",
       "    .dataframe tbody tr th {\n",
       "        vertical-align: top;\n",
       "    }\n",
       "\n",
       "    .dataframe thead th {\n",
       "        text-align: right;\n",
       "    }\n",
       "</style>\n",
       "<table border=\"1\" class=\"dataframe\">\n",
       "  <thead>\n",
       "    <tr style=\"text-align: right;\">\n",
       "      <th></th>\n",
       "      <th>YearsExperience</th>\n",
       "      <th>Salary</th>\n",
       "    </tr>\n",
       "  </thead>\n",
       "  <tbody>\n",
       "    <tr>\n",
       "      <th>0</th>\n",
       "      <td>1.1</td>\n",
       "      <td>39343.0</td>\n",
       "    </tr>\n",
       "    <tr>\n",
       "      <th>1</th>\n",
       "      <td>1.3</td>\n",
       "      <td>46205.0</td>\n",
       "    </tr>\n",
       "    <tr>\n",
       "      <th>2</th>\n",
       "      <td>1.5</td>\n",
       "      <td>37731.0</td>\n",
       "    </tr>\n",
       "    <tr>\n",
       "      <th>3</th>\n",
       "      <td>2.0</td>\n",
       "      <td>43525.0</td>\n",
       "    </tr>\n",
       "    <tr>\n",
       "      <th>4</th>\n",
       "      <td>2.2</td>\n",
       "      <td>39891.0</td>\n",
       "    </tr>\n",
       "  </tbody>\n",
       "</table>\n",
       "</div>"
      ],
      "text/plain": [
       "   YearsExperience   Salary\n",
       "0              1.1  39343.0\n",
       "1              1.3  46205.0\n",
       "2              1.5  37731.0\n",
       "3              2.0  43525.0\n",
       "4              2.2  39891.0"
      ]
     },
     "execution_count": 2,
     "metadata": {},
     "output_type": "execute_result"
    }
   ],
   "source": [
    "# read the dataset \n",
    "\n",
    "df = pd.read_csv(\"C:\\\\Users\\\\omkar\\\\OneDrive\\\\Documents\\\\Data science\\\\Naresh IT\\\\Datafiles\\\\Salary_Data.csv\")\n",
    "df.head()"
   ]
  },
  {
   "cell_type": "markdown",
   "id": "efbdb090",
   "metadata": {},
   "source": [
    "**Objective**\n",
    "\n",
    "- Based on years of experience , estimate the salary of an employee"
   ]
  },
  {
   "cell_type": "code",
   "execution_count": 3,
   "id": "3a5addbf",
   "metadata": {},
   "outputs": [
    {
     "data": {
      "text/plain": [
       "(30, 2)"
      ]
     },
     "execution_count": 3,
     "metadata": {},
     "output_type": "execute_result"
    }
   ],
   "source": [
    "df.shape"
   ]
  },
  {
   "cell_type": "code",
   "execution_count": 4,
   "id": "8f46949d",
   "metadata": {},
   "outputs": [
    {
     "data": {
      "text/plain": [
       "Index(['YearsExperience', 'Salary'], dtype='object')"
      ]
     },
     "execution_count": 4,
     "metadata": {},
     "output_type": "execute_result"
    }
   ],
   "source": [
    "df.columns"
   ]
  },
  {
   "cell_type": "code",
   "execution_count": 5,
   "id": "3bb4b3dd",
   "metadata": {},
   "outputs": [
    {
     "data": {
      "text/plain": [
       "YearsExperience    0\n",
       "Salary             0\n",
       "dtype: int64"
      ]
     },
     "execution_count": 5,
     "metadata": {},
     "output_type": "execute_result"
    }
   ],
   "source": [
    "df.isnull().sum()"
   ]
  },
  {
   "cell_type": "code",
   "execution_count": 6,
   "id": "f7864501",
   "metadata": {},
   "outputs": [
    {
     "data": {
      "text/plain": [
       "YearsExperience    float64\n",
       "Salary             float64\n",
       "dtype: object"
      ]
     },
     "execution_count": 6,
     "metadata": {},
     "output_type": "execute_result"
    }
   ],
   "source": [
    "df.dtypes"
   ]
  },
  {
   "cell_type": "code",
   "execution_count": 7,
   "id": "46c0714e",
   "metadata": {},
   "outputs": [
    {
     "data": {
      "text/plain": [
       "array([ 1.1,  1.3,  1.5,  2. ,  2.2,  2.9,  3. ,  3.2,  3.7,  3.9,  4. ,\n",
       "        4.1,  4.5,  4.9,  5.1,  5.3,  5.9,  6. ,  6.8,  7.1,  7.9,  8.2,\n",
       "        8.7,  9. ,  9.5,  9.6, 10.3, 10.5])"
      ]
     },
     "execution_count": 7,
     "metadata": {},
     "output_type": "execute_result"
    }
   ],
   "source": [
    "df['YearsExperience'].unique()"
   ]
  },
  {
   "cell_type": "code",
   "execution_count": 8,
   "id": "191e4e47",
   "metadata": {},
   "outputs": [
    {
     "data": {
      "text/html": [
       "<div>\n",
       "<style scoped>\n",
       "    .dataframe tbody tr th:only-of-type {\n",
       "        vertical-align: middle;\n",
       "    }\n",
       "\n",
       "    .dataframe tbody tr th {\n",
       "        vertical-align: top;\n",
       "    }\n",
       "\n",
       "    .dataframe thead th {\n",
       "        text-align: right;\n",
       "    }\n",
       "</style>\n",
       "<table border=\"1\" class=\"dataframe\">\n",
       "  <thead>\n",
       "    <tr style=\"text-align: right;\">\n",
       "      <th></th>\n",
       "      <th>YearsExperience</th>\n",
       "      <th>Salary</th>\n",
       "    </tr>\n",
       "  </thead>\n",
       "  <tbody>\n",
       "    <tr>\n",
       "      <th>YearsExperience</th>\n",
       "      <td>8.053609</td>\n",
       "      <td>7.610630e+04</td>\n",
       "    </tr>\n",
       "    <tr>\n",
       "      <th>Salary</th>\n",
       "      <td>76106.303448</td>\n",
       "      <td>7.515510e+08</td>\n",
       "    </tr>\n",
       "  </tbody>\n",
       "</table>\n",
       "</div>"
      ],
      "text/plain": [
       "                 YearsExperience        Salary\n",
       "YearsExperience         8.053609  7.610630e+04\n",
       "Salary              76106.303448  7.515510e+08"
      ]
     },
     "execution_count": 8,
     "metadata": {},
     "output_type": "execute_result"
    }
   ],
   "source": [
    "#check any correlation and covariance\n",
    "\n",
    "df[['YearsExperience','Salary']].cov()"
   ]
  },
  {
   "cell_type": "code",
   "execution_count": 9,
   "id": "93803697",
   "metadata": {},
   "outputs": [
    {
     "data": {
      "text/html": [
       "<div>\n",
       "<style scoped>\n",
       "    .dataframe tbody tr th:only-of-type {\n",
       "        vertical-align: middle;\n",
       "    }\n",
       "\n",
       "    .dataframe tbody tr th {\n",
       "        vertical-align: top;\n",
       "    }\n",
       "\n",
       "    .dataframe thead th {\n",
       "        text-align: right;\n",
       "    }\n",
       "</style>\n",
       "<table border=\"1\" class=\"dataframe\">\n",
       "  <thead>\n",
       "    <tr style=\"text-align: right;\">\n",
       "      <th></th>\n",
       "      <th>YearsExperience</th>\n",
       "      <th>Salary</th>\n",
       "    </tr>\n",
       "  </thead>\n",
       "  <tbody>\n",
       "    <tr>\n",
       "      <th>YearsExperience</th>\n",
       "      <td>1.000000</td>\n",
       "      <td>0.978242</td>\n",
       "    </tr>\n",
       "    <tr>\n",
       "      <th>Salary</th>\n",
       "      <td>0.978242</td>\n",
       "      <td>1.000000</td>\n",
       "    </tr>\n",
       "  </tbody>\n",
       "</table>\n",
       "</div>"
      ],
      "text/plain": [
       "                 YearsExperience    Salary\n",
       "YearsExperience         1.000000  0.978242\n",
       "Salary                  0.978242  1.000000"
      ]
     },
     "execution_count": 9,
     "metadata": {},
     "output_type": "execute_result"
    }
   ],
   "source": [
    "df.corr()"
   ]
  },
  {
   "cell_type": "code",
   "execution_count": 10,
   "id": "3335a748",
   "metadata": {},
   "outputs": [
    {
     "data": {
      "image/png": "[encoded data removed]",
      "text/plain": [
       "<Figure size 640x480 with 2 Axes>"
      ]
     },
     "metadata": {},
     "output_type": "display_data"
    }
   ],
   "source": [
    "sns.heatmap(df.corr(),annot=True)\n",
    "plt.show()"
   ]
  },
  {
   "cell_type": "code",
   "execution_count": 11,
   "id": "39eec523",
   "metadata": {},
   "outputs": [
    {
     "data": {
      "text/plain": [
       "Index(['YearsExperience', 'Salary'], dtype='object')"
      ]
     },
     "execution_count": 11,
     "metadata": {},
     "output_type": "execute_result"
    }
   ],
   "source": [
    "df.columns"
   ]
  },
  {
   "cell_type": "code",
   "execution_count": 12,
   "id": "49f54f75",
   "metadata": {},
   "outputs": [
    {
     "data": {
      "text/plain": [
       "<matplotlib.collections.PathCollection at 0x29b05d38750>"
      ]
     },
     "execution_count": 12,
     "metadata": {},
     "output_type": "execute_result"
    },
    {
     "data": {
      "image/png": "[encoded data removed]",
      "text/plain": [
       "<Figure size 640x480 with 1 Axes>"
      ]
     },
     "metadata": {},
     "output_type": "display_data"
    }
   ],
   "source": [
    "plt.scatter(df['YearsExperience'],df['Salary'])"
   ]
  },
  {
   "cell_type": "markdown",
   "id": "9255a11f",
   "metadata": {},
   "source": [
    "- We divide data into two parts i.e input data and output data\n",
    "\n",
    "- input data = X; output data=y\n",
    "\n",
    "- Again we divide input data into two parts i.e train and test\n",
    "\n",
    "- input train data= x_train; input test data= x_test\n",
    "\n",
    "- similarly we divide output data into two parts i.e train and test\n",
    "\n",
    "- output train data= y_train; output test data= y_test\n",
    "\n",
    "- Model development happens on train data i.e x_train and y_train\n",
    "\n",
    "- Model will predict by passing x_test data, these are called y_predictions\n",
    "\n",
    "- y_predictions will compare with y_test , this is called test accuracy/ test error"
   ]
  },
  {
   "cell_type": "code",
   "execution_count": null,
   "id": "8a9a9712",
   "metadata": {},
   "outputs": [],
   "source": [
    "#x_train   y_train\n",
    "#1           1\n",
    "#2           4\n",
    "#3           9\n",
    "#4           16\n",
    "\n",
    "#x_test    y_test\n",
    "#5         25\n",
    "\n",
    "#develope a model (1,1) (2,4) (3,9) (4,16)\n",
    "#model will predict by passing 5 , y_predictions  we need to compare with y_test "
   ]
  },
  {
   "cell_type": "markdown",
   "id": "30df3412",
   "metadata": {},
   "source": [
    "$Step-3$\n",
    "\n",
    "**divide data into input and output data**"
   ]
  },
  {
   "cell_type": "code",
   "execution_count": 13,
   "id": "c7d6f78c",
   "metadata": {},
   "outputs": [
    {
     "data": {
      "text/plain": [
       "Index(['YearsExperience', 'Salary'], dtype='object')"
      ]
     },
     "execution_count": 13,
     "metadata": {},
     "output_type": "execute_result"
    }
   ],
   "source": [
    "df.columns"
   ]
  },
  {
   "cell_type": "code",
   "execution_count": 14,
   "id": "f042b370",
   "metadata": {},
   "outputs": [],
   "source": [
    "X=df['YearsExperience']\n",
    "y=df['Salary']"
   ]
  },
  {
   "cell_type": "markdown",
   "id": "ea5ef59a",
   "metadata": {},
   "source": [
    "$Step-4$\n",
    "\n",
    "**Divide data into train and test**"
   ]
  },
  {
   "cell_type": "code",
   "execution_count": 15,
   "id": "69337bdc",
   "metadata": {},
   "outputs": [],
   "source": [
    "from sklearn.model_selection import train_test_split\n",
    "X_train, X_test, y_train, y_test=train_test_split(X,  # Input data\n",
    "                                                  y,  # output data\n",
    "                                                  random_state=1234, # it select random samples\n",
    "                                                  test_size=0.30)\n",
    "\n",
    "# test size= 0.30 means 30% samples are test sample and 70% samples are train samples\n",
    "# test samples=9\n",
    "# train samples =21"
   ]
  },
  {
   "cell_type": "code",
   "execution_count": 16,
   "id": "4a5fe7bc",
   "metadata": {},
   "outputs": [
    {
     "data": {
      "text/plain": [
       "((21,), (9,))"
      ]
     },
     "execution_count": 16,
     "metadata": {},
     "output_type": "execute_result"
    }
   ],
   "source": [
    "X_train.shape, X_test.shape"
   ]
  },
  {
   "cell_type": "code",
   "execution_count": 17,
   "id": "3e69713c",
   "metadata": {},
   "outputs": [
    {
     "data": {
      "text/plain": [
       "((21,), (9,))"
      ]
     },
     "execution_count": 17,
     "metadata": {},
     "output_type": "execute_result"
    }
   ],
   "source": [
    "y_train.shape, y_test.shape"
   ]
  },
  {
   "cell_type": "code",
   "execution_count": 18,
   "id": "13fcf0f5",
   "metadata": {},
   "outputs": [
    {
     "data": {
      "text/plain": [
       "13     4.1\n",
       "22     7.9\n",
       "24     8.7\n",
       "0      1.1\n",
       "2      1.5\n",
       "27     9.6\n",
       "26     9.5\n",
       "18     5.9\n",
       "5      2.9\n",
       "16     5.1\n",
       "25     9.0\n",
       "11     4.0\n",
       "9      3.7\n",
       "17     5.3\n",
       "29    10.5\n",
       "20     6.8\n",
       "12     4.0\n",
       "21     7.1\n",
       "6      3.0\n",
       "19     6.0\n",
       "15     4.9\n",
       "Name: YearsExperience, dtype: float64"
      ]
     },
     "execution_count": 18,
     "metadata": {},
     "output_type": "execute_result"
    }
   ],
   "source": [
    "X_train"
   ]
  },
  {
   "cell_type": "code",
   "execution_count": 19,
   "id": "d0dbb935",
   "metadata": {},
   "outputs": [
    {
     "data": {
      "text/plain": [
       "9.0"
      ]
     },
     "execution_count": 19,
     "metadata": {},
     "output_type": "execute_result"
    }
   ],
   "source": [
    "df.shape\n",
    "30*0.30"
   ]
  },
  {
   "cell_type": "markdown",
   "id": "586d677d",
   "metadata": {},
   "source": [
    "$Step-5$\n",
    "\n",
    "**Model development**"
   ]
  },
  {
   "cell_type": "code",
   "execution_count": 20,
   "id": "ee23b4a5",
   "metadata": {},
   "outputs": [],
   "source": [
    "# Model development happens using train data\n",
    "# X_train    y_train\n",
    "#from sklearn.linear_model import LinearRegression\n",
    "#LR=LinearRegression()\n"
   ]
  },
  {
   "cell_type": "code",
   "execution_count": 21,
   "id": "8c357cbc",
   "metadata": {},
   "outputs": [
    {
     "data": {
      "text/plain": [
       "(21, 2)"
      ]
     },
     "execution_count": 21,
     "metadata": {},
     "output_type": "execute_result"
    }
   ],
   "source": [
    "X_train.shape\n",
    "\n",
    "(21,2)"
   ]
  },
  {
   "cell_type": "code",
   "execution_count": 22,
   "id": "97cca0ee",
   "metadata": {},
   "outputs": [
    {
     "data": {
      "text/plain": [
       "(30, 2)"
      ]
     },
     "execution_count": 22,
     "metadata": {},
     "output_type": "execute_result"
    }
   ],
   "source": [
    "df.shape   # 30 rows   2 columns"
   ]
  },
  {
   "cell_type": "code",
   "execution_count": 23,
   "id": "3fdd9866",
   "metadata": {},
   "outputs": [
    {
     "data": {
      "text/plain": [
       "2"
      ]
     },
     "execution_count": 23,
     "metadata": {},
     "output_type": "execute_result"
    }
   ],
   "source": [
    "df.ndim # number of dimensions"
   ]
  },
  {
   "cell_type": "code",
   "execution_count": 24,
   "id": "adfd00ca",
   "metadata": {},
   "outputs": [
    {
     "data": {
      "text/plain": [
       "1"
      ]
     },
     "execution_count": 24,
     "metadata": {},
     "output_type": "execute_result"
    }
   ],
   "source": [
    "X_train.ndim\n",
    "# 1 dimension means 1 column only\n",
    "# 2 dimension means 2 column only\n",
    "# when you have only 1 coulmn, the shape will not show the coulumn\n",
    "# (21,) it is only one column data having 21 observations\n",
    "# (9,) it is one column data having 9 observation\n",
    "# (30,2) it is 2 column data having 30 observation\n",
    "# Reshape the data if you have only one column"
   ]
  },
  {
   "cell_type": "code",
   "execution_count": 25,
   "id": "b2a8f51c",
   "metadata": {},
   "outputs": [
    {
     "data": {
      "text/html": [
       "<style>#sk-container-id-1 {color: black;}#sk-container-id-1 pre{padding: 0;}#sk-container-id-1 div.sk-toggleable {background-color: white;}#sk-container-id-1 label.sk-toggleable__label {cursor: pointer;display: block;width: 100%;margin-bottom: 0;padding: 0.3em;box-sizing: border-box;text-align: center;}#sk-container-id-1 label.sk-toggleable__label-arrow:before {content: \"▸\";float: left;margin-right: 0.25em;color: #696969;}#sk-container-id-1 label.sk-toggleable__label-arrow:hover:before {color: black;}#sk-container-id-1 div.sk-estimator:hover label.sk-toggleable__label-arrow:before {color: black;}#sk-container-id-1 div.sk-toggleable__content {max-height: 0;max-width: 0;overflow: hidden;text-align: left;background-color: #f0f8ff;}#sk-container-id-1 div.sk-toggleable__content pre {margin: 0.2em;color: black;border-radius: 0.25em;background-color: #f0f8ff;}#sk-container-id-1 input.sk-toggleable__control:checked~div.sk-toggleable__content {max-height: 200px;max-width: 100%;overflow: auto;}#sk-container-id-1 input.sk-toggleable__control:checked~label.sk-toggleable__label-arrow:before {content: \"▾\";}#sk-container-id-1 div.sk-estimator input.sk-toggleable__control:checked~label.sk-toggleable__label {background-color: #d4ebff;}#sk-container-id-1 div.sk-label input.sk-toggleable__control:checked~label.sk-toggleable__label {background-color: #d4ebff;}#sk-container-id-1 input.sk-hidden--visually {border: 0;clip: rect(1px 1px 1px 1px);clip: rect(1px, 1px, 1px, 1px);height: 1px;margin: -1px;overflow: hidden;padding: 0;position: absolute;width: 1px;}#sk-container-id-1 div.sk-estimator {font-family: monospace;background-color: #f0f8ff;border: 1px dotted black;border-radius: 0.25em;box-sizing: border-box;margin-bottom: 0.5em;}#sk-container-id-1 div.sk-estimator:hover {background-color: #d4ebff;}#sk-container-id-1 div.sk-parallel-item::after {content: \"\";width: 100%;border-bottom: 1px solid gray;flex-grow: 1;}#sk-container-id-1 div.sk-label:hover label.sk-toggleable__label {background-color: #d4ebff;}#sk-container-id-1 div.sk-serial::before {content: \"\";position: absolute;border-left: 1px solid gray;box-sizing: border-box;top: 0;bottom: 0;left: 50%;z-index: 0;}#sk-container-id-1 div.sk-serial {display: flex;flex-direction: column;align-items: center;background-color: white;padding-right: 0.2em;padding-left: 0.2em;position: relative;}#sk-container-id-1 div.sk-item {position: relative;z-index: 1;}#sk-container-id-1 div.sk-parallel {display: flex;align-items: stretch;justify-content: center;background-color: white;position: relative;}#sk-container-id-1 div.sk-item::before, #sk-container-id-1 div.sk-parallel-item::before {content: \"\";position: absolute;border-left: 1px solid gray;box-sizing: border-box;top: 0;bottom: 0;left: 50%;z-index: -1;}#sk-container-id-1 div.sk-parallel-item {display: flex;flex-direction: column;z-index: 1;position: relative;background-color: white;}#sk-container-id-1 div.sk-parallel-item:first-child::after {align-self: flex-end;width: 50%;}#sk-container-id-1 div.sk-parallel-item:last-child::after {align-self: flex-start;width: 50%;}#sk-container-id-1 div.sk-parallel-item:only-child::after {width: 0;}#sk-container-id-1 div.sk-dashed-wrapped {border: 1px dashed gray;margin: 0 0.4em 0.5em 0.4em;box-sizing: border-box;padding-bottom: 0.4em;background-color: white;}#sk-container-id-1 div.sk-label label {font-family: monospace;font-weight: bold;display: inline-block;line-height: 1.2em;}#sk-container-id-1 div.sk-label-container {text-align: center;}#sk-container-id-1 div.sk-container {/* jupyter's `normalize.less` sets `[hidden] { display: none; }` but bootstrap.min.css set `[hidden] { display: none !important; }` so we also need the `!important` here to be able to override the default hidden behavior on the sphinx rendered scikit-learn.org. See: https://github.com/scikit-learn/scikit-learn/issues/21755 */display: inline-block !important;position: relative;}#sk-container-id-1 div.sk-text-repr-fallback {display: none;}</style><div id=\"sk-container-id-1\" class=\"sk-top-container\"><div class=\"sk-text-repr-fallback\"><pre>LinearRegression()</pre><b>In a Jupyter environment, please rerun this cell to show the HTML representation or trust the notebook. <br />On GitHub, the HTML representation is unable to render, please try loading this page with nbviewer.org.</b></div><div class=\"sk-container\" hidden><div class=\"sk-item\"><div class=\"sk-estimator sk-toggleable\"><input class=\"sk-toggleable__control sk-hidden--visually\" id=\"sk-estimator-id-1\" type=\"checkbox\" checked><label for=\"sk-estimator-id-1\" class=\"sk-toggleable__label sk-toggleable__label-arrow\">LinearRegression</label><div class=\"sk-toggleable__content\"><pre>LinearRegression()</pre></div></div></div></div></div>"
      ],
      "text/plain": [
       "LinearRegression()"
      ]
     },
     "execution_count": 25,
     "metadata": {},
     "output_type": "execute_result"
    }
   ],
   "source": [
    "from sklearn.linear_model import LinearRegression\n",
    "LR=LinearRegression()\n",
    "LR.fit(X_train.array.reshape(-1, 1),\n",
    "       y_train)"
   ]
  },
  {
   "cell_type": "markdown",
   "id": "36cff938",
   "metadata": {},
   "source": [
    "$Step-6$\n",
    "\n",
    "**Model predictions**"
   ]
  },
  {
   "cell_type": "code",
   "execution_count": 26,
   "id": "279d5ded",
   "metadata": {},
   "outputs": [],
   "source": [
    "# Model predictions happens X_test\n",
    "y_predictions=LR.predict(X_test.array.reshape(-1, 1))"
   ]
  },
  {
   "cell_type": "code",
   "execution_count": 27,
   "id": "1cc2223d",
   "metadata": {},
   "outputs": [
    {
     "data": {
      "text/plain": [
       "array([ 55630.13259001,  62221.33017291,  46214.136043  ,  37739.7391507 ,\n",
       "       122483.70807372,  55630.13259001,  44330.9367336 , 102710.11532501,\n",
       "        67870.92810111])"
      ]
     },
     "execution_count": 27,
     "metadata": {},
     "output_type": "execute_result"
    }
   ],
   "source": [
    "y_predictions"
   ]
  },
  {
   "cell_type": "code",
   "execution_count": 28,
   "id": "ae6cc004",
   "metadata": {},
   "outputs": [
    {
     "data": {
      "text/plain": [
       "array([ 54445.,  63218.,  39891.,  46205., 122391.,  64445.,  43525.,\n",
       "       113812.,  61111.])"
      ]
     },
     "execution_count": 28,
     "metadata": {},
     "output_type": "execute_result"
    }
   ],
   "source": [
    "y_test.values"
   ]
  },
  {
   "cell_type": "markdown",
   "id": "617e8d60",
   "metadata": {},
   "source": [
    "$Step-7$\n",
    "\n",
    "**Model evaluation**"
   ]
  },
  {
   "cell_type": "code",
   "execution_count": 29,
   "id": "47edef34",
   "metadata": {},
   "outputs": [],
   "source": [
    "# RMSE\n",
    "# MSE\n",
    "# MAE\n",
    "# R-square\n",
    "\n",
    "from sklearn.metrics import r2_score,mean_squared_error"
   ]
  },
  {
   "cell_type": "code",
   "execution_count": 30,
   "id": "c837e5a8",
   "metadata": {},
   "outputs": [
    {
     "name": "stdout",
     "output_type": "stream",
     "text": [
      "R-sqaure: 0.949721948148016\n",
      "MSE: 40149896.466138825\n",
      "RMSE: 6336.39459520466\n"
     ]
    }
   ],
   "source": [
    "R2=r2_score(y_test,y_predictions)\n",
    "MSE=mean_squared_error(y_test,y_predictions)\n",
    "RMSE=np.sqrt(MSE)\n",
    "#accuracy_score(y_test,y_predictions) # it is a regression tech\n",
    "print(\"R-sqaure:\",R2)\n",
    "print(\"MSE:\",MSE)\n",
    "print(\"RMSE:\",RMSE)"
   ]
  },
  {
   "cell_type": "code",
   "execution_count": 31,
   "id": "c11a462f",
   "metadata": {},
   "outputs": [],
   "source": [
    "# Suppose your original salary is 50k\n",
    "# Our model will expecting either 44k  or  56k "
   ]
  },
  {
   "cell_type": "markdown",
   "id": "5ba3a92b",
   "metadata": {},
   "source": [
    "$Step-8$\n",
    "\n",
    "**Finding coeffiecnt and Intercept**"
   ]
  },
  {
   "cell_type": "markdown",
   "id": "07202565",
   "metadata": {},
   "source": [
    "- Coefficient means b0 ,b1 ,b2....\n",
    "\n",
    "- Coeffiecints depends on number of input features\n",
    "\n",
    "- In this data we have only one column as input i.e. Years of Experience\n",
    "\n",
    "- So we will get only one coeffiecnt"
   ]
  },
  {
   "cell_type": "code",
   "execution_count": 32,
   "id": "5cff308b",
   "metadata": {},
   "outputs": [
    {
     "name": "stdout",
     "output_type": "stream",
     "text": [
      "The coeffiecnt of Years_of_experience is: [9415.996547]\n"
     ]
    }
   ],
   "source": [
    "LR.coef_\n",
    "print(\"The coeffiecnt of Years_of_experience is:\",LR.coef_)"
   ]
  },
  {
   "cell_type": "code",
   "execution_count": 33,
   "id": "e9ca3ac4",
   "metadata": {},
   "outputs": [
    {
     "data": {
      "text/plain": [
       "25498.943639602097"
      ]
     },
     "execution_count": 33,
     "metadata": {},
     "output_type": "execute_result"
    }
   ],
   "source": [
    "LR.intercept_"
   ]
  },
  {
   "cell_type": "code",
   "execution_count": 34,
   "id": "aa3cc291",
   "metadata": {},
   "outputs": [
    {
     "data": {
      "text/plain": [
       "'YearsExperience'"
      ]
     },
     "execution_count": 34,
     "metadata": {},
     "output_type": "execute_result"
    }
   ],
   "source": [
    "df.columns[0]"
   ]
  },
  {
   "cell_type": "code",
   "execution_count": 35,
   "id": "e1c9a5e0",
   "metadata": {},
   "outputs": [],
   "source": [
    "#Regression_equation=LR.intercept_+LR.coef_*'YearsExperience'\n",
    "#Regression_equation"
   ]
  },
  {
   "cell_type": "markdown",
   "id": "17a00103",
   "metadata": {},
   "source": [
    "$Step-9$\n",
    "\n",
    "**Plot the regression line**\n",
    "\n",
    "- In order to plot regression line\n",
    "\n",
    "- We need to undertsand the two plots\n",
    "\n",
    "- Orginal data plot i.e input data(X) vs output data(y)\n",
    "\n",
    "- Regression plot i.e input data (X) vs predictions of regression model by passing input data (X)"
   ]
  },
  {
   "cell_type": "code",
   "execution_count": 36,
   "id": "e6db8430",
   "metadata": {},
   "outputs": [
    {
     "data": {
      "text/plain": [
       "[<matplotlib.lines.Line2D at 0x29b06ad1c50>]"
      ]
     },
     "execution_count": 36,
     "metadata": {},
     "output_type": "execute_result"
    },
    {
     "data": {
      "image/png": "[encoded data removed]",
      "text/plain": [
       "<Figure size 640x480 with 1 Axes>"
      ]
     },
     "metadata": {},
     "output_type": "display_data"
    }
   ],
   "source": [
    "# Draw the regression line on original data vs predictions on original data\n",
    "\n",
    "original_y_predictions=LR.predict(X.array.reshape(-1,1))\n",
    "plt.scatter(X,y,label='original data')  # Original plot\n",
    "plt.plot(X,original_y_predictions,color='red') # Regression plot"
   ]
  },
  {
   "cell_type": "markdown",
   "id": "12138870",
   "metadata": {},
   "source": [
    "$Step-10$\n",
    "\n",
    "**Stas.OLS method**"
   ]
  },
  {
   "cell_type": "code",
   "execution_count": 38,
   "id": "686c3407",
   "metadata": {},
   "outputs": [
    {
     "data": {
      "text/html": [
       "<table class=\"simpletable\">\n",
       "<caption>OLS Regression Results</caption>\n",
       "<tr>\n",
       "  <th>Dep. Variable:</th>         <td>Salary</td>      <th>  R-squared (uncentered):</th>      <td>   0.980</td>\n",
       "</tr>\n",
       "<tr>\n",
       "  <th>Model:</th>                   <td>OLS</td>       <th>  Adj. R-squared (uncentered):</th> <td>   0.979</td>\n",
       "</tr>\n",
       "<tr>\n",
       "  <th>Method:</th>             <td>Least Squares</td>  <th>  F-statistic:       </th>          <td>   961.4</td>\n",
       "</tr>\n",
       "<tr>\n",
       "  <th>Date:</th>             <td>Fri, 06 Oct 2023</td> <th>  Prob (F-statistic):</th>          <td>2.20e-18</td>\n",
       "</tr>\n",
       "<tr>\n",
       "  <th>Time:</th>                 <td>10:57:57</td>     <th>  Log-Likelihood:    </th>          <td> -226.92</td>\n",
       "</tr>\n",
       "<tr>\n",
       "  <th>No. Observations:</th>      <td>    21</td>      <th>  AIC:               </th>          <td>   455.8</td>\n",
       "</tr>\n",
       "<tr>\n",
       "  <th>Df Residuals:</th>          <td>    20</td>      <th>  BIC:               </th>          <td>   456.9</td>\n",
       "</tr>\n",
       "<tr>\n",
       "  <th>Df Model:</th>              <td>     1</td>      <th>                     </th>              <td> </td>   \n",
       "</tr>\n",
       "<tr>\n",
       "  <th>Covariance Type:</th>      <td>nonrobust</td>    <th>                     </th>              <td> </td>   \n",
       "</tr>\n",
       "</table>\n",
       "<table class=\"simpletable\">\n",
       "<tr>\n",
       "         <td></td>            <th>coef</th>     <th>std err</th>      <th>t</th>      <th>P>|t|</th>  <th>[0.025</th>    <th>0.975]</th>  \n",
       "</tr>\n",
       "<tr>\n",
       "  <th>YearsExperience</th> <td> 1.307e+04</td> <td>  421.648</td> <td>   31.007</td> <td> 0.000</td> <td> 1.22e+04</td> <td>  1.4e+04</td>\n",
       "</tr>\n",
       "</table>\n",
       "<table class=\"simpletable\">\n",
       "<tr>\n",
       "  <th>Omnibus:</th>       <td> 0.412</td> <th>  Durbin-Watson:     </th> <td>   1.562</td>\n",
       "</tr>\n",
       "<tr>\n",
       "  <th>Prob(Omnibus):</th> <td> 0.814</td> <th>  Jarque-Bera (JB):  </th> <td>   0.527</td>\n",
       "</tr>\n",
       "<tr>\n",
       "  <th>Skew:</th>          <td> 0.010</td> <th>  Prob(JB):          </th> <td>   0.768</td>\n",
       "</tr>\n",
       "<tr>\n",
       "  <th>Kurtosis:</th>      <td> 2.224</td> <th>  Cond. No.          </th> <td>    1.00</td>\n",
       "</tr>\n",
       "</table><br/><br/>Notes:<br/>[1] R² is computed without centering (uncentered) since the model does not contain a constant.<br/>[2] Standard Errors assume that the covariance matrix of the errors is correctly specified."
      ],
      "text/latex": [
       "\\begin{center}\n",
       "\\begin{tabular}{lclc}\n",
       "\\toprule\n",
       "\\textbf{Dep. Variable:}    &      Salary      & \\textbf{  R-squared (uncentered):}      &     0.980   \\\\\n",
       "\\textbf{Model:}            &       OLS        & \\textbf{  Adj. R-squared (uncentered):} &     0.979   \\\\\n",
       "\\textbf{Method:}           &  Least Squares   & \\textbf{  F-statistic:       }          &     961.4   \\\\\n",
       "\\textbf{Date:}             & Fri, 06 Oct 2023 & \\textbf{  Prob (F-statistic):}          &  2.20e-18   \\\\\n",
       "\\textbf{Time:}             &     10:57:57     & \\textbf{  Log-Likelihood:    }          &   -226.92   \\\\\n",
       "\\textbf{No. Observations:} &          21      & \\textbf{  AIC:               }          &     455.8   \\\\\n",
       "\\textbf{Df Residuals:}     &          20      & \\textbf{  BIC:               }          &     456.9   \\\\\n",
       "\\textbf{Df Model:}         &           1      & \\textbf{                     }          &             \\\\\n",
       "\\textbf{Covariance Type:}  &    nonrobust     & \\textbf{                     }          &             \\\\\n",
       "\\bottomrule\n",
       "\\end{tabular}\n",
       "\\begin{tabular}{lcccccc}\n",
       "                         & \\textbf{coef} & \\textbf{std err} & \\textbf{t} & \\textbf{P$> |$t$|$} & \\textbf{[0.025} & \\textbf{0.975]}  \\\\\n",
       "\\midrule\n",
       "\\textbf{YearsExperience} &    1.307e+04  &      421.648     &    31.007  &         0.000        &     1.22e+04    &      1.4e+04     \\\\\n",
       "\\bottomrule\n",
       "\\end{tabular}\n",
       "\\begin{tabular}{lclc}\n",
       "\\textbf{Omnibus:}       &  0.412 & \\textbf{  Durbin-Watson:     } &    1.562  \\\\\n",
       "\\textbf{Prob(Omnibus):} &  0.814 & \\textbf{  Jarque-Bera (JB):  } &    0.527  \\\\\n",
       "\\textbf{Skew:}          &  0.010 & \\textbf{  Prob(JB):          } &    0.768  \\\\\n",
       "\\textbf{Kurtosis:}      &  2.224 & \\textbf{  Cond. No.          } &     1.00  \\\\\n",
       "\\bottomrule\n",
       "\\end{tabular}\n",
       "%\\caption{OLS Regression Results}\n",
       "\\end{center}\n",
       "\n",
       "Notes: \\newline\n",
       " [1] R² is computed without centering (uncentered) since the model does not contain a constant. \\newline\n",
       " [2] Standard Errors assume that the covariance matrix of the errors is correctly specified."
      ],
      "text/plain": [
       "<class 'statsmodels.iolib.summary.Summary'>\n",
       "\"\"\"\n",
       "                                 OLS Regression Results                                \n",
       "=======================================================================================\n",
       "Dep. Variable:                 Salary   R-squared (uncentered):                   0.980\n",
       "Model:                            OLS   Adj. R-squared (uncentered):              0.979\n",
       "Method:                 Least Squares   F-statistic:                              961.4\n",
       "Date:                Fri, 06 Oct 2023   Prob (F-statistic):                    2.20e-18\n",
       "Time:                        10:57:57   Log-Likelihood:                         -226.92\n",
       "No. Observations:                  21   AIC:                                      455.8\n",
       "Df Residuals:                      20   BIC:                                      456.9\n",
       "Df Model:                           1                                                  \n",
       "Covariance Type:            nonrobust                                                  \n",
       "===================================================================================\n",
       "                      coef    std err          t      P>|t|      [0.025      0.975]\n",
       "-----------------------------------------------------------------------------------\n",
       "YearsExperience  1.307e+04    421.648     31.007      0.000    1.22e+04     1.4e+04\n",
       "==============================================================================\n",
       "Omnibus:                        0.412   Durbin-Watson:                   1.562\n",
       "Prob(Omnibus):                  0.814   Jarque-Bera (JB):                0.527\n",
       "Skew:                           0.010   Prob(JB):                        0.768\n",
       "Kurtosis:                       2.224   Cond. No.                         1.00\n",
       "==============================================================================\n",
       "\n",
       "Notes:\n",
       "[1] R² is computed without centering (uncentered) since the model does not contain a constant.\n",
       "[2] Standard Errors assume that the covariance matrix of the errors is correctly specified.\n",
       "\"\"\""
      ]
     },
     "execution_count": 38,
     "metadata": {},
     "output_type": "execute_result"
    }
   ],
   "source": [
    "from statsmodels.api import OLS\n",
    "OLS(y_train,X_train).fit().summary()"
   ]
  },
  {
   "cell_type": "code",
   "execution_count": null,
   "id": "9f7a3bed",
   "metadata": {},
   "outputs": [],
   "source": []
  },
  {
   "cell_type": "code",
   "execution_count": null,
   "id": "d0343647",
   "metadata": {},
   "outputs": [],
   "source": [
    "## All together\n",
    "\n",
    "################################## Data into two parts############################################\n",
    "X=df['YearsExperience']  \n",
    "y=df['Salary']\n",
    "\n",
    "\n",
    "################################ Train test split #################################################\n",
    "from sklearn.model_selection import train_test_split\n",
    "X_train, X_test, y_train, y_test=train_test_split(X,  # Input data\n",
    "                                                  y,  # output data\n",
    "                                                  random_state=1234, # it select random samples\n",
    "                                                  test_size=0.30)\n",
    "\n",
    "#########################Model predictions happens X_test############################################\n",
    "y_predictions=LR.predict(X_test.array.reshape(-1, 1))\n",
    "\n",
    "\n",
    "######################### Metrics######################################################################\n",
    "\n",
    "from sklearn.metrics import r2_score,mean_squared_error\n",
    "R2=r2_score(y_test,y_predictions)\n",
    "MSE=mean_squared_error(y_test,y_predictions)\n",
    "RMSE=np.sqrt(MSE)\n",
    "#accuracy_score(y_test,y_predictions) # it is a regression tech\n",
    "print(\"R-sqaure:\",R2)\n",
    "print(\"MSE:\",MSE)\n",
    "print(\"RMSE:\",RMSE)"
   ]
  },
  {
   "cell_type": "markdown",
   "id": "7b921c10",
   "metadata": {},
   "source": [
    "$Step-11$:\n",
    "    \n",
    "**Save the model**"
   ]
  },
  {
   "cell_type": "code",
   "execution_count": 38,
   "id": "845964d7",
   "metadata": {},
   "outputs": [],
   "source": [
    "import pickle\n",
    "pickle.dump(LR,\n",
    "            open('linear_salary_model.pkl','wb'))\n",
    "\n",
    "#Model name=LR\n",
    "#In which name the model is saving: linear_slaary_model\n",
    "# extenstion: Pickle\n",
    "# wb: write in bytes"
   ]
  },
  {
   "cell_type": "markdown",
   "id": "f09cf97f",
   "metadata": {},
   "source": [
    "$Step-12$:\n",
    "\n",
    "**Load the model**"
   ]
  },
  {
   "cell_type": "code",
   "execution_count": 39,
   "id": "228ae2bb",
   "metadata": {},
   "outputs": [
    {
     "data": {
      "text/html": [
       "<style>#sk-container-id-2 {color: black;}#sk-container-id-2 pre{padding: 0;}#sk-container-id-2 div.sk-toggleable {background-color: white;}#sk-container-id-2 label.sk-toggleable__label {cursor: pointer;display: block;width: 100%;margin-bottom: 0;padding: 0.3em;box-sizing: border-box;text-align: center;}#sk-container-id-2 label.sk-toggleable__label-arrow:before {content: \"▸\";float: left;margin-right: 0.25em;color: #696969;}#sk-container-id-2 label.sk-toggleable__label-arrow:hover:before {color: black;}#sk-container-id-2 div.sk-estimator:hover label.sk-toggleable__label-arrow:before {color: black;}#sk-container-id-2 div.sk-toggleable__content {max-height: 0;max-width: 0;overflow: hidden;text-align: left;background-color: #f0f8ff;}#sk-container-id-2 div.sk-toggleable__content pre {margin: 0.2em;color: black;border-radius: 0.25em;background-color: #f0f8ff;}#sk-container-id-2 input.sk-toggleable__control:checked~div.sk-toggleable__content {max-height: 200px;max-width: 100%;overflow: auto;}#sk-container-id-2 input.sk-toggleable__control:checked~label.sk-toggleable__label-arrow:before {content: \"▾\";}#sk-container-id-2 div.sk-estimator input.sk-toggleable__control:checked~label.sk-toggleable__label {background-color: #d4ebff;}#sk-container-id-2 div.sk-label input.sk-toggleable__control:checked~label.sk-toggleable__label {background-color: #d4ebff;}#sk-container-id-2 input.sk-hidden--visually {border: 0;clip: rect(1px 1px 1px 1px);clip: rect(1px, 1px, 1px, 1px);height: 1px;margin: -1px;overflow: hidden;padding: 0;position: absolute;width: 1px;}#sk-container-id-2 div.sk-estimator {font-family: monospace;background-color: #f0f8ff;border: 1px dotted black;border-radius: 0.25em;box-sizing: border-box;margin-bottom: 0.5em;}#sk-container-id-2 div.sk-estimator:hover {background-color: #d4ebff;}#sk-container-id-2 div.sk-parallel-item::after {content: \"\";width: 100%;border-bottom: 1px solid gray;flex-grow: 1;}#sk-container-id-2 div.sk-label:hover label.sk-toggleable__label {background-color: #d4ebff;}#sk-container-id-2 div.sk-serial::before {content: \"\";position: absolute;border-left: 1px solid gray;box-sizing: border-box;top: 0;bottom: 0;left: 50%;z-index: 0;}#sk-container-id-2 div.sk-serial {display: flex;flex-direction: column;align-items: center;background-color: white;padding-right: 0.2em;padding-left: 0.2em;position: relative;}#sk-container-id-2 div.sk-item {position: relative;z-index: 1;}#sk-container-id-2 div.sk-parallel {display: flex;align-items: stretch;justify-content: center;background-color: white;position: relative;}#sk-container-id-2 div.sk-item::before, #sk-container-id-2 div.sk-parallel-item::before {content: \"\";position: absolute;border-left: 1px solid gray;box-sizing: border-box;top: 0;bottom: 0;left: 50%;z-index: -1;}#sk-container-id-2 div.sk-parallel-item {display: flex;flex-direction: column;z-index: 1;position: relative;background-color: white;}#sk-container-id-2 div.sk-parallel-item:first-child::after {align-self: flex-end;width: 50%;}#sk-container-id-2 div.sk-parallel-item:last-child::after {align-self: flex-start;width: 50%;}#sk-container-id-2 div.sk-parallel-item:only-child::after {width: 0;}#sk-container-id-2 div.sk-dashed-wrapped {border: 1px dashed gray;margin: 0 0.4em 0.5em 0.4em;box-sizing: border-box;padding-bottom: 0.4em;background-color: white;}#sk-container-id-2 div.sk-label label {font-family: monospace;font-weight: bold;display: inline-block;line-height: 1.2em;}#sk-container-id-2 div.sk-label-container {text-align: center;}#sk-container-id-2 div.sk-container {/* jupyter's `normalize.less` sets `[hidden] { display: none; }` but bootstrap.min.css set `[hidden] { display: none !important; }` so we also need the `!important` here to be able to override the default hidden behavior on the sphinx rendered scikit-learn.org. See: https://github.com/scikit-learn/scikit-learn/issues/21755 */display: inline-block !important;position: relative;}#sk-container-id-2 div.sk-text-repr-fallback {display: none;}</style><div id=\"sk-container-id-2\" class=\"sk-top-container\"><div class=\"sk-text-repr-fallback\"><pre>LinearRegression()</pre><b>In a Jupyter environment, please rerun this cell to show the HTML representation or trust the notebook. <br />On GitHub, the HTML representation is unable to render, please try loading this page with nbviewer.org.</b></div><div class=\"sk-container\" hidden><div class=\"sk-item\"><div class=\"sk-estimator sk-toggleable\"><input class=\"sk-toggleable__control sk-hidden--visually\" id=\"sk-estimator-id-2\" type=\"checkbox\" checked><label for=\"sk-estimator-id-2\" class=\"sk-toggleable__label sk-toggleable__label-arrow\">LinearRegression</label><div class=\"sk-toggleable__content\"><pre>LinearRegression()</pre></div></div></div></div></div>"
      ],
      "text/plain": [
       "LinearRegression()"
      ]
     },
     "execution_count": 39,
     "metadata": {},
     "output_type": "execute_result"
    }
   ],
   "source": [
    "# Loading model to compare the results\n",
    "model = pickle.load(open('linear_salary_model.pkl','rb'))\n",
    "model"
   ]
  },
  {
   "cell_type": "markdown",
   "id": "36e3d2bc",
   "metadata": {},
   "source": [
    "$Step-13$:\n",
    "    \n",
    "**Predictions**"
   ]
  },
  {
   "cell_type": "code",
   "execution_count": 42,
   "id": "5d2fdb48",
   "metadata": {},
   "outputs": [
    {
     "data": {
      "text/plain": [
       "<PandasArray>\n",
       "[\n",
       "[1.1],\n",
       "[1.3],\n",
       "[1.5],\n",
       "[2.0],\n",
       "[2.2],\n",
       "[2.9],\n",
       "[3.0],\n",
       "[3.2],\n",
       "[3.2],\n",
       "[3.7],\n",
       "[3.9],\n",
       "[4.0],\n",
       "[4.0],\n",
       "[4.1],\n",
       "[4.5],\n",
       "[4.9],\n",
       "[5.1],\n",
       "[5.3],\n",
       "[5.9],\n",
       "[6.0],\n",
       "[6.8],\n",
       "[7.1],\n",
       "[7.9],\n",
       "[8.2],\n",
       "[8.7],\n",
       "[9.0],\n",
       "[9.5],\n",
       "[9.6],\n",
       "[10.3],\n",
       "[10.5]\n",
       "]\n",
       "Shape: (30, 1), dtype: float64"
      ]
     },
     "execution_count": 42,
     "metadata": {},
     "output_type": "execute_result"
    }
   ],
   "source": [
    "X.array.reshape(-1,1)"
   ]
  },
  {
   "cell_type": "code",
   "execution_count": 45,
   "id": "da79de35",
   "metadata": {},
   "outputs": [
    {
     "data": {
      "text/plain": [
       "array([53746.93328061, 58454.93155411, 63162.92982761])"
      ]
     },
     "execution_count": 45,
     "metadata": {},
     "output_type": "execute_result"
    }
   ],
   "source": [
    "model.predict([[3],\n",
    "               [3.5],\n",
    "               [4]])"
   ]
  },
  {
   "cell_type": "code",
   "execution_count": 47,
   "id": "34133b62",
   "metadata": {},
   "outputs": [
    {
     "data": {
      "text/plain": [
       "array([39622.9384601 , 49038.93500711, 58454.93155411])"
      ]
     },
     "execution_count": 47,
     "metadata": {},
     "output_type": "execute_result"
    }
   ],
   "source": [
    "test_sample=[[1.5],[2.5],[3.5]]\n",
    "model.predict(test_sample)"
   ]
  },
  {
   "cell_type": "code",
   "execution_count": 37,
   "id": "db123a95",
   "metadata": {},
   "outputs": [
    {
     "data": {
      "text/plain": [
       "'C:\\\\Users\\\\omkar\\\\OneDrive\\\\Documents\\\\Data science\\\\Naresh IT\\\\Data science\\\\Batch-2_July3\\\\ML python\\\\Linear_regression'"
      ]
     },
     "execution_count": 37,
     "metadata": {},
     "output_type": "execute_result"
    },
    {
     "name": "stdout",
     "output_type": "stream",
     "text": [
      "The history saving thread hit an unexpected error (OperationalError('database or disk is full')).History will not be written to the database.\n"
     ]
    }
   ],
   "source": [
    "import os\n",
    "os.getcwd()"
   ]
  },
  {
   "cell_type": "code",
   "execution_count": null,
   "id": "5db7e8d1",
   "metadata": {},
   "outputs": [],
   "source": []
  }
 ],
 "metadata": {
  "kernelspec": {
   "display_name": "Python 3 (ipykernel)",
   "language": "python",
   "name": "python3"
  },
  "language_info": {
   "codemirror_mode": {
    "name": "ipython",
    "version": 3
   },
   "file_extension": ".py",
   "mimetype": "text/x-python",
   "name": "python",
   "nbconvert_exporter": "python",
   "pygments_lexer": "ipython3",
   "version": "3.11.5"
  }
 },
 "nbformat": 4,
 "nbformat_minor": 5
}
